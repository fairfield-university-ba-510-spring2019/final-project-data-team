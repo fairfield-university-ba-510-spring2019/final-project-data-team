{
 "cells": [
  {
   "cell_type": "markdown",
   "metadata": {},
   "source": [
    "## Import Necessary Packages and Connection Strings"
   ]
  },
  {
   "cell_type": "code",
   "execution_count": 1,
   "metadata": {},
   "outputs": [],
   "source": [
    "# All query results are returned as Pandas DataFrames \n",
    "import pandas as pd\n",
    "\n",
    "# Needed for %sql Magic\n",
    "%load_ext sql\n",
    "\n",
    "import sqlite3\n",
    "\n",
    "conn = sqlite3.connect(\"./CourseDataWarehouseFinal.db\")"
   ]
  },
  {
   "cell_type": "code",
   "execution_count": 2,
   "metadata": {},
   "outputs": [
    {
     "data": {
      "text/plain": [
       "'Connected: @CourseDataWarehouseFinal.db'"
      ]
     },
     "execution_count": 2,
     "metadata": {},
     "output_type": "execute_result"
    }
   ],
   "source": [
    "%sql sqlite:///CourseDataWarehouseFinal.db"
   ]
  },
  {
   "cell_type": "markdown",
   "metadata": {},
   "source": [
    "## Domain Integrity Constraints"
   ]
  },
  {
   "cell_type": "code",
   "execution_count": 3,
   "metadata": {},
   "outputs": [
    {
     "name": "stdout",
     "output_type": "stream",
     "text": [
      " * sqlite:///CourseDataWarehouseFinal.db\n",
      "Done.\n"
     ]
    },
    {
     "data": {
      "text/html": [
       "<table>\n",
       "    <tr>\n",
       "        <th>count(fees)</th>\n",
       "    </tr>\n",
       "    <tr>\n",
       "        <td>125</td>\n",
       "    </tr>\n",
       "</table>"
      ],
      "text/plain": [
       "[(125,)]"
      ]
     },
     "execution_count": 3,
     "metadata": {},
     "output_type": "execute_result"
    }
   ],
   "source": [
    "%%sql\n",
    "SELECT count(fees)\n",
    "FROM dimCourses;"
   ]
  },
  {
   "cell_type": "code",
   "execution_count": 4,
   "metadata": {},
   "outputs": [
    {
     "name": "stdout",
     "output_type": "stream",
     "text": [
      " * sqlite:///CourseDataWarehouseFinal.db\n",
      "Done.\n"
     ]
    },
    {
     "data": {
      "text/html": [
       "<table>\n",
       "    <tr>\n",
       "        <th>count(fees)</th>\n",
       "    </tr>\n",
       "    <tr>\n",
       "        <td>125</td>\n",
       "    </tr>\n",
       "</table>"
      ],
      "text/plain": [
       "[(125,)]"
      ]
     },
     "execution_count": 4,
     "metadata": {},
     "output_type": "execute_result"
    }
   ],
   "source": [
    "%%sql \n",
    "SELECT DISTINCT count(fees)\n",
    "FROM dimCourses;"
   ]
  },
  {
   "cell_type": "code",
   "execution_count": 5,
   "metadata": {},
   "outputs": [
    {
     "name": "stdout",
     "output_type": "stream",
     "text": [
      " * sqlite:///CourseDataWarehouseFinal.db\n",
      "Done.\n"
     ]
    },
    {
     "data": {
      "text/html": [
       "<table>\n",
       "    <tr>\n",
       "        <th>count(CRN)</th>\n",
       "    </tr>\n",
       "    <tr>\n",
       "        <td>13860</td>\n",
       "    </tr>\n",
       "</table>"
      ],
      "text/plain": [
       "[(13860,)]"
      ]
     },
     "execution_count": 5,
     "metadata": {},
     "output_type": "execute_result"
    }
   ],
   "source": [
    "%%sql\n",
    "SELECT count(CRN)\n",
    "FROM dimTerm;"
   ]
  },
  {
   "cell_type": "code",
   "execution_count": 6,
   "metadata": {},
   "outputs": [
    {
     "name": "stdout",
     "output_type": "stream",
     "text": [
      " * sqlite:///CourseDataWarehouseFinal.db\n",
      "Done.\n"
     ]
    },
    {
     "data": {
      "text/html": [
       "<table>\n",
       "    <tr>\n",
       "        <th>count(CRN)</th>\n",
       "    </tr>\n",
       "    <tr>\n",
       "        <td>13860</td>\n",
       "    </tr>\n",
       "</table>"
      ],
      "text/plain": [
       "[(13860,)]"
      ]
     },
     "execution_count": 6,
     "metadata": {},
     "output_type": "execute_result"
    }
   ],
   "source": [
    "%%sql\n",
    "SELECT DISTINCT count(CRN)\n",
    "FROM dimTerm;"
   ]
  },
  {
   "cell_type": "code",
   "execution_count": 7,
   "metadata": {},
   "outputs": [
    {
     "name": "stdout",
     "output_type": "stream",
     "text": [
      " * sqlite:///CourseDataWarehouseFinal.db\n",
      "Done.\n"
     ]
    },
    {
     "data": {
      "text/html": [
       "<table>\n",
       "    <tr>\n",
       "        <th>count(term)</th>\n",
       "    </tr>\n",
       "    <tr>\n",
       "        <td>16</td>\n",
       "    </tr>\n",
       "</table>"
      ],
      "text/plain": [
       "[(16,)]"
      ]
     },
     "execution_count": 7,
     "metadata": {},
     "output_type": "execute_result"
    }
   ],
   "source": [
    "%%sql\n",
    "SELECT count(term)\n",
    "FROM dimDate;"
   ]
  },
  {
   "cell_type": "code",
   "execution_count": 8,
   "metadata": {},
   "outputs": [
    {
     "name": "stdout",
     "output_type": "stream",
     "text": [
      " * sqlite:///CourseDataWarehouseFinal.db\n",
      "Done.\n"
     ]
    },
    {
     "data": {
      "text/html": [
       "<table>\n",
       "    <tr>\n",
       "        <th>count(term)</th>\n",
       "    </tr>\n",
       "    <tr>\n",
       "        <td>16</td>\n",
       "    </tr>\n",
       "</table>"
      ],
      "text/plain": [
       "[(16,)]"
      ]
     },
     "execution_count": 8,
     "metadata": {},
     "output_type": "execute_result"
    }
   ],
   "source": [
    "%%sql\n",
    "SELECT DISTINCT count(term)\n",
    "FROM dimDate;"
   ]
  },
  {
   "cell_type": "markdown",
   "metadata": {},
   "source": [
    "## Entity Integrity Constraints"
   ]
  },
  {
   "cell_type": "code",
   "execution_count": 9,
   "metadata": {},
   "outputs": [
    {
     "name": "stdout",
     "output_type": "stream",
     "text": [
      " * sqlite:///CourseDataWarehouseFinal.db\n",
      "Done.\n"
     ]
    },
    {
     "data": {
      "text/html": [
       "<table>\n",
       "    <tr>\n",
       "        <th>Number of Program Codes</th>\n",
       "        <th>Number of Catalog IDs</th>\n",
       "    </tr>\n",
       "    <tr>\n",
       "        <td>2220</td>\n",
       "        <td>2220</td>\n",
       "    </tr>\n",
       "</table>"
      ],
      "text/plain": [
       "[(2220, 2220)]"
      ]
     },
     "execution_count": 9,
     "metadata": {},
     "output_type": "execute_result"
    }
   ],
   "source": [
    "%%sql\n",
    "SELECT count(program_code) as \"Number of Program Codes\", count(catalog_id) as \"Number of Catalog IDs\"\n",
    "FROM dimCourses;"
   ]
  },
  {
   "cell_type": "code",
   "execution_count": 10,
   "metadata": {},
   "outputs": [
    {
     "name": "stdout",
     "output_type": "stream",
     "text": [
      " * sqlite:///CourseDataWarehouseFinal.db\n",
      "Done.\n"
     ]
    },
    {
     "data": {
      "text/html": [
       "<table>\n",
       "    <tr>\n",
       "        <th>Number of Program Codes</th>\n",
       "        <th>Number of Catalog IDs</th>\n",
       "    </tr>\n",
       "    <tr>\n",
       "        <td>2220</td>\n",
       "        <td>2220</td>\n",
       "    </tr>\n",
       "</table>"
      ],
      "text/plain": [
       "[(2220, 2220)]"
      ]
     },
     "execution_count": 10,
     "metadata": {},
     "output_type": "execute_result"
    }
   ],
   "source": [
    "%%sql\n",
    "SELECT DISTINCT count(program_code) as \"Number of Program Codes\", count(catalog_id) as \"Number of Catalog IDs\"\n",
    "FROM dimCourses;"
   ]
  },
  {
   "cell_type": "code",
   "execution_count": 11,
   "metadata": {},
   "outputs": [
    {
     "name": "stdout",
     "output_type": "stream",
     "text": [
      " * sqlite:///CourseDataWarehouseFinal.db\n",
      "Done.\n"
     ]
    },
    {
     "data": {
      "text/html": [
       "<table>\n",
       "    <tr>\n",
       "        <th>Program Code Null Values</th>\n",
       "        <th>Catalog_ID Null Values</th>\n",
       "    </tr>\n",
       "    <tr>\n",
       "        <td>0</td>\n",
       "        <td>0</td>\n",
       "    </tr>\n",
       "</table>"
      ],
      "text/plain": [
       "[(0, 0)]"
      ]
     },
     "execution_count": 11,
     "metadata": {},
     "output_type": "execute_result"
    }
   ],
   "source": [
    "%%sql \n",
    "SELECT sum(program_code) IS NULL as \"Program Code Null Values\", sum(catalog_id) IS NULL as \"Catalog_ID Null Values\"\n",
    "FROM dimCourses;\n"
   ]
  },
  {
   "cell_type": "code",
   "execution_count": 12,
   "metadata": {},
   "outputs": [
    {
     "name": "stdout",
     "output_type": "stream",
     "text": [
      " * sqlite:///CourseDataWarehouseFinal.db\n",
      "Done.\n"
     ]
    },
    {
     "data": {
      "text/html": [
       "<table>\n",
       "    <tr>\n",
       "        <th>Number of CRNs</th>\n",
       "        <th>Number of Terms</th>\n",
       "    </tr>\n",
       "    <tr>\n",
       "        <td>13860</td>\n",
       "        <td>13860</td>\n",
       "    </tr>\n",
       "</table>"
      ],
      "text/plain": [
       "[(13860, 13860)]"
      ]
     },
     "execution_count": 12,
     "metadata": {},
     "output_type": "execute_result"
    }
   ],
   "source": [
    "%%sql\n",
    "SELECT count(crn) as \"Number of CRNs\", count(term) as \"Number of Terms\"\n",
    "FROM dimTerm;\n"
   ]
  },
  {
   "cell_type": "code",
   "execution_count": 13,
   "metadata": {},
   "outputs": [
    {
     "name": "stdout",
     "output_type": "stream",
     "text": [
      " * sqlite:///CourseDataWarehouseFinal.db\n",
      "Done.\n"
     ]
    },
    {
     "data": {
      "text/html": [
       "<table>\n",
       "    <tr>\n",
       "        <th>Number of CRNs</th>\n",
       "        <th>Number of Terms</th>\n",
       "    </tr>\n",
       "    <tr>\n",
       "        <td>13860</td>\n",
       "        <td>13860</td>\n",
       "    </tr>\n",
       "</table>"
      ],
      "text/plain": [
       "[(13860, 13860)]"
      ]
     },
     "execution_count": 13,
     "metadata": {},
     "output_type": "execute_result"
    }
   ],
   "source": [
    "%%sql\n",
    "SELECT DISTINCT count(crn) as \"Number of CRNs\", count(term) as \"Number of Terms\"\n",
    "FROM dimTerm;"
   ]
  },
  {
   "cell_type": "code",
   "execution_count": 14,
   "metadata": {},
   "outputs": [
    {
     "name": "stdout",
     "output_type": "stream",
     "text": [
      " * sqlite:///CourseDataWarehouseFinal.db\n",
      "Done.\n"
     ]
    },
    {
     "data": {
      "text/html": [
       "<table>\n",
       "    <tr>\n",
       "        <th>CRN Null Values</th>\n",
       "        <th>Term Null Values</th>\n",
       "    </tr>\n",
       "    <tr>\n",
       "        <td>0</td>\n",
       "        <td>0</td>\n",
       "    </tr>\n",
       "</table>"
      ],
      "text/plain": [
       "[(0, 0)]"
      ]
     },
     "execution_count": 14,
     "metadata": {},
     "output_type": "execute_result"
    }
   ],
   "source": [
    "%%sql\n",
    "SELECT sum(crn) IS NULL as \"CRN Null Values\", sum(term) IS NULL as \"Term Null Values\"\n",
    "FROM dimTerm;"
   ]
  },
  {
   "cell_type": "markdown",
   "metadata": {},
   "source": [
    "## Relational Integrity Constraints"
   ]
  },
  {
   "cell_type": "code",
   "execution_count": 19,
   "metadata": {},
   "outputs": [
    {
     "name": "stdout",
     "output_type": "stream",
     "text": [
      " * sqlite:///CourseDataWarehouseFinal.db\n",
      "Done.\n"
     ]
    },
    {
     "data": {
      "text/html": [
       "<table>\n",
       "    <tr>\n",
       "        <th>program_code</th>\n",
       "        <th>catalog_id</th>\n",
       "        <th>course_title</th>\n",
       "        <th>credits</th>\n",
       "        <th>prereqs</th>\n",
       "        <th>coreqs</th>\n",
       "        <th>fees</th>\n",
       "        <th>attributes</th>\n",
       "        <th>description</th>\n",
       "        <th>program_code_1</th>\n",
       "        <th>Term</th>\n",
       "        <th>Location</th>\n",
       "        <th>StartDate</th>\n",
       "        <th>EndDate</th>\n",
       "    </tr>\n",
       "    <tr>\n",
       "        <td>AC</td>\n",
       "        <td>AC 0011</td>\n",
       "        <td>Introduction to Financial Accounting</td>\n",
       "        <td>3 Credits</td>\n",
       "        <td>None</td>\n",
       "        <td>None</td>\n",
       "        <td>None</td>\n",
       "        <td>None</td>\n",
       "        <td>This course introduces students to financial accounting. Students learn to read and comprehend published financial statements and are introduced to the financial reporting process. Topics include financial statement analysis; accrual accounting; revenue and expense recognition; and accounting for assets, liabilities, and equities.</td>\n",
       "        <td>AC</td>\n",
       "        <td>Fall2014</td>\n",
       "        <td>DSB105</td>\n",
       "        <td>2014-08-16</td>\n",
       "        <td>2014-12-29</td>\n",
       "    </tr>\n",
       "    <tr>\n",
       "        <td>AC</td>\n",
       "        <td>AC 0012</td>\n",
       "        <td>Introduction to Management Accounting</td>\n",
       "        <td>3 Credits</td>\n",
       "        <td>AC 0011.</td>\n",
       "        <td>None</td>\n",
       "        <td>None</td>\n",
       "        <td>None</td>\n",
       "        <td>This course introduces students to managerial accounting and the role of accounting information in managerial decision-making. Topics include a description of basic cost elements; the interrelationship between fixed costs, variable costs, and profit; and methods of accumulating the costs associated with producing products and providing services (e.g., activity-based costing), so that students can make recommendations about performance evaluation, project evaluation and other management decisions.</td>\n",
       "        <td>AC</td>\n",
       "        <td>Fall2014</td>\n",
       "        <td>DSB105</td>\n",
       "        <td>2014-08-16</td>\n",
       "        <td>2014-12-29</td>\n",
       "    </tr>\n",
       "    <tr>\n",
       "        <td>AC</td>\n",
       "        <td>AC 0203</td>\n",
       "        <td>Intermediate Accounting I</td>\n",
       "        <td>3 Credits</td>\n",
       "        <td>AC 0011.</td>\n",
       "        <td>None</td>\n",
       "        <td>None</td>\n",
       "        <td>None</td>\n",
       "        <td>This course provides an in-depth study of financial accounting theory and concepts, and the presentation of financial statements in conformity with Generally Accepted Accounting Principles (GAAP). The course emphasizes balance sheet valuations and their relationship to income measurement and determination.</td>\n",
       "        <td>AC</td>\n",
       "        <td>Fall2014</td>\n",
       "        <td>DSB105</td>\n",
       "        <td>2014-08-16</td>\n",
       "        <td>2014-12-29</td>\n",
       "    </tr>\n",
       "    <tr>\n",
       "        <td>AC</td>\n",
       "        <td>AC 0204</td>\n",
       "        <td>Intermediate Accounting II</td>\n",
       "        <td>3 Credits</td>\n",
       "        <td>AC 0203.</td>\n",
       "        <td>None</td>\n",
       "        <td>None</td>\n",
       "        <td>None</td>\n",
       "        <td>This course continues the in-depth study of financial accounting theory and concepts, and the presentation of financial statements in conformity with Generally Accepted Accounting Principles (GAAP) begun in </td>\n",
       "        <td>AC</td>\n",
       "        <td>Fall2014</td>\n",
       "        <td>DSB105</td>\n",
       "        <td>2014-08-16</td>\n",
       "        <td>2014-12-29</td>\n",
       "    </tr>\n",
       "    <tr>\n",
       "        <td>AC</td>\n",
       "        <td>AC 0265</td>\n",
       "        <td>Accounting Information Systems</td>\n",
       "        <td>3 Credits</td>\n",
       "        <td>AC 0012.</td>\n",
       "        <td>None</td>\n",
       "        <td>None</td>\n",
       "        <td>None</td>\n",
       "        <td>This course analyzes the methods used to capture, process, and communicate accounting information in a modern business enterprise. Students learn to document business transaction cycles using data-flow diagrams and flowcharts. They analyze the accounting information system, identify weaknesses, and recommend improvements to internal control. Students process accounting information through a modern database management application program such as a general ledger package or an enterprise resource planning system.</td>\n",
       "        <td>AC</td>\n",
       "        <td>Fall2014</td>\n",
       "        <td>DSB105</td>\n",
       "        <td>2014-08-16</td>\n",
       "        <td>2014-12-29</td>\n",
       "    </tr>\n",
       "</table>"
      ],
      "text/plain": [
       "[('AC', 'AC 0011', 'Introduction to Financial Accounting', '3 Credits', None, None, None, None, 'This course introduces students to financial accounting. Students learn to read and comprehend published financial statements and are introduced to t ... (34 characters truncated) ... pics include financial statement analysis; accrual accounting; revenue and expense recognition; and accounting for assets, liabilities, and equities.', 'AC', 'Fall2014', 'DSB105', '2014-08-16', '2014-12-29'),\n",
       " ('AC', 'AC 0012', 'Introduction to Management Accounting', '3 Credits', 'AC 0011.', None, None, None, 'This course introduces students to managerial accounting and the role of accounting information in managerial decision-making. Topics include a descr ... (203 characters truncated) ... , activity-based costing), so that students can make recommendations about performance evaluation, project evaluation and other management decisions.', 'AC', 'Fall2014', 'DSB105', '2014-08-16', '2014-12-29'),\n",
       " ('AC', 'AC 0203', 'Intermediate Accounting I', '3 Credits', 'AC 0011.', None, None, None, 'This course provides an in-depth study of financial accounting theory and concepts, and the presentation of financial statements in conformity with G ... (9 characters truncated) ... Accepted Accounting Principles (GAAP). The course emphasizes balance sheet valuations and their relationship to income measurement and determination.', 'AC', 'Fall2014', 'DSB105', '2014-08-16', '2014-12-29'),\n",
       " ('AC', 'AC 0204', 'Intermediate Accounting II', '3 Credits', 'AC 0203.', None, None, None, 'This course continues the in-depth study of financial accounting theory and concepts, and the presentation of financial statements in conformity with Generally Accepted Accounting Principles (GAAP) begun in ', 'AC', 'Fall2014', 'DSB105', '2014-08-16', '2014-12-29'),\n",
       " ('AC', 'AC 0265', 'Accounting Information Systems', '3 Credits', 'AC 0012.', None, None, None, 'This course analyzes the methods used to capture, process, and communicate accounting information in a modern business enterprise. Students learn to  ... (218 characters truncated) ... ting information through a modern database management application program such as a general ledger package or an enterprise resource planning system.', 'AC', 'Fall2014', 'DSB105', '2014-08-16', '2014-12-29')]"
      ]
     },
     "execution_count": 19,
     "metadata": {},
     "output_type": "execute_result"
    }
   ],
   "source": [
    "%%sql\n",
    "SELECT *\n",
    "FROM dimCourses\n",
    "JOIN factClass ON dimCourses.program_code = factClass.program_code\n",
    "LIMIT 5;"
   ]
  },
  {
   "cell_type": "code",
   "execution_count": 25,
   "metadata": {},
   "outputs": [
    {
     "name": "stdout",
     "output_type": "stream",
     "text": [
      " * sqlite:///CourseDataWarehouseFinal.db\n",
      "Done.\n"
     ]
    },
    {
     "data": {
      "text/html": [
       "<table>\n",
       "    <tr>\n",
       "        <th>term</th>\n",
       "        <th>StartDate</th>\n",
       "        <th>EndDate</th>\n",
       "        <th>program_code</th>\n",
       "        <th>Term</th>\n",
       "        <th>Location</th>\n",
       "        <th>StartDate_1</th>\n",
       "        <th>EndDate_1</th>\n",
       "    </tr>\n",
       "    <tr>\n",
       "        <td>Fall2014</td>\n",
       "        <td>2014-08-16</td>\n",
       "        <td>2014-12-29</td>\n",
       "        <td>AC</td>\n",
       "        <td>Fall2014</td>\n",
       "        <td>DSB104</td>\n",
       "        <td>2014-08-16</td>\n",
       "        <td>2014-12-29</td>\n",
       "    </tr>\n",
       "    <tr>\n",
       "        <td>Fall2014</td>\n",
       "        <td>2014-08-16</td>\n",
       "        <td>2014-12-29</td>\n",
       "        <td>AC</td>\n",
       "        <td>Fall2014</td>\n",
       "        <td>DSB105</td>\n",
       "        <td>2014-08-16</td>\n",
       "        <td>2014-12-29</td>\n",
       "    </tr>\n",
       "    <tr>\n",
       "        <td>Fall2014</td>\n",
       "        <td>2014-08-16</td>\n",
       "        <td>2014-12-29</td>\n",
       "        <td>AC</td>\n",
       "        <td>Fall2014</td>\n",
       "        <td>DSB108</td>\n",
       "        <td>2014-08-16</td>\n",
       "        <td>2014-12-29</td>\n",
       "    </tr>\n",
       "    <tr>\n",
       "        <td>Fall2014</td>\n",
       "        <td>2014-08-16</td>\n",
       "        <td>2014-12-29</td>\n",
       "        <td>AC</td>\n",
       "        <td>Fall2014</td>\n",
       "        <td>DSB110A</td>\n",
       "        <td>2014-08-16</td>\n",
       "        <td>2014-12-29</td>\n",
       "    </tr>\n",
       "    <tr>\n",
       "        <td>Fall2014</td>\n",
       "        <td>2014-08-16</td>\n",
       "        <td>2014-12-29</td>\n",
       "        <td>AC</td>\n",
       "        <td>Fall2014</td>\n",
       "        <td>DSB110B</td>\n",
       "        <td>2014-08-16</td>\n",
       "        <td>2014-12-29</td>\n",
       "    </tr>\n",
       "    <tr>\n",
       "        <td>Fall2014</td>\n",
       "        <td>2014-08-16</td>\n",
       "        <td>2014-12-29</td>\n",
       "        <td>AC</td>\n",
       "        <td>Fall2014</td>\n",
       "        <td>DSB111</td>\n",
       "        <td>2014-08-16</td>\n",
       "        <td>2014-12-29</td>\n",
       "    </tr>\n",
       "    <tr>\n",
       "        <td>Fall2014</td>\n",
       "        <td>2014-08-16</td>\n",
       "        <td>2014-12-29</td>\n",
       "        <td>AC</td>\n",
       "        <td>Fall2014</td>\n",
       "        <td>DSB112</td>\n",
       "        <td>2014-08-16</td>\n",
       "        <td>2014-12-29</td>\n",
       "    </tr>\n",
       "    <tr>\n",
       "        <td>Fall2014</td>\n",
       "        <td>2014-08-16</td>\n",
       "        <td>2014-12-29</td>\n",
       "        <td>AC</td>\n",
       "        <td>Fall2014</td>\n",
       "        <td>DSB115</td>\n",
       "        <td>2014-08-16</td>\n",
       "        <td>2014-12-29</td>\n",
       "    </tr>\n",
       "    <tr>\n",
       "        <td>Fall2014</td>\n",
       "        <td>2014-08-16</td>\n",
       "        <td>2014-12-29</td>\n",
       "        <td>AC</td>\n",
       "        <td>Fall2014</td>\n",
       "        <td>DSB2109A</td>\n",
       "        <td>2014-08-16</td>\n",
       "        <td>2014-12-29</td>\n",
       "    </tr>\n",
       "    <tr>\n",
       "        <td>Fall2014</td>\n",
       "        <td>2014-08-16</td>\n",
       "        <td>2014-12-29</td>\n",
       "        <td>AC</td>\n",
       "        <td>Fall2015</td>\n",
       "        <td>DSB104</td>\n",
       "        <td>2014-08-16</td>\n",
       "        <td>2014-12-29</td>\n",
       "    </tr>\n",
       "</table>"
      ],
      "text/plain": [
       "[('Fall2014', '2014-08-16', '2014-12-29', 'AC', 'Fall2014', 'DSB104', '2014-08-16', '2014-12-29'),\n",
       " ('Fall2014', '2014-08-16', '2014-12-29', 'AC', 'Fall2014', 'DSB105', '2014-08-16', '2014-12-29'),\n",
       " ('Fall2014', '2014-08-16', '2014-12-29', 'AC', 'Fall2014', 'DSB108', '2014-08-16', '2014-12-29'),\n",
       " ('Fall2014', '2014-08-16', '2014-12-29', 'AC', 'Fall2014', 'DSB110A', '2014-08-16', '2014-12-29'),\n",
       " ('Fall2014', '2014-08-16', '2014-12-29', 'AC', 'Fall2014', 'DSB110B', '2014-08-16', '2014-12-29'),\n",
       " ('Fall2014', '2014-08-16', '2014-12-29', 'AC', 'Fall2014', 'DSB111', '2014-08-16', '2014-12-29'),\n",
       " ('Fall2014', '2014-08-16', '2014-12-29', 'AC', 'Fall2014', 'DSB112', '2014-08-16', '2014-12-29'),\n",
       " ('Fall2014', '2014-08-16', '2014-12-29', 'AC', 'Fall2014', 'DSB115', '2014-08-16', '2014-12-29'),\n",
       " ('Fall2014', '2014-08-16', '2014-12-29', 'AC', 'Fall2014', 'DSB2109A', '2014-08-16', '2014-12-29'),\n",
       " ('Fall2014', '2014-08-16', '2014-12-29', 'AC', 'Fall2015', 'DSB104', '2014-08-16', '2014-12-29')]"
      ]
     },
     "execution_count": 25,
     "metadata": {},
     "output_type": "execute_result"
    }
   ],
   "source": [
    "%%sql\n",
    "SELECT *\n",
    "FROM dimDate\n",
    "JOIN factClass ON dimDate.StartDate = factClass.StartDate\n",
    "LIMIT 10;"
   ]
  },
  {
   "cell_type": "code",
   "execution_count": null,
   "metadata": {},
   "outputs": [],
   "source": []
  }
 ],
 "metadata": {
  "kernelspec": {
   "display_name": "Python 3",
   "language": "python",
   "name": "python3"
  },
  "language_info": {
   "codemirror_mode": {
    "name": "ipython",
    "version": 3
   },
   "file_extension": ".py",
   "mimetype": "text/x-python",
   "name": "python",
   "nbconvert_exporter": "python",
   "pygments_lexer": "ipython3",
   "version": "3.6.5"
  }
 },
 "nbformat": 4,
 "nbformat_minor": 2
}
