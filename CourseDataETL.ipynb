{
 "cells": [
  {
   "cell_type": "markdown",
   "metadata": {},
   "source": [
    "# Importing Necessary Packages"
   ]
  },
  {
   "cell_type": "code",
   "execution_count": 1,
   "metadata": {},
   "outputs": [],
   "source": [
    "# Needed for SQL Alchemy  \n",
    "from sqlalchemy import create_engine\n",
    "engine=create_engine('sqlite:///.CourseData',echo=False)\n",
    "\n",
    "# All query results are returned as Pandas DataFrames \n",
    "import pandas as pd\n",
    "\n",
    "#Used for importing CSVs\n",
    "import glob\n",
    "import os\n",
    "\n",
    "# Needed for %sql Magic\n",
    "%load_ext sql\n",
    "\n",
    "import sqlite3"
   ]
  },
  {
   "cell_type": "markdown",
   "metadata": {},
   "source": [
    "# Creating the Databases"
   ]
  },
  {
   "cell_type": "code",
   "execution_count": 2,
   "metadata": {},
   "outputs": [],
   "source": [
    "#Create CourseData and CourseDqtaWarehouse Databases\n",
    "conn = sqlite3.connect(\"./CourseData.db\")\n",
    "conn = sqlite3.connect(\"./CourseDataWarehouse.db\")"
   ]
  },
  {
   "cell_type": "markdown",
   "metadata": {},
   "source": [
    "# Reading in the CSVs\n",
    "- Combined each CSV into one DataFrame dropping necessary files "
   ]
  },
  {
   "cell_type": "code",
   "execution_count": 3,
   "metadata": {},
   "outputs": [],
   "source": [
    "CourseCatalog2017_2018=pd.read_csv(\"./SourceData/Catalogs/CourseCatalog2017_2018.csv\")\n",
    "CourseCatalog2018_2019=pd.read_csv(\"./SourceData/Catalogs/CourseCatalog2018_2019.csv\")"
   ]
  },
  {
   "cell_type": "code",
   "execution_count": 4,
   "metadata": {},
   "outputs": [
    {
     "data": {
      "text/plain": [
       "array(['Fall2015', 'Fall2014', 'Winter2015', 'Spring2015', 'Summer2015',\n",
       "       'Fall2016', 'Fall2018', 'Fall2017', 'Spring2019',\n",
       "       'SpringBreak2017', 'Spring2017', 'Winter2018', 'Winter2016',\n",
       "       'Spring2016', 'Spring2018', 'Winter2017', 'Summer2017',\n",
       "       'Summer2018', 'Summer2016'], dtype=object)"
      ]
     },
     "execution_count": 4,
     "metadata": {},
     "output_type": "execute_result"
    }
   ],
   "source": [
    "#Reading and combining all course meetings CSVs\n",
    "\n",
    "#Get list of folders/files in Source Data folder\n",
    "folders=glob.glob('./SourceData/*')\n",
    "\n",
    "#Delete folders/files from list that don't contain course meeting CSV files\n",
    "del folders[5]\n",
    "del folders[12]\n",
    "del folders[16]\n",
    "\n",
    "#Read CSVs from folders in list and combine into a single dataframe\n",
    "all_files=[]\n",
    "for path in folders:\n",
    "    all_files += glob.glob(os.path.join(path, \"course_meetings.csv\"))     # advisable to use os.path.join as this makes concatenation OS independent\n",
    "df_from_each_file = (pd.read_csv(f) for f in all_files)\n",
    "course_meetings = pd.concat(df_from_each_file, ignore_index=True, sort=True)\n",
    "\n",
    "course_meetings.term.unique()\n"
   ]
  },
  {
   "cell_type": "code",
   "execution_count": 180,
   "metadata": {},
   "outputs": [],
   "source": [
    "#Reading and combining all courses CSVs\n",
    "\n",
    "#Get list of folders/files in Source Data folder\n",
    "folders=glob.glob('./SourceData/*')\n",
    "\n",
    "#Delete folders/files from list that don't contain courses CSV files\n",
    "del folders[5]\n",
    "del folders[12]\n",
    "del folders[16]\n",
    "\n",
    "#Read CSVs from folders in list and combine into a single dataframe\n",
    "all_files=[]\n",
    "for path in folders:\n",
    "    all_files += glob.glob(os.path.join(path, \"courses.csv\"))     # advisable to use os.path.join as this makes concatenation OS independent\n",
    "df_from_each_file = (pd.read_csv(f) for f in all_files)\n",
    "courses = pd.concat(df_from_each_file, ignore_index=True, sort=True)\n",
    "\n",
    "#courses.term.unique()\n",
    "\n",
    "\n",
    "\n",
    "#Split Meetings column in Courses DataFrame into separate columns\n",
    "courses=pd.merge(courses, courses['meetings'].str.split(',',expand=True), left_index=True, right_index=True)"
   ]
  },
  {
   "cell_type": "markdown",
   "metadata": {},
   "source": [
    "# Course Catalog to SQL"
   ]
  },
  {
   "cell_type": "code",
   "execution_count": 181,
   "metadata": {},
   "outputs": [],
   "source": [
    "CourseCatalog2017_2018.to_sql('CourseCatalog2017_2018',con=engine,if_exists='replace')\n",
    "CourseCatalog2018_2019.to_sql('CourseCatalog2018_2019',con=engine,if_exists='replace')"
   ]
  },
  {
   "cell_type": "markdown",
   "metadata": {},
   "source": [
    "# Check the length of the Course Meetings DataFrame"
   ]
  },
  {
   "cell_type": "code",
   "execution_count": 182,
   "metadata": {},
   "outputs": [
    {
     "data": {
      "text/plain": [
       "317321"
      ]
     },
     "execution_count": 182,
     "metadata": {},
     "output_type": "execute_result"
    }
   ],
   "source": [
    "#Check length of course_meetings DataFrame\n",
    "len(course_meetings.index)"
   ]
  },
  {
   "cell_type": "markdown",
   "metadata": {},
   "source": [
    "# Course Meetings to SQL\n",
    "- Used separate tables because DataFrame is too large to import all at once\n",
    "- Sliced every 35,000 records in order to import"
   ]
  },
  {
   "cell_type": "code",
   "execution_count": 66,
   "metadata": {},
   "outputs": [],
   "source": [
    "#import course_meetings DataFrame to SQL as separate tables because DataFrame is too large to import at once.\n",
    "#Will use a union later in SQL to combine them\n",
    "\n",
    "course_meetings[:35000].to_sql('course_meetings1',con=engine,if_exists='replace')\n",
    "course_meetings[35000:70000].to_sql('course_meetings2',con=engine,if_exists='replace')\n",
    "course_meetings[70000:105000].to_sql('course_meetings3',con=engine,if_exists='replace')\n",
    "course_meetings[105000:140000].to_sql('course_meetings4',con=engine,if_exists='replace')\n",
    "course_meetings[140000:175000].to_sql('course_meetings5',con=engine,if_exists='replace')\n",
    "course_meetings[175000:210000].to_sql('course_meetings6',con=engine,if_exists='replace')\n",
    "course_meetings[210000:245000].to_sql('course_meetings7',con=engine,if_exists='replace')\n",
    "course_meetings[245000:280000].to_sql('course_meetings8',con=engine,if_exists='replace')\n",
    "course_meetings[280000:315000].to_sql('course_meetings9',con=engine,if_exists='replace')\n",
    "course_meetings[315000:].to_sql('course_meetings10',con=engine,if_exists='replace')"
   ]
  },
  {
   "cell_type": "markdown",
   "metadata": {},
   "source": [
    "# Check the length of the Courses DataFrame"
   ]
  },
  {
   "cell_type": "code",
   "execution_count": 67,
   "metadata": {},
   "outputs": [
    {
     "data": {
      "text/plain": [
       "15937"
      ]
     },
     "execution_count": 67,
     "metadata": {},
     "output_type": "execute_result"
    }
   ],
   "source": [
    "#Check length of courses DataFrame\n",
    "len(courses.index)"
   ]
  },
  {
   "cell_type": "markdown",
   "metadata": {},
   "source": [
    "# Courses DataFrame to SQL\n",
    "- Able to do once because the DataFrame is much smaller"
   ]
  },
  {
   "cell_type": "code",
   "execution_count": 183,
   "metadata": {},
   "outputs": [],
   "source": [
    "courses.to_sql('courses',con=engine,if_exists='replace')"
   ]
  },
  {
   "cell_type": "markdown",
   "metadata": {},
   "source": [
    "# Initialize the connection to Course Data Database"
   ]
  },
  {
   "cell_type": "code",
   "execution_count": 184,
   "metadata": {},
   "outputs": [
    {
     "data": {
      "text/plain": [
       "'Connected: @.CourseData'"
      ]
     },
     "execution_count": 184,
     "metadata": {},
     "output_type": "execute_result"
    }
   ],
   "source": [
    "# Initialize \n",
    "%sql sqlite:///.CourseData"
   ]
  },
  {
   "cell_type": "markdown",
   "metadata": {},
   "source": []
  },
  {
   "cell_type": "code",
   "execution_count": 185,
   "metadata": {},
   "outputs": [
    {
     "name": "stdout",
     "output_type": "stream",
     "text": [
      " * sqlite:///.CourseData\n",
      "Done.\n"
     ]
    },
    {
     "data": {
      "text/html": [
       "<table>\n",
       "    <tr>\n",
       "        <th>name</th>\n",
       "        <th>sql</th>\n",
       "    </tr>\n",
       "    <tr>\n",
       "        <td>CourseCatalog2017_2018</td>\n",
       "        <td>CREATE TABLE &quot;CourseCatalog2017_2018&quot; (<br>\t&quot;index&quot; BIGINT, <br>\tprogram_code TEXT, <br>\tprogram_name TEXT, <br>\tcatalog_id TEXT, <br>\tcourse_title TEXT, <br>\tcredits TEXT, <br>\tprereqs TEXT, <br>\tcoreqs TEXT, <br>\tfees TEXT, <br>\tattributes TEXT, <br>\tdescription TEXT<br>)</td>\n",
       "    </tr>\n",
       "    <tr>\n",
       "        <td>CourseCatalog2018_2019</td>\n",
       "        <td>CREATE TABLE &quot;CourseCatalog2018_2019&quot; (<br>\t&quot;index&quot; BIGINT, <br>\tprogram_code TEXT, <br>\tprogram_name TEXT, <br>\tcatalog_id TEXT, <br>\tcourse_title TEXT, <br>\tcredits TEXT, <br>\tprereqs TEXT, <br>\tcoreqs TEXT, <br>\tfees TEXT, <br>\tattributes TEXT, <br>\tdescription TEXT<br>)</td>\n",
       "    </tr>\n",
       "    <tr>\n",
       "        <td>all_course_meetings</td>\n",
       "        <td>CREATE TABLE all_course_meetings (<br>term text,<br>crn int,<br>location datexttatype,<br>day text,<br>start text,<br>end text<br>, MeetingDate date, StartTime time, EndTime time)</td>\n",
       "    </tr>\n",
       "    <tr>\n",
       "        <td>course_meetings1</td>\n",
       "        <td>CREATE TABLE course_meetings1 (<br>\t&quot;index&quot; BIGINT, <br>\tcrn BIGINT, <br>\tday TEXT, <br>\t&quot;end&quot; TEXT, <br>\tlocation TEXT, <br>\tstart TEXT, <br>\tterm TEXT<br>)</td>\n",
       "    </tr>\n",
       "    <tr>\n",
       "        <td>course_meetings10</td>\n",
       "        <td>CREATE TABLE course_meetings10 (<br>\t&quot;index&quot; BIGINT, <br>\tcrn BIGINT, <br>\tday TEXT, <br>\t&quot;end&quot; TEXT, <br>\tlocation TEXT, <br>\tstart TEXT, <br>\tterm TEXT<br>)</td>\n",
       "    </tr>\n",
       "    <tr>\n",
       "        <td>course_meetings2</td>\n",
       "        <td>CREATE TABLE course_meetings2 (<br>\t&quot;index&quot; BIGINT, <br>\tcrn BIGINT, <br>\tday TEXT, <br>\t&quot;end&quot; TEXT, <br>\tlocation TEXT, <br>\tstart TEXT, <br>\tterm TEXT<br>)</td>\n",
       "    </tr>\n",
       "    <tr>\n",
       "        <td>course_meetings3</td>\n",
       "        <td>CREATE TABLE course_meetings3 (<br>\t&quot;index&quot; BIGINT, <br>\tcrn BIGINT, <br>\tday TEXT, <br>\t&quot;end&quot; TEXT, <br>\tlocation TEXT, <br>\tstart TEXT, <br>\tterm TEXT<br>)</td>\n",
       "    </tr>\n",
       "    <tr>\n",
       "        <td>course_meetings4</td>\n",
       "        <td>CREATE TABLE course_meetings4 (<br>\t&quot;index&quot; BIGINT, <br>\tcrn BIGINT, <br>\tday TEXT, <br>\t&quot;end&quot; TEXT, <br>\tlocation TEXT, <br>\tstart TEXT, <br>\tterm TEXT<br>)</td>\n",
       "    </tr>\n",
       "    <tr>\n",
       "        <td>course_meetings5</td>\n",
       "        <td>CREATE TABLE course_meetings5 (<br>\t&quot;index&quot; BIGINT, <br>\tcrn BIGINT, <br>\tday TEXT, <br>\t&quot;end&quot; TEXT, <br>\tlocation TEXT, <br>\tstart TEXT, <br>\tterm TEXT<br>)</td>\n",
       "    </tr>\n",
       "    <tr>\n",
       "        <td>course_meetings6</td>\n",
       "        <td>CREATE TABLE course_meetings6 (<br>\t&quot;index&quot; BIGINT, <br>\tcrn BIGINT, <br>\tday TEXT, <br>\t&quot;end&quot; TEXT, <br>\tlocation TEXT, <br>\tstart TEXT, <br>\tterm TEXT<br>)</td>\n",
       "    </tr>\n",
       "    <tr>\n",
       "        <td>course_meetings7</td>\n",
       "        <td>CREATE TABLE course_meetings7 (<br>\t&quot;index&quot; BIGINT, <br>\tcrn BIGINT, <br>\tday TEXT, <br>\t&quot;end&quot; TEXT, <br>\tlocation TEXT, <br>\tstart TEXT, <br>\tterm TEXT<br>)</td>\n",
       "    </tr>\n",
       "    <tr>\n",
       "        <td>course_meetings8</td>\n",
       "        <td>CREATE TABLE course_meetings8 (<br>\t&quot;index&quot; BIGINT, <br>\tcrn BIGINT, <br>\tday TEXT, <br>\t&quot;end&quot; TEXT, <br>\tlocation TEXT, <br>\tstart TEXT, <br>\tterm TEXT<br>)</td>\n",
       "    </tr>\n",
       "    <tr>\n",
       "        <td>course_meetings9</td>\n",
       "        <td>CREATE TABLE course_meetings9 (<br>\t&quot;index&quot; BIGINT, <br>\tcrn BIGINT, <br>\tday TEXT, <br>\t&quot;end&quot; TEXT, <br>\tlocation TEXT, <br>\tstart TEXT, <br>\tterm TEXT<br>)</td>\n",
       "    </tr>\n",
       "    <tr>\n",
       "        <td>courses</td>\n",
       "        <td>CREATE TABLE courses (<br>\t&quot;index&quot; BIGINT, <br>\tact BIGINT, <br>\tcap BIGINT, <br>\tcatalog_id TEXT, <br>\tcredits TEXT, <br>\tcrn BIGINT, <br>\tmeetings TEXT, <br>\tprimary_instructor TEXT, <br>\trem BIGINT, <br>\tsection TEXT, <br>\tterm TEXT, <br>\ttimecodes TEXT, <br>\ttitle TEXT, <br>\t&quot;0&quot; TEXT, <br>\t&quot;1&quot; TEXT, <br>\t&quot;2&quot; TEXT, <br>\t&quot;3&quot; TEXT, <br>\t&quot;4&quot; TEXT, <br>\t&quot;5&quot; TEXT, <br>\t&quot;6&quot; TEXT, <br>\t&quot;7&quot; TEXT, <br>\t&quot;8&quot; TEXT, <br>\t&quot;9&quot; TEXT, <br>\t&quot;10&quot; TEXT, <br>\t&quot;11&quot; TEXT, <br>\t&quot;12&quot; TEXT, <br>\t&quot;13&quot; TEXT, <br>\t&quot;14&quot; TEXT, <br>\t&quot;15&quot; TEXT, <br>\t&quot;16&quot; TEXT, <br>\t&quot;17&quot; TEXT, <br>\t&quot;18&quot; TEXT, <br>\t&quot;19&quot; TEXT, <br>\t&quot;20&quot; TEXT, <br>\t&quot;21&quot; TEXT, <br>\t&quot;22&quot; TEXT, <br>\t&quot;23&quot; TEXT, <br>\t&quot;24&quot; TEXT, <br>\t&quot;25&quot; TEXT, <br>\t&quot;26&quot; TEXT, <br>\t&quot;27&quot; TEXT, <br>\t&quot;28&quot; TEXT, <br>\t&quot;29&quot; TEXT, <br>\t&quot;30&quot; TEXT, <br>\t&quot;31&quot; TEXT, <br>\t&quot;32&quot; TEXT, <br>\t&quot;33&quot; TEXT, <br>\t&quot;34&quot; TEXT, <br>\t&quot;35&quot; TEXT, <br>\t&quot;36&quot; TEXT, <br>\t&quot;37&quot; TEXT, <br>\t&quot;38&quot; TEXT, <br>\t&quot;39&quot; TEXT, <br>\t&quot;40&quot; TEXT, <br>\t&quot;41&quot; TEXT, <br>\t&quot;42&quot; TEXT, <br>\t&quot;43&quot; TEXT<br>)</td>\n",
       "    </tr>\n",
       "    <tr>\n",
       "        <td>meetings_split</td>\n",
       "        <td>CREATE TABLE meetings_split (<br>\t&quot;index&quot; BIGINT, <br>\t&quot;0&quot; TEXT, <br>\t&quot;1&quot; TEXT, <br>\t&quot;2&quot; TEXT, <br>\t&quot;3&quot; TEXT, <br>\t&quot;4&quot; TEXT, <br>\t&quot;5&quot; TEXT, <br>\t&quot;6&quot; TEXT, <br>\t&quot;7&quot; TEXT, <br>\t&quot;8&quot; TEXT, <br>\t&quot;9&quot; TEXT, <br>\t&quot;10&quot; TEXT, <br>\t&quot;11&quot; TEXT, <br>\t&quot;12&quot; TEXT, <br>\t&quot;13&quot; TEXT, <br>\t&quot;14&quot; TEXT, <br>\t&quot;15&quot; TEXT, <br>\t&quot;16&quot; TEXT, <br>\t&quot;17&quot; TEXT, <br>\t&quot;18&quot; TEXT, <br>\t&quot;19&quot; TEXT, <br>\t&quot;20&quot; TEXT, <br>\t&quot;21&quot; TEXT, <br>\t&quot;22&quot; TEXT, <br>\t&quot;23&quot; TEXT, <br>\t&quot;24&quot; TEXT, <br>\t&quot;25&quot; TEXT, <br>\t&quot;26&quot; TEXT, <br>\t&quot;27&quot; TEXT, <br>\t&quot;28&quot; TEXT, <br>\t&quot;29&quot; TEXT, <br>\t&quot;30&quot; TEXT, <br>\t&quot;31&quot; TEXT, <br>\t&quot;32&quot; TEXT, <br>\t&quot;33&quot; TEXT, <br>\t&quot;34&quot; TEXT, <br>\t&quot;35&quot; TEXT, <br>\t&quot;36&quot; TEXT, <br>\t&quot;37&quot; TEXT, <br>\t&quot;38&quot; TEXT, <br>\t&quot;39&quot; TEXT, <br>\t&quot;40&quot; TEXT, <br>\t&quot;41&quot; TEXT, <br>\t&quot;42&quot; TEXT, <br>\t&quot;43&quot; TEXT<br>)</td>\n",
       "    </tr>\n",
       "</table>"
      ],
      "text/plain": [
       "[('CourseCatalog2017_2018', 'CREATE TABLE \"CourseCatalog2017_2018\" (\\n\\t\"index\" BIGINT, \\n\\tprogram_code TEXT, \\n\\tprogram_name TEXT, \\n\\tcatalog_id TEXT, \\n\\tcourse_title TEXT, \\n\\tcredits TEXT, \\n\\tprereqs TEXT, \\n\\tcoreqs TEXT, \\n\\tfees TEXT, \\n\\tattributes TEXT, \\n\\tdescription TEXT\\n)'),\n",
       " ('CourseCatalog2018_2019', 'CREATE TABLE \"CourseCatalog2018_2019\" (\\n\\t\"index\" BIGINT, \\n\\tprogram_code TEXT, \\n\\tprogram_name TEXT, \\n\\tcatalog_id TEXT, \\n\\tcourse_title TEXT, \\n\\tcredits TEXT, \\n\\tprereqs TEXT, \\n\\tcoreqs TEXT, \\n\\tfees TEXT, \\n\\tattributes TEXT, \\n\\tdescription TEXT\\n)'),\n",
       " ('all_course_meetings', 'CREATE TABLE all_course_meetings (\\nterm text,\\ncrn int,\\nlocation datexttatype,\\nday text,\\nstart text,\\nend text\\n, MeetingDate date, StartTime time, EndTime time)'),\n",
       " ('course_meetings1', 'CREATE TABLE course_meetings1 (\\n\\t\"index\" BIGINT, \\n\\tcrn BIGINT, \\n\\tday TEXT, \\n\\t\"end\" TEXT, \\n\\tlocation TEXT, \\n\\tstart TEXT, \\n\\tterm TEXT\\n)'),\n",
       " ('course_meetings10', 'CREATE TABLE course_meetings10 (\\n\\t\"index\" BIGINT, \\n\\tcrn BIGINT, \\n\\tday TEXT, \\n\\t\"end\" TEXT, \\n\\tlocation TEXT, \\n\\tstart TEXT, \\n\\tterm TEXT\\n)'),\n",
       " ('course_meetings2', 'CREATE TABLE course_meetings2 (\\n\\t\"index\" BIGINT, \\n\\tcrn BIGINT, \\n\\tday TEXT, \\n\\t\"end\" TEXT, \\n\\tlocation TEXT, \\n\\tstart TEXT, \\n\\tterm TEXT\\n)'),\n",
       " ('course_meetings3', 'CREATE TABLE course_meetings3 (\\n\\t\"index\" BIGINT, \\n\\tcrn BIGINT, \\n\\tday TEXT, \\n\\t\"end\" TEXT, \\n\\tlocation TEXT, \\n\\tstart TEXT, \\n\\tterm TEXT\\n)'),\n",
       " ('course_meetings4', 'CREATE TABLE course_meetings4 (\\n\\t\"index\" BIGINT, \\n\\tcrn BIGINT, \\n\\tday TEXT, \\n\\t\"end\" TEXT, \\n\\tlocation TEXT, \\n\\tstart TEXT, \\n\\tterm TEXT\\n)'),\n",
       " ('course_meetings5', 'CREATE TABLE course_meetings5 (\\n\\t\"index\" BIGINT, \\n\\tcrn BIGINT, \\n\\tday TEXT, \\n\\t\"end\" TEXT, \\n\\tlocation TEXT, \\n\\tstart TEXT, \\n\\tterm TEXT\\n)'),\n",
       " ('course_meetings6', 'CREATE TABLE course_meetings6 (\\n\\t\"index\" BIGINT, \\n\\tcrn BIGINT, \\n\\tday TEXT, \\n\\t\"end\" TEXT, \\n\\tlocation TEXT, \\n\\tstart TEXT, \\n\\tterm TEXT\\n)'),\n",
       " ('course_meetings7', 'CREATE TABLE course_meetings7 (\\n\\t\"index\" BIGINT, \\n\\tcrn BIGINT, \\n\\tday TEXT, \\n\\t\"end\" TEXT, \\n\\tlocation TEXT, \\n\\tstart TEXT, \\n\\tterm TEXT\\n)'),\n",
       " ('course_meetings8', 'CREATE TABLE course_meetings8 (\\n\\t\"index\" BIGINT, \\n\\tcrn BIGINT, \\n\\tday TEXT, \\n\\t\"end\" TEXT, \\n\\tlocation TEXT, \\n\\tstart TEXT, \\n\\tterm TEXT\\n)'),\n",
       " ('course_meetings9', 'CREATE TABLE course_meetings9 (\\n\\t\"index\" BIGINT, \\n\\tcrn BIGINT, \\n\\tday TEXT, \\n\\t\"end\" TEXT, \\n\\tlocation TEXT, \\n\\tstart TEXT, \\n\\tterm TEXT\\n)'),\n",
       " ('courses', 'CREATE TABLE courses (\\n\\t\"index\" BIGINT, \\n\\tact BIGINT, \\n\\tcap BIGINT, \\n\\tcatalog_id TEXT, \\n\\tcredits TEXT, \\n\\tcrn BIGINT, \\n\\tmeetings TEXT, \\ ... (615 characters truncated) ... \\t\"34\" TEXT, \\n\\t\"35\" TEXT, \\n\\t\"36\" TEXT, \\n\\t\"37\" TEXT, \\n\\t\"38\" TEXT, \\n\\t\"39\" TEXT, \\n\\t\"40\" TEXT, \\n\\t\"41\" TEXT, \\n\\t\"42\" TEXT, \\n\\t\"43\" TEXT\\n)'),\n",
       " ('meetings_split', 'CREATE TABLE meetings_split (\\n\\t\"index\" BIGINT, \\n\\t\"0\" TEXT, \\n\\t\"1\" TEXT, \\n\\t\"2\" TEXT, \\n\\t\"3\" TEXT, \\n\\t\"4\" TEXT, \\n\\t\"5\" TEXT, \\n\\t\"6\" TEXT, \\n ... (402 characters truncated) ... \\t\"34\" TEXT, \\n\\t\"35\" TEXT, \\n\\t\"36\" TEXT, \\n\\t\"37\" TEXT, \\n\\t\"38\" TEXT, \\n\\t\"39\" TEXT, \\n\\t\"40\" TEXT, \\n\\t\"41\" TEXT, \\n\\t\"42\" TEXT, \\n\\t\"43\" TEXT\\n)')]"
      ]
     },
     "execution_count": 185,
     "metadata": {},
     "output_type": "execute_result"
    }
   ],
   "source": [
    "%%sql\n",
    "\n",
    "SELECT name, sql FROM sqlite_master\n",
    "WHERE type='table'\n",
    "ORDER BY name;"
   ]
  },
  {
   "cell_type": "markdown",
   "metadata": {},
   "source": [
    "# Create Overall Course Meetings Table\n",
    "- Specified column datatypes"
   ]
  },
  {
   "cell_type": "code",
   "execution_count": 71,
   "metadata": {},
   "outputs": [
    {
     "name": "stdout",
     "output_type": "stream",
     "text": [
      " * sqlite:///.CourseData\n",
      "(sqlite3.OperationalError) table all_course_meetings already exists [SQL: 'CREATE TABLE all_course_meetings (\\nterm text,\\ncrn int,\\nlocation datexttatype,\\nday text,\\nstart text,\\nend text\\n);'] (Background on this error at: http://sqlalche.me/e/e3q8)\n"
     ]
    }
   ],
   "source": [
    "%%sql\n",
    "\n",
    "CREATE TABLE all_course_meetings (\n",
    "term text,\n",
    "crn int,\n",
    "location datexttatype,\n",
    "day text,\n",
    "start text,\n",
    "end text\n",
    ");"
   ]
  },
  {
   "cell_type": "markdown",
   "metadata": {},
   "source": [
    "# Inserted data into table\n",
    "- Used union to combine previously separated tables into one table"
   ]
  },
  {
   "cell_type": "code",
   "execution_count": 72,
   "metadata": {},
   "outputs": [
    {
     "name": "stdout",
     "output_type": "stream",
     "text": [
      " * sqlite:///.CourseData\n",
      "(sqlite3.OperationalError) table all_course_meetings has 9 columns but 6 values were supplied [SQL: 'INSERT INTO all_course_meetings\\n    select term,crn,location,day,start,end from course_meetings1\\nunion all\\n    select term,crn,location,day,start,end from course_meetings2\\nunion all\\n    select term,crn,location,day,start,end from course_meetings3\\nunion all\\n    select term,crn,location,day,start,end from course_meetings4\\nunion all\\n    select term,crn,location,day,start,end from course_meetings5\\nunion all\\n    select term,crn,location,day,start,end from course_meetings6\\nunion all\\n    select term,crn,location,day,start,end from course_meetings7\\nunion all\\n    select term,crn,location,day,start,end from course_meetings8\\nunion all\\n    select term,crn,location,day,start,end from course_meetings9\\nunion all\\n    select term,crn,location,day,start,end from course_meetings10\\n;'] (Background on this error at: http://sqlalche.me/e/e3q8)\n"
     ]
    }
   ],
   "source": [
    "%%sql\n",
    "\n",
    "INSERT INTO all_course_meetings\n",
    "    select term,crn,location,day,start,end from course_meetings1\n",
    "union all\n",
    "    select term,crn,location,day,start,end from course_meetings2\n",
    "union all\n",
    "    select term,crn,location,day,start,end from course_meetings3\n",
    "union all\n",
    "    select term,crn,location,day,start,end from course_meetings4\n",
    "union all\n",
    "    select term,crn,location,day,start,end from course_meetings5\n",
    "union all\n",
    "    select term,crn,location,day,start,end from course_meetings6\n",
    "union all\n",
    "    select term,crn,location,day,start,end from course_meetings7\n",
    "union all\n",
    "    select term,crn,location,day,start,end from course_meetings8\n",
    "union all\n",
    "    select term,crn,location,day,start,end from course_meetings9\n",
    "union all\n",
    "    select term,crn,location,day,start,end from course_meetings10\n",
    ";"
   ]
  },
  {
   "cell_type": "markdown",
   "metadata": {},
   "source": [
    "# Query to see if insert worked"
   ]
  },
  {
   "cell_type": "code",
   "execution_count": 73,
   "metadata": {},
   "outputs": [
    {
     "name": "stdout",
     "output_type": "stream",
     "text": [
      " * sqlite:///.CourseData\n",
      "Done.\n"
     ]
    },
    {
     "data": {
      "text/html": [
       "<table>\n",
       "    <tr>\n",
       "        <th>term</th>\n",
       "        <th>crn</th>\n",
       "        <th>location</th>\n",
       "        <th>day</th>\n",
       "        <th>start</th>\n",
       "        <th>end</th>\n",
       "        <th>MeetingDate</th>\n",
       "        <th>StartTime</th>\n",
       "        <th>EndTime</th>\n",
       "    </tr>\n",
       "    <tr>\n",
       "        <td>Fall2015</td>\n",
       "        <td>75222</td>\n",
       "        <td>DSB 112</td>\n",
       "        <td>R</td>\n",
       "        <td>2015-09-03T14:00:00</td>\n",
       "        <td>2015-09-03T15:15:00</td>\n",
       "        <td>2015-09-03</td>\n",
       "        <td>14:00:00</td>\n",
       "        <td>15:15:00</td>\n",
       "    </tr>\n",
       "    <tr>\n",
       "        <td>Fall2015</td>\n",
       "        <td>75222</td>\n",
       "        <td>DSB 112</td>\n",
       "        <td>M</td>\n",
       "        <td>2015-09-07T14:00:00</td>\n",
       "        <td>2015-09-07T15:15:00</td>\n",
       "        <td>2015-09-07</td>\n",
       "        <td>14:00:00</td>\n",
       "        <td>15:15:00</td>\n",
       "    </tr>\n",
       "    <tr>\n",
       "        <td>Fall2015</td>\n",
       "        <td>75222</td>\n",
       "        <td>DSB 112</td>\n",
       "        <td>R</td>\n",
       "        <td>2015-09-10T14:00:00</td>\n",
       "        <td>2015-09-10T15:15:00</td>\n",
       "        <td>2015-09-10</td>\n",
       "        <td>14:00:00</td>\n",
       "        <td>15:15:00</td>\n",
       "    </tr>\n",
       "    <tr>\n",
       "        <td>Fall2015</td>\n",
       "        <td>75222</td>\n",
       "        <td>DSB 112</td>\n",
       "        <td>M</td>\n",
       "        <td>2015-09-14T14:00:00</td>\n",
       "        <td>2015-09-14T15:15:00</td>\n",
       "        <td>2015-09-14</td>\n",
       "        <td>14:00:00</td>\n",
       "        <td>15:15:00</td>\n",
       "    </tr>\n",
       "    <tr>\n",
       "        <td>Fall2015</td>\n",
       "        <td>75222</td>\n",
       "        <td>DSB 112</td>\n",
       "        <td>R</td>\n",
       "        <td>2015-09-17T14:00:00</td>\n",
       "        <td>2015-09-17T15:15:00</td>\n",
       "        <td>2015-09-17</td>\n",
       "        <td>14:00:00</td>\n",
       "        <td>15:15:00</td>\n",
       "    </tr>\n",
       "    <tr>\n",
       "        <td>Fall2015</td>\n",
       "        <td>75222</td>\n",
       "        <td>DSB 112</td>\n",
       "        <td>M</td>\n",
       "        <td>2015-09-21T14:00:00</td>\n",
       "        <td>2015-09-21T15:15:00</td>\n",
       "        <td>2015-09-21</td>\n",
       "        <td>14:00:00</td>\n",
       "        <td>15:15:00</td>\n",
       "    </tr>\n",
       "    <tr>\n",
       "        <td>Fall2015</td>\n",
       "        <td>75222</td>\n",
       "        <td>DSB 112</td>\n",
       "        <td>R</td>\n",
       "        <td>2015-09-24T14:00:00</td>\n",
       "        <td>2015-09-24T15:15:00</td>\n",
       "        <td>2015-09-24</td>\n",
       "        <td>14:00:00</td>\n",
       "        <td>15:15:00</td>\n",
       "    </tr>\n",
       "    <tr>\n",
       "        <td>Fall2015</td>\n",
       "        <td>75222</td>\n",
       "        <td>DSB 112</td>\n",
       "        <td>M</td>\n",
       "        <td>2015-09-28T14:00:00</td>\n",
       "        <td>2015-09-28T15:15:00</td>\n",
       "        <td>2015-09-28</td>\n",
       "        <td>14:00:00</td>\n",
       "        <td>15:15:00</td>\n",
       "    </tr>\n",
       "    <tr>\n",
       "        <td>Fall2015</td>\n",
       "        <td>75222</td>\n",
       "        <td>DSB 112</td>\n",
       "        <td>R</td>\n",
       "        <td>2015-10-01T14:00:00</td>\n",
       "        <td>2015-10-01T15:15:00</td>\n",
       "        <td>2015-10-01</td>\n",
       "        <td>14:00:00</td>\n",
       "        <td>15:15:00</td>\n",
       "    </tr>\n",
       "    <tr>\n",
       "        <td>Fall2015</td>\n",
       "        <td>75222</td>\n",
       "        <td>DSB 112</td>\n",
       "        <td>M</td>\n",
       "        <td>2015-10-05T14:00:00</td>\n",
       "        <td>2015-10-05T15:15:00</td>\n",
       "        <td>2015-10-05</td>\n",
       "        <td>14:00:00</td>\n",
       "        <td>15:15:00</td>\n",
       "    </tr>\n",
       "</table>"
      ],
      "text/plain": [
       "[('Fall2015', 75222, 'DSB 112', 'R', '2015-09-03T14:00:00', '2015-09-03T15:15:00', '2015-09-03', '14:00:00', '15:15:00'),\n",
       " ('Fall2015', 75222, 'DSB 112', 'M', '2015-09-07T14:00:00', '2015-09-07T15:15:00', '2015-09-07', '14:00:00', '15:15:00'),\n",
       " ('Fall2015', 75222, 'DSB 112', 'R', '2015-09-10T14:00:00', '2015-09-10T15:15:00', '2015-09-10', '14:00:00', '15:15:00'),\n",
       " ('Fall2015', 75222, 'DSB 112', 'M', '2015-09-14T14:00:00', '2015-09-14T15:15:00', '2015-09-14', '14:00:00', '15:15:00'),\n",
       " ('Fall2015', 75222, 'DSB 112', 'R', '2015-09-17T14:00:00', '2015-09-17T15:15:00', '2015-09-17', '14:00:00', '15:15:00'),\n",
       " ('Fall2015', 75222, 'DSB 112', 'M', '2015-09-21T14:00:00', '2015-09-21T15:15:00', '2015-09-21', '14:00:00', '15:15:00'),\n",
       " ('Fall2015', 75222, 'DSB 112', 'R', '2015-09-24T14:00:00', '2015-09-24T15:15:00', '2015-09-24', '14:00:00', '15:15:00'),\n",
       " ('Fall2015', 75222, 'DSB 112', 'M', '2015-09-28T14:00:00', '2015-09-28T15:15:00', '2015-09-28', '14:00:00', '15:15:00'),\n",
       " ('Fall2015', 75222, 'DSB 112', 'R', '2015-10-01T14:00:00', '2015-10-01T15:15:00', '2015-10-01', '14:00:00', '15:15:00'),\n",
       " ('Fall2015', 75222, 'DSB 112', 'M', '2015-10-05T14:00:00', '2015-10-05T15:15:00', '2015-10-05', '14:00:00', '15:15:00')]"
      ]
     },
     "execution_count": 73,
     "metadata": {},
     "output_type": "execute_result"
    }
   ],
   "source": [
    "%%sql\n",
    "\n",
    "select * from all_course_meetings limit 10\n"
   ]
  },
  {
   "cell_type": "markdown",
   "metadata": {},
   "source": [
    "# Alter table to break Start and End columns into separate Date and Time columns"
   ]
  },
  {
   "cell_type": "code",
   "execution_count": 85,
   "metadata": {},
   "outputs": [
    {
     "ename": "SyntaxError",
     "evalue": "invalid syntax (<ipython-input-85-599582fd3dcf>, line 4)",
     "output_type": "error",
     "traceback": [
      "\u001b[0;36m  File \u001b[0;32m\"<ipython-input-85-599582fd3dcf>\"\u001b[0;36m, line \u001b[0;32m4\u001b[0m\n\u001b[0;31m    alter table all_course_meetings add MeetingDate date;\u001b[0m\n\u001b[0m              ^\u001b[0m\n\u001b[0;31mSyntaxError\u001b[0m\u001b[0;31m:\u001b[0m invalid syntax\n"
     ]
    }
   ],
   "source": [
    "##Break Start and End columns in all_course_meetings tables into separate date and time columns\n",
    "%%sql\n",
    "\n",
    "alter table all_course_meetings add MeetingDate date;\n",
    "update all_course_meetings set MeetingDate = substr(start,1,10);\n",
    "\n",
    "alter table all_course_meetings add StartTime time;\n",
    "update all_course_meetings set StartTime=substr(start,12);\n",
    "alter table all_course_meetings add EndTime time;\n",
    "update all_course_meetings set EndTime=substr(end,12);\n"
   ]
  },
  {
   "cell_type": "markdown",
   "metadata": {},
   "source": [
    "# Query to see if Alter table worked"
   ]
  },
  {
   "cell_type": "code",
   "execution_count": 86,
   "metadata": {},
   "outputs": [
    {
     "name": "stdout",
     "output_type": "stream",
     "text": [
      " * sqlite:///.CourseData\n",
      "Done.\n"
     ]
    },
    {
     "data": {
      "text/html": [
       "<table>\n",
       "    <tr>\n",
       "        <th>term</th>\n",
       "        <th>crn</th>\n",
       "        <th>location</th>\n",
       "        <th>day</th>\n",
       "        <th>start</th>\n",
       "        <th>end</th>\n",
       "        <th>MeetingDate</th>\n",
       "        <th>StartTime</th>\n",
       "        <th>EndTime</th>\n",
       "    </tr>\n",
       "    <tr>\n",
       "        <td>Fall2015</td>\n",
       "        <td>75222</td>\n",
       "        <td>DSB 112</td>\n",
       "        <td>R</td>\n",
       "        <td>2015-09-03T14:00:00</td>\n",
       "        <td>2015-09-03T15:15:00</td>\n",
       "        <td>2015-09-03</td>\n",
       "        <td>14:00:00</td>\n",
       "        <td>15:15:00</td>\n",
       "    </tr>\n",
       "    <tr>\n",
       "        <td>Fall2015</td>\n",
       "        <td>75222</td>\n",
       "        <td>DSB 112</td>\n",
       "        <td>M</td>\n",
       "        <td>2015-09-07T14:00:00</td>\n",
       "        <td>2015-09-07T15:15:00</td>\n",
       "        <td>2015-09-07</td>\n",
       "        <td>14:00:00</td>\n",
       "        <td>15:15:00</td>\n",
       "    </tr>\n",
       "    <tr>\n",
       "        <td>Fall2015</td>\n",
       "        <td>75222</td>\n",
       "        <td>DSB 112</td>\n",
       "        <td>R</td>\n",
       "        <td>2015-09-10T14:00:00</td>\n",
       "        <td>2015-09-10T15:15:00</td>\n",
       "        <td>2015-09-10</td>\n",
       "        <td>14:00:00</td>\n",
       "        <td>15:15:00</td>\n",
       "    </tr>\n",
       "    <tr>\n",
       "        <td>Fall2015</td>\n",
       "        <td>75222</td>\n",
       "        <td>DSB 112</td>\n",
       "        <td>M</td>\n",
       "        <td>2015-09-14T14:00:00</td>\n",
       "        <td>2015-09-14T15:15:00</td>\n",
       "        <td>2015-09-14</td>\n",
       "        <td>14:00:00</td>\n",
       "        <td>15:15:00</td>\n",
       "    </tr>\n",
       "    <tr>\n",
       "        <td>Fall2015</td>\n",
       "        <td>75222</td>\n",
       "        <td>DSB 112</td>\n",
       "        <td>R</td>\n",
       "        <td>2015-09-17T14:00:00</td>\n",
       "        <td>2015-09-17T15:15:00</td>\n",
       "        <td>2015-09-17</td>\n",
       "        <td>14:00:00</td>\n",
       "        <td>15:15:00</td>\n",
       "    </tr>\n",
       "    <tr>\n",
       "        <td>Fall2015</td>\n",
       "        <td>75222</td>\n",
       "        <td>DSB 112</td>\n",
       "        <td>M</td>\n",
       "        <td>2015-09-21T14:00:00</td>\n",
       "        <td>2015-09-21T15:15:00</td>\n",
       "        <td>2015-09-21</td>\n",
       "        <td>14:00:00</td>\n",
       "        <td>15:15:00</td>\n",
       "    </tr>\n",
       "    <tr>\n",
       "        <td>Fall2015</td>\n",
       "        <td>75222</td>\n",
       "        <td>DSB 112</td>\n",
       "        <td>R</td>\n",
       "        <td>2015-09-24T14:00:00</td>\n",
       "        <td>2015-09-24T15:15:00</td>\n",
       "        <td>2015-09-24</td>\n",
       "        <td>14:00:00</td>\n",
       "        <td>15:15:00</td>\n",
       "    </tr>\n",
       "    <tr>\n",
       "        <td>Fall2015</td>\n",
       "        <td>75222</td>\n",
       "        <td>DSB 112</td>\n",
       "        <td>M</td>\n",
       "        <td>2015-09-28T14:00:00</td>\n",
       "        <td>2015-09-28T15:15:00</td>\n",
       "        <td>2015-09-28</td>\n",
       "        <td>14:00:00</td>\n",
       "        <td>15:15:00</td>\n",
       "    </tr>\n",
       "    <tr>\n",
       "        <td>Fall2015</td>\n",
       "        <td>75222</td>\n",
       "        <td>DSB 112</td>\n",
       "        <td>R</td>\n",
       "        <td>2015-10-01T14:00:00</td>\n",
       "        <td>2015-10-01T15:15:00</td>\n",
       "        <td>2015-10-01</td>\n",
       "        <td>14:00:00</td>\n",
       "        <td>15:15:00</td>\n",
       "    </tr>\n",
       "    <tr>\n",
       "        <td>Fall2015</td>\n",
       "        <td>75222</td>\n",
       "        <td>DSB 112</td>\n",
       "        <td>M</td>\n",
       "        <td>2015-10-05T14:00:00</td>\n",
       "        <td>2015-10-05T15:15:00</td>\n",
       "        <td>2015-10-05</td>\n",
       "        <td>14:00:00</td>\n",
       "        <td>15:15:00</td>\n",
       "    </tr>\n",
       "</table>"
      ],
      "text/plain": [
       "[('Fall2015', 75222, 'DSB 112', 'R', '2015-09-03T14:00:00', '2015-09-03T15:15:00', '2015-09-03', '14:00:00', '15:15:00'),\n",
       " ('Fall2015', 75222, 'DSB 112', 'M', '2015-09-07T14:00:00', '2015-09-07T15:15:00', '2015-09-07', '14:00:00', '15:15:00'),\n",
       " ('Fall2015', 75222, 'DSB 112', 'R', '2015-09-10T14:00:00', '2015-09-10T15:15:00', '2015-09-10', '14:00:00', '15:15:00'),\n",
       " ('Fall2015', 75222, 'DSB 112', 'M', '2015-09-14T14:00:00', '2015-09-14T15:15:00', '2015-09-14', '14:00:00', '15:15:00'),\n",
       " ('Fall2015', 75222, 'DSB 112', 'R', '2015-09-17T14:00:00', '2015-09-17T15:15:00', '2015-09-17', '14:00:00', '15:15:00'),\n",
       " ('Fall2015', 75222, 'DSB 112', 'M', '2015-09-21T14:00:00', '2015-09-21T15:15:00', '2015-09-21', '14:00:00', '15:15:00'),\n",
       " ('Fall2015', 75222, 'DSB 112', 'R', '2015-09-24T14:00:00', '2015-09-24T15:15:00', '2015-09-24', '14:00:00', '15:15:00'),\n",
       " ('Fall2015', 75222, 'DSB 112', 'M', '2015-09-28T14:00:00', '2015-09-28T15:15:00', '2015-09-28', '14:00:00', '15:15:00'),\n",
       " ('Fall2015', 75222, 'DSB 112', 'R', '2015-10-01T14:00:00', '2015-10-01T15:15:00', '2015-10-01', '14:00:00', '15:15:00'),\n",
       " ('Fall2015', 75222, 'DSB 112', 'M', '2015-10-05T14:00:00', '2015-10-05T15:15:00', '2015-10-05', '14:00:00', '15:15:00')]"
      ]
     },
     "execution_count": 86,
     "metadata": {},
     "output_type": "execute_result"
    }
   ],
   "source": [
    "%%sql\n",
    "\n",
    "select * from all_course_meetings limit 10;"
   ]
  },
  {
   "cell_type": "markdown",
   "metadata": {},
   "source": [
    "# Create Courses Table"
   ]
  },
  {
   "cell_type": "code",
   "execution_count": 188,
   "metadata": {},
   "outputs": [
    {
     "name": "stdout",
     "output_type": "stream",
     "text": [
      " * sqlite:///.CourseData\n",
      "Done.\n"
     ]
    },
    {
     "data": {
      "text/plain": [
       "[]"
      ]
     },
     "execution_count": 188,
     "metadata": {},
     "output_type": "execute_result"
    }
   ],
   "source": [
    "%%sql\n",
    "\n",
    "CREATE TABLE courses_clean(\n",
    "act BIGINT,\n",
    "cap BIGINT,\n",
    "catalog_id TEXT,\n",
    "credits TEXT,\n",
    "crn BIGINT,\n",
    "meetings TEXT,\n",
    "primary_instructor TEXT,\n",
    "rem BIGINT,\n",
    "section TEXT,\n",
    "term TEXT,\n",
    "title TEXT,\n",
    "days TEXT,\n",
    "times TEXT,\n",
    "dates TEXT,\n",
    "location TEXT\n",
    ");"
   ]
  },
  {
   "cell_type": "markdown",
   "metadata": {},
   "source": [
    "# Cleaned Courses Table\n",
    "- Broke courses with multiple meetings into separate records \n",
    "- Will allow for easier queries"
   ]
  },
  {
   "cell_type": "code",
   "execution_count": 217,
   "metadata": {},
   "outputs": [
    {
     "name": "stdout",
     "output_type": "stream",
     "text": [
      " * sqlite:///.CourseData\n",
      "15937 rows affected.\n",
      "15937 rows affected.\n"
     ]
    },
    {
     "data": {
      "text/plain": [
       "[]"
      ]
     },
     "execution_count": 217,
     "metadata": {},
     "output_type": "execute_result"
    }
   ],
   "source": [
    "%%sql\n",
    "delete from courses_clean;\n",
    "\n",
    "insert into courses_clean\n",
    "SELECT * from\n",
    "(\n",
    "    select act ,cap ,catalog_id ,credits ,crn ,meetings ,primary_instructor ,rem ,section ,term ,title ,[0] ,[1] ,[2] ,[3] \n",
    "    from courses\n",
    "    where [4] is null \n",
    "union all\n",
    "    select act ,cap ,catalog_id ,credits ,crn ,meetings ,primary_instructor ,rem ,section ,term ,title ,[4] ,[5] ,[6] ,[7]\n",
    "    from courses\n",
    "    where [4] is not null and [8] is null\n",
    "union all\n",
    "    select act ,cap ,catalog_id ,credits ,crn ,meetings ,primary_instructor ,rem ,section ,term ,title ,[8] ,[9] ,[10] ,[11]\n",
    "    from courses\n",
    "    where [8] is not null and [12] is null\n",
    "union all\n",
    "    select act ,cap ,catalog_id ,credits ,crn ,meetings ,primary_instructor ,rem ,section ,term ,title ,[12] ,[13] ,[14] ,[15]\n",
    "    from courses\n",
    "    where [12] is not null and [16] is null\n",
    "union all\n",
    "    select act ,cap ,catalog_id ,credits ,crn ,meetings ,primary_instructor ,rem ,section ,term ,title ,[16] ,[17] ,[18] ,[19]\n",
    "    from courses\n",
    "    where [16] is not null and [20] is null \n",
    "union all\n",
    "    select act ,cap ,catalog_id ,credits ,crn ,meetings ,primary_instructor ,rem ,section ,term ,title ,[20] ,[21] ,[22] ,[23]\n",
    "    from courses\n",
    "    where [20] is not null and [24] is null \n",
    "union all\n",
    "    select act ,cap ,catalog_id ,credits ,crn ,meetings ,primary_instructor ,rem ,section ,term ,title ,[24] ,[25] ,[26] ,[27]\n",
    "    from courses\n",
    "    where [24] is not null and [28] is null \n",
    "union all\n",
    "    select act ,cap ,catalog_id ,credits ,crn ,meetings ,primary_instructor ,rem ,section ,term ,title ,[28] ,[29] ,[30] ,[31]\n",
    "    from courses\n",
    "    where [28] is not null and [32] is null \n",
    "union all\n",
    "    select act ,cap ,catalog_id ,credits ,crn ,meetings ,primary_instructor ,rem ,section ,term ,title ,[32] ,[33] ,[34] ,[35]\n",
    "    from courses\n",
    "    where [32] is not null and [36] is null \n",
    "union all\n",
    "    select act ,cap ,catalog_id ,credits ,crn ,meetings ,primary_instructor ,rem ,section ,term ,title ,[36] ,[37] ,[38] ,[39]\n",
    "    from courses\n",
    "    where [36] is not null and [40] is null \n",
    "union all\n",
    "    select act ,cap ,catalog_id ,credits ,crn ,meetings ,primary_instructor ,rem ,section ,term ,title ,[40] ,[41] ,[42] ,[43]\n",
    "    from courses\n",
    "    where [40] is not null \n",
    "    ) "
   ]
  },
  {
   "cell_type": "markdown",
   "metadata": {},
   "source": [
    "# Created New DataFrame\n",
    "- Wanted to clean up data because SQL does not allow for easy character replacement"
   ]
  },
  {
   "cell_type": "code",
   "execution_count": 219,
   "metadata": {},
   "outputs": [
    {
     "data": {
      "text/html": [
       "<div>\n",
       "<style scoped>\n",
       "    .dataframe tbody tr th:only-of-type {\n",
       "        vertical-align: middle;\n",
       "    }\n",
       "\n",
       "    .dataframe tbody tr th {\n",
       "        vertical-align: top;\n",
       "    }\n",
       "\n",
       "    .dataframe thead th {\n",
       "        text-align: right;\n",
       "    }\n",
       "</style>\n",
       "<table border=\"1\" class=\"dataframe\">\n",
       "  <thead>\n",
       "    <tr style=\"text-align: right;\">\n",
       "      <th></th>\n",
       "      <th>act</th>\n",
       "      <th>cap</th>\n",
       "      <th>catalog_id</th>\n",
       "      <th>credits</th>\n",
       "      <th>crn</th>\n",
       "      <th>primary_instructor</th>\n",
       "      <th>rem</th>\n",
       "      <th>section</th>\n",
       "      <th>term</th>\n",
       "      <th>title</th>\n",
       "      <th>days</th>\n",
       "      <th>times</th>\n",
       "      <th>dates</th>\n",
       "      <th>location</th>\n",
       "    </tr>\n",
       "  </thead>\n",
       "  <tbody>\n",
       "    <tr>\n",
       "      <th>0</th>\n",
       "      <td>35</td>\n",
       "      <td>0</td>\n",
       "      <td>AC 0011</td>\n",
       "      <td>3.000</td>\n",
       "      <td>75222</td>\n",
       "      <td>Rebecca I.  Bloch</td>\n",
       "      <td>-35</td>\n",
       "      <td>C01</td>\n",
       "      <td>Fall2015</td>\n",
       "      <td>Introduction to Financial Accounting</td>\n",
       "      <td>MR</td>\n",
       "      <td>0200pm-0315pm</td>\n",
       "      <td>09/01-12/07</td>\n",
       "      <td>DSB112</td>\n",
       "    </tr>\n",
       "    <tr>\n",
       "      <th>1</th>\n",
       "      <td>33</td>\n",
       "      <td>0</td>\n",
       "      <td>AC 0011</td>\n",
       "      <td>3.000</td>\n",
       "      <td>75240</td>\n",
       "      <td>Rebecca I.  Bloch</td>\n",
       "      <td>-33</td>\n",
       "      <td>C02</td>\n",
       "      <td>Fall2015</td>\n",
       "      <td>Introduction to Financial Accounting</td>\n",
       "      <td>MR</td>\n",
       "      <td>0330pm-0445pm</td>\n",
       "      <td>09/01-12/07</td>\n",
       "      <td>DSB112</td>\n",
       "    </tr>\n",
       "    <tr>\n",
       "      <th>2</th>\n",
       "      <td>32</td>\n",
       "      <td>0</td>\n",
       "      <td>AC 0011</td>\n",
       "      <td>3.000</td>\n",
       "      <td>75241</td>\n",
       "      <td>Michael P.  Coyne</td>\n",
       "      <td>-32</td>\n",
       "      <td>C03</td>\n",
       "      <td>Fall2015</td>\n",
       "      <td>Introduction to Financial Accounting</td>\n",
       "      <td>TF</td>\n",
       "      <td>0200pm-0315pm</td>\n",
       "      <td>09/01-12/07</td>\n",
       "      <td>DSB115</td>\n",
       "    </tr>\n",
       "    <tr>\n",
       "      <th>3</th>\n",
       "      <td>35</td>\n",
       "      <td>0</td>\n",
       "      <td>AC 0011</td>\n",
       "      <td>3.000</td>\n",
       "      <td>75243</td>\n",
       "      <td>Michael P.  Coyne</td>\n",
       "      <td>-35</td>\n",
       "      <td>C04</td>\n",
       "      <td>Fall2015</td>\n",
       "      <td>Introduction to Financial Accounting</td>\n",
       "      <td>TF</td>\n",
       "      <td>0800am-0915am</td>\n",
       "      <td>09/01-12/07</td>\n",
       "      <td>DSB111</td>\n",
       "    </tr>\n",
       "    <tr>\n",
       "      <th>4</th>\n",
       "      <td>36</td>\n",
       "      <td>0</td>\n",
       "      <td>AC 0011</td>\n",
       "      <td>3.000</td>\n",
       "      <td>75244</td>\n",
       "      <td>Michael P.  Coyne</td>\n",
       "      <td>-36</td>\n",
       "      <td>C05</td>\n",
       "      <td>Fall2015</td>\n",
       "      <td>Introduction to Financial Accounting</td>\n",
       "      <td>TF</td>\n",
       "      <td>0930am-1045am</td>\n",
       "      <td>09/01-12/07</td>\n",
       "      <td>DSB111</td>\n",
       "    </tr>\n",
       "  </tbody>\n",
       "</table>\n",
       "</div>"
      ],
      "text/plain": [
       "   act  cap catalog_id credits    crn primary_instructor  rem section  \\\n",
       "0   35    0    AC 0011   3.000  75222  Rebecca I.  Bloch  -35     C01   \n",
       "1   33    0    AC 0011   3.000  75240  Rebecca I.  Bloch  -33     C02   \n",
       "2   32    0    AC 0011   3.000  75241  Michael P.  Coyne  -32     C03   \n",
       "3   35    0    AC 0011   3.000  75243  Michael P.  Coyne  -35     C04   \n",
       "4   36    0    AC 0011   3.000  75244  Michael P.  Coyne  -36     C05   \n",
       "\n",
       "       term                                 title days          times  \\\n",
       "0  Fall2015  Introduction to Financial Accounting   MR  0200pm-0315pm   \n",
       "1  Fall2015  Introduction to Financial Accounting   MR  0330pm-0445pm   \n",
       "2  Fall2015  Introduction to Financial Accounting   TF  0200pm-0315pm   \n",
       "3  Fall2015  Introduction to Financial Accounting   TF  0800am-0915am   \n",
       "4  Fall2015  Introduction to Financial Accounting   TF  0930am-1045am   \n",
       "\n",
       "         dates location  \n",
       "0  09/01-12/07   DSB112  \n",
       "1  09/01-12/07   DSB112  \n",
       "2  09/01-12/07   DSB115  \n",
       "3  09/01-12/07   DSB111  \n",
       "4  09/01-12/07   DSB111  "
      ]
     },
     "execution_count": 219,
     "metadata": {},
     "output_type": "execute_result"
    }
   ],
   "source": [
    "courses_clean=pd.read_sql_table('courses_clean',con=engine)\n",
    "\n",
    "\n",
    "for i in ['[','{',':','days',\"'\",' ']:\n",
    "    courses_clean['days']=courses_clean['days'].str.replace(i,'')\n",
    "\n",
    "for i in ['[','{',':','times',\"'\",' ']:\n",
    "    courses_clean['times']=courses_clean['times'].str.replace(i,'')\n",
    "\n",
    "for i in ['[','{',':','dates',\"'\",' ']:\n",
    "    courses_clean['dates']=courses_clean['dates'].str.replace(i,'')\n",
    "\n",
    "for i in ['[','{',':','location',\"'\",' ','}',']']:\n",
    "    courses_clean['location']=courses_clean['location'].str.replace(i,'')\n",
    "    \n",
    "courses_clean = courses_clean.drop('meetings', 1)\n",
    "\n",
    "courses_clean.head(5)"
   ]
  },
  {
   "cell_type": "markdown",
   "metadata": {},
   "source": [
    "Checking if Timecodes column in courses table has any data that isn't included in the columns that we broke out from the original meetings column:"
   ]
  },
  {
   "cell_type": "code",
   "execution_count": 220,
   "metadata": {},
   "outputs": [
    {
     "name": "stdout",
     "output_type": "stream",
     "text": [
      " * sqlite:///.CourseData\n"
     ]
    },
    {
     "data": {
      "text/plain": [
       "'Connected: @.CourseData'"
      ]
     },
     "execution_count": 220,
     "metadata": {},
     "output_type": "execute_result"
    }
   ],
   "source": [
    "%%sql\n",
    "\n",
    "\n"
   ]
  }
 ],
 "metadata": {
  "kernelspec": {
   "display_name": "Python 3",
   "language": "python",
   "name": "python3"
  },
  "language_info": {
   "codemirror_mode": {
    "name": "ipython",
    "version": 3
   },
   "file_extension": ".py",
   "mimetype": "text/x-python",
   "name": "python",
   "nbconvert_exporter": "python",
   "pygments_lexer": "ipython3",
   "version": "3.6.5"
  }
 },
 "nbformat": 4,
 "nbformat_minor": 2
}
