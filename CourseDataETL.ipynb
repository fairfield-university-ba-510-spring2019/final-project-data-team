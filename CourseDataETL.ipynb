{
 "cells": [
  {
   "cell_type": "markdown",
   "metadata": {},
   "source": [
    "# Importing Necessary Packages"
   ]
  },
  {
   "cell_type": "code",
   "execution_count": 1,
   "metadata": {},
   "outputs": [],
   "source": [
    "# Needed for SQL Alchemy  \n",
    "from sqlalchemy import create_engine\n",
    "engine=create_engine('sqlite:///.CourseData',echo=False)\n",
    "\n",
    "# All query results are returned as Pandas DataFrames \n",
    "import pandas as pd\n",
    "\n",
    "#Used for importing CSVs\n",
    "import glob\n",
    "import os\n",
    "\n",
    "# Needed for %sql Magic\n",
    "%load_ext sql\n",
    "\n",
    "import sqlite3"
   ]
  },
  {
   "cell_type": "markdown",
   "metadata": {},
   "source": [
    "# Creating the Databases"
   ]
  },
  {
   "cell_type": "code",
   "execution_count": 2,
   "metadata": {},
   "outputs": [],
   "source": [
    "#Create CourseData and CourseDqtaWarehouse Databases\n",
    "conn = sqlite3.connect(\"./CourseData.db\")\n",
    "conn = sqlite3.connect(\"./CourseDataWarehouse.db\")"
   ]
  },
  {
   "cell_type": "markdown",
   "metadata": {},
   "source": [
    "# Reading in the CSVs\n",
    "- Combined each CSV into one DataFrame dropping necessary files "
   ]
  },
  {
   "cell_type": "code",
   "execution_count": 3,
   "metadata": {},
   "outputs": [],
   "source": [
    "CourseCatalog2017_2018=pd.read_csv(\"./SourceData/Catalogs/CourseCatalog2017_2018.csv\")\n",
    "CourseCatalog2018_2019=pd.read_csv(\"./SourceData/Catalogs/CourseCatalog2018_2019.csv\")"
   ]
  },
  {
   "cell_type": "code",
   "execution_count": 4,
   "metadata": {},
   "outputs": [
    {
     "data": {
      "text/plain": [
       "array(['Fall2015', 'Fall2014', 'Winter2015', 'Spring2015', 'Summer2015',\n",
       "       'Fall2016', 'Fall2018', 'Fall2017', 'Spring2019',\n",
       "       'SpringBreak2017', 'Spring2017', 'Winter2018', 'Winter2016',\n",
       "       'Spring2016', 'Spring2018', 'Winter2017', 'Summer2017',\n",
       "       'Summer2018', 'Summer2016'], dtype=object)"
      ]
     },
     "execution_count": 4,
     "metadata": {},
     "output_type": "execute_result"
    }
   ],
   "source": [
    "#Reading and combining all course meetings CSVs\n",
    "\n",
    "#Get list of folders/files in Source Data folder\n",
    "folders=glob.glob('./SourceData/*')\n",
    "\n",
    "#Delete folders/files from list that don't contain course meeting CSV files\n",
    "del folders[5]\n",
    "del folders[12]\n",
    "del folders[16]\n",
    "\n",
    "#Read CSVs from folders in list and combine into a single dataframe\n",
    "all_files=[]\n",
    "for path in folders:\n",
    "    all_files += glob.glob(os.path.join(path, \"course_meetings.csv\"))     # advisable to use os.path.join as this makes concatenation OS independent\n",
    "df_from_each_file = (pd.read_csv(f) for f in all_files)\n",
    "course_meetings = pd.concat(df_from_each_file, ignore_index=True, sort=True)\n",
    "\n",
    "course_meetings.term.unique()\n"
   ]
  },
  {
   "cell_type": "code",
   "execution_count": 5,
   "metadata": {},
   "outputs": [],
   "source": [
    "#Reading and combining all courses CSVs\n",
    "\n",
    "#Get list of folders/files in Source Data folder\n",
    "folders=glob.glob('./SourceData/*')\n",
    "\n",
    "#Delete folders/files from list that don't contain courses CSV files\n",
    "del folders[5]\n",
    "del folders[12]\n",
    "del folders[16]\n",
    "\n",
    "#Read CSVs from folders in list and combine into a single dataframe\n",
    "all_files=[]\n",
    "for path in folders:\n",
    "    all_files += glob.glob(os.path.join(path, \"courses.csv\"))     # advisable to use os.path.join as this makes concatenation OS independent\n",
    "df_from_each_file = (pd.read_csv(f) for f in all_files)\n",
    "courses = pd.concat(df_from_each_file, ignore_index=True, sort=True)\n",
    "\n",
    "#courses.term.unique()\n",
    "\n",
    "\n",
    "\n",
    "#Split Meetings column in Courses DataFrame into separate columns\n",
    "courses=pd.merge(courses, courses['meetings'].str.split(',',expand=True), left_index=True, right_index=True)"
   ]
  },
  {
   "cell_type": "markdown",
   "metadata": {},
   "source": [
    "# Course Catalog to SQL"
   ]
  },
  {
   "cell_type": "code",
   "execution_count": 6,
   "metadata": {},
   "outputs": [],
   "source": [
    "CourseCatalog2017_2018.to_sql('CourseCatalog2017_2018',con=engine,if_exists='replace')\n",
    "CourseCatalog2018_2019.to_sql('CourseCatalog2018_2019',con=engine,if_exists='replace')"
   ]
  },
  {
   "cell_type": "markdown",
   "metadata": {},
   "source": [
    "# Course Meetings to SQL\n",
    "- Used separate tables because DataFrame is too large to import all at once\n",
    "- Sliced every 35,000 records in order to import"
   ]
  },
  {
   "cell_type": "code",
   "execution_count": 8,
   "metadata": {},
   "outputs": [],
   "source": [
    "#import course_meetings DataFrame to SQL as separate tables because DataFrame is too large to import at once.\n",
    "#Will use a union later in SQL to combine them\n",
    "\n",
    "course_meetings[:35000].to_sql('course_meetings1',con=engine,if_exists='replace')\n",
    "course_meetings[35000:70000].to_sql('course_meetings2',con=engine,if_exists='replace')\n",
    "course_meetings[70000:105000].to_sql('course_meetings3',con=engine,if_exists='replace')\n",
    "course_meetings[105000:140000].to_sql('course_meetings4',con=engine,if_exists='replace')\n",
    "course_meetings[140000:175000].to_sql('course_meetings5',con=engine,if_exists='replace')\n",
    "course_meetings[175000:210000].to_sql('course_meetings6',con=engine,if_exists='replace')\n",
    "course_meetings[210000:245000].to_sql('course_meetings7',con=engine,if_exists='replace')\n",
    "course_meetings[245000:280000].to_sql('course_meetings8',con=engine,if_exists='replace')\n",
    "course_meetings[280000:315000].to_sql('course_meetings9',con=engine,if_exists='replace')\n",
    "course_meetings[315000:].to_sql('course_meetings10',con=engine,if_exists='replace')"
   ]
  },
  {
   "cell_type": "markdown",
   "metadata": {},
   "source": [
    "# Courses DataFrame to SQL\n",
    "- Able to do once because the DataFrame is much smaller"
   ]
  },
  {
   "cell_type": "code",
   "execution_count": 9,
   "metadata": {},
   "outputs": [],
   "source": [
    "courses.to_sql('courses',con=engine,if_exists='replace')"
   ]
  },
  {
   "cell_type": "markdown",
   "metadata": {},
   "source": [
    "# Initialize the connection to Course Data Database"
   ]
  },
  {
   "cell_type": "code",
   "execution_count": 10,
   "metadata": {},
   "outputs": [
    {
     "data": {
      "text/plain": [
       "'Connected: @.CourseData'"
      ]
     },
     "execution_count": 10,
     "metadata": {},
     "output_type": "execute_result"
    }
   ],
   "source": [
    "# Initialize \n",
    "%sql sqlite:///.CourseData"
   ]
  },
  {
   "cell_type": "markdown",
   "metadata": {},
   "source": [
    "# Create Combined Course Catalog Table"
   ]
  },
  {
   "cell_type": "code",
   "execution_count": 11,
   "metadata": {},
   "outputs": [
    {
     "name": "stdout",
     "output_type": "stream",
     "text": [
      " * sqlite:///.CourseData\n",
      "(sqlite3.OperationalError) table CourseCatalogCombined already exists [SQL: 'Create table CourseCatalogCombined(\\nYear text,\\nprogram_code text,\\ncatalog_id text,\\ncourse_title text,\\ncredits text,\\nprereqs text,\\ncoreqs text,\\nfees text,\\nattributes text,\\ndescription text\\n);'] (Background on this error at: http://sqlalche.me/e/e3q8)\n"
     ]
    }
   ],
   "source": [
    "%%sql\n",
    "\n",
    "Create table CourseCatalogCombined(\n",
    "Year text,\n",
    "program_code text,\n",
    "catalog_id text,\n",
    "course_title text,\n",
    "credits text,\n",
    "prereqs text,\n",
    "coreqs text,\n",
    "fees text,\n",
    "attributes text,\n",
    "description text\n",
    ");\n",
    "\n",
    "insert into CourseCatalogCombined\n",
    "select *\n",
    "from (\n",
    "select '2017_2018' Year,program_code,catalog_id,course_title,credits,prereqs,coreqs,fees,attributes,description from CourseCatalog2017_2018\n",
    "union all\n",
    "select '2018_2019' Year,program_code,catalog_id,course_title,credits,prereqs,coreqs,fees,attributes,description from CourseCatalog2018_2019) a"
   ]
  },
  {
   "cell_type": "markdown",
   "metadata": {},
   "source": [
    "# Create Overall Course Meetings Table\n",
    "- Specified column datatypes"
   ]
  },
  {
   "cell_type": "code",
   "execution_count": 12,
   "metadata": {},
   "outputs": [
    {
     "name": "stdout",
     "output_type": "stream",
     "text": [
      " * sqlite:///.CourseData\n",
      "(sqlite3.OperationalError) table all_course_meetings already exists [SQL: 'CREATE TABLE all_course_meetings (\\nterm text,\\ncrn int,\\nlocation datexttatype,\\nday text,\\nstart text,\\nend text\\n);'] (Background on this error at: http://sqlalche.me/e/e3q8)\n"
     ]
    }
   ],
   "source": [
    "%%sql\n",
    "\n",
    "CREATE TABLE all_course_meetings (\n",
    "term text,\n",
    "crn int,\n",
    "location datexttatype,\n",
    "day text,\n",
    "start text,\n",
    "end text\n",
    ");"
   ]
  },
  {
   "cell_type": "markdown",
   "metadata": {},
   "source": [
    "# Inserted data into table\n",
    "- Used union to combine previously separated tables into one table"
   ]
  },
  {
   "cell_type": "code",
   "execution_count": 72,
   "metadata": {},
   "outputs": [
    {
     "name": "stdout",
     "output_type": "stream",
     "text": [
      " * sqlite:///.CourseData\n",
      "(sqlite3.OperationalError) table all_course_meetings has 9 columns but 6 values were supplied [SQL: 'INSERT INTO all_course_meetings\\n    select term,crn,location,day,start,end from course_meetings1\\nunion all\\n    select term,crn,location,day,start,end from course_meetings2\\nunion all\\n    select term,crn,location,day,start,end from course_meetings3\\nunion all\\n    select term,crn,location,day,start,end from course_meetings4\\nunion all\\n    select term,crn,location,day,start,end from course_meetings5\\nunion all\\n    select term,crn,location,day,start,end from course_meetings6\\nunion all\\n    select term,crn,location,day,start,end from course_meetings7\\nunion all\\n    select term,crn,location,day,start,end from course_meetings8\\nunion all\\n    select term,crn,location,day,start,end from course_meetings9\\nunion all\\n    select term,crn,location,day,start,end from course_meetings10\\n;'] (Background on this error at: http://sqlalche.me/e/e3q8)\n"
     ]
    }
   ],
   "source": [
    "#%%sql\n",
    "\n",
    "INSERT INTO all_course_meetings\n",
    "    select term,crn,location,day,start,end from course_meetings1\n",
    "union all\n",
    "    select term,crn,location,day,start,end from course_meetings2\n",
    "union all\n",
    "    select term,crn,location,day,start,end from course_meetings3\n",
    "union all\n",
    "    select term,crn,location,day,start,end from course_meetings4\n",
    "union all\n",
    "    select term,crn,location,day,start,end from course_meetings5\n",
    "union all\n",
    "    select term,crn,location,day,start,end from course_meetings6\n",
    "union all\n",
    "    select term,crn,location,day,start,end from course_meetings7\n",
    "union all\n",
    "    select term,crn,location,day,start,end from course_meetings8\n",
    "union all\n",
    "    select term,crn,location,day,start,end from course_meetings9\n",
    "union all\n",
    "    select term,crn,location,day,start,end from course_meetings10\n",
    ";"
   ]
  },
  {
   "cell_type": "markdown",
   "metadata": {},
   "source": [
    "# Alter table to break Start and End columns into separate Date and Time columns"
   ]
  },
  {
   "cell_type": "code",
   "execution_count": 74,
   "metadata": {},
   "outputs": [
    {
     "name": "stdout",
     "output_type": "stream",
     "text": [
      " * sqlite:///.CourseData\n",
      "Done.\n",
      "317321 rows affected.\n",
      "Done.\n",
      "317321 rows affected.\n",
      "Done.\n",
      "317321 rows affected.\n"
     ]
    },
    {
     "data": {
      "text/plain": [
       "[]"
      ]
     },
     "execution_count": 74,
     "metadata": {},
     "output_type": "execute_result"
    }
   ],
   "source": [
    "%%sql\n",
    "\n",
    "alter table all_course_meetings add MeetingDate date;\n",
    "update all_course_meetings set MeetingDate = substr(start,1,10);\n",
    "\n",
    "alter table all_course_meetings add StartTime time;\n",
    "update all_course_meetings set StartTime=substr(start,12);\n",
    "alter table all_course_meetings add EndTime time;\n",
    "update all_course_meetings set EndTime=substr(end,12);\n"
   ]
  },
  {
   "cell_type": "markdown",
   "metadata": {},
   "source": [
    "# Create Courses Table"
   ]
  },
  {
   "cell_type": "code",
   "execution_count": 19,
   "metadata": {},
   "outputs": [
    {
     "name": "stdout",
     "output_type": "stream",
     "text": [
      " * sqlite:///.CourseData\n",
      "Done.\n"
     ]
    },
    {
     "data": {
      "text/plain": [
       "[]"
      ]
     },
     "execution_count": 19,
     "metadata": {},
     "output_type": "execute_result"
    }
   ],
   "source": [
    "%%sql\n",
    "\n",
    "CREATE TABLE courses_clean(\n",
    "act BIGINT,\n",
    "cap BIGINT,\n",
    "catalog_id TEXT,\n",
    "credits TEXT,\n",
    "crn BIGINT,\n",
    "meetings TEXT,\n",
    "primary_instructor TEXT,\n",
    "rem BIGINT,\n",
    "section TEXT,\n",
    "term TEXT,\n",
    "title TEXT,\n",
    "days TEXT,\n",
    "times TEXT,\n",
    "dates TEXT,\n",
    "location TEXT\n",
    ");"
   ]
  },
  {
   "cell_type": "markdown",
   "metadata": {},
   "source": [
    "# Cleaned Courses Table\n",
    "- Broke courses with multiple meetings into separate records \n",
    "- Will allow for easier queries"
   ]
  },
  {
   "cell_type": "code",
   "execution_count": 20,
   "metadata": {},
   "outputs": [
    {
     "name": "stdout",
     "output_type": "stream",
     "text": [
      " * sqlite:///.CourseData\n",
      "0 rows affected.\n",
      "15937 rows affected.\n"
     ]
    },
    {
     "data": {
      "text/plain": [
       "[]"
      ]
     },
     "execution_count": 20,
     "metadata": {},
     "output_type": "execute_result"
    }
   ],
   "source": [
    "%%sql\n",
    "delete from courses_clean;\n",
    "\n",
    "insert into courses_clean\n",
    "SELECT * from\n",
    "(\n",
    "    select act ,cap ,catalog_id ,credits ,crn ,meetings ,primary_instructor ,rem ,section ,term ,title ,[0] ,[1] ,[2] ,[3] \n",
    "    from courses\n",
    "    where [4] is null \n",
    "union all\n",
    "    select act ,cap ,catalog_id ,credits ,crn ,meetings ,primary_instructor ,rem ,section ,term ,title ,[4] ,[5] ,[6] ,[7]\n",
    "    from courses\n",
    "    where [4] is not null and [8] is null\n",
    "union all\n",
    "    select act ,cap ,catalog_id ,credits ,crn ,meetings ,primary_instructor ,rem ,section ,term ,title ,[8] ,[9] ,[10] ,[11]\n",
    "    from courses\n",
    "    where [8] is not null and [12] is null\n",
    "union all\n",
    "    select act ,cap ,catalog_id ,credits ,crn ,meetings ,primary_instructor ,rem ,section ,term ,title ,[12] ,[13] ,[14] ,[15]\n",
    "    from courses\n",
    "    where [12] is not null and [16] is null\n",
    "union all\n",
    "    select act ,cap ,catalog_id ,credits ,crn ,meetings ,primary_instructor ,rem ,section ,term ,title ,[16] ,[17] ,[18] ,[19]\n",
    "    from courses\n",
    "    where [16] is not null and [20] is null \n",
    "union all\n",
    "    select act ,cap ,catalog_id ,credits ,crn ,meetings ,primary_instructor ,rem ,section ,term ,title ,[20] ,[21] ,[22] ,[23]\n",
    "    from courses\n",
    "    where [20] is not null and [24] is null \n",
    "union all\n",
    "    select act ,cap ,catalog_id ,credits ,crn ,meetings ,primary_instructor ,rem ,section ,term ,title ,[24] ,[25] ,[26] ,[27]\n",
    "    from courses\n",
    "    where [24] is not null and [28] is null \n",
    "union all\n",
    "    select act ,cap ,catalog_id ,credits ,crn ,meetings ,primary_instructor ,rem ,section ,term ,title ,[28] ,[29] ,[30] ,[31]\n",
    "    from courses\n",
    "    where [28] is not null and [32] is null \n",
    "union all\n",
    "    select act ,cap ,catalog_id ,credits ,crn ,meetings ,primary_instructor ,rem ,section ,term ,title ,[32] ,[33] ,[34] ,[35]\n",
    "    from courses\n",
    "    where [32] is not null and [36] is null \n",
    "union all\n",
    "    select act ,cap ,catalog_id ,credits ,crn ,meetings ,primary_instructor ,rem ,section ,term ,title ,[36] ,[37] ,[38] ,[39]\n",
    "    from courses\n",
    "    where [36] is not null and [40] is null \n",
    "union all\n",
    "    select act ,cap ,catalog_id ,credits ,crn ,meetings ,primary_instructor ,rem ,section ,term ,title ,[40] ,[41] ,[42] ,[43]\n",
    "    from courses\n",
    "    where [40] is not null \n",
    "    ) "
   ]
  },
  {
   "cell_type": "markdown",
   "metadata": {},
   "source": [
    "# Created New DataFrame\n",
    "- Wanted to clean up data with Python because SQL does not allow for easy character replacement"
   ]
  },
  {
   "cell_type": "code",
   "execution_count": 22,
   "metadata": {},
   "outputs": [],
   "source": [
    "courses_clean=pd.read_sql_table('courses_clean',con=engine)\n",
    "\n",
    "\n",
    "for i in ['[','{',':','days',\"'\",' ']:\n",
    "    courses_clean['days']=courses_clean['days'].str.replace(i,'')\n",
    "\n",
    "for i in ['[','{',':','times',\"'\",' ']:\n",
    "    courses_clean['times']=courses_clean['times'].str.replace(i,'')\n",
    "\n",
    "for i in ['[','{',':','dates',\"'\",' ']:\n",
    "    courses_clean['dates']=courses_clean['dates'].str.replace(i,'')\n",
    "\n",
    "for i in ['[','{',':','location',\"'\",' ','}',']']:\n",
    "    courses_clean['location']=courses_clean['location'].str.replace(i,'')\n",
    "    \n",
    "courses_clean = courses_clean.drop('meetings', 1)\n",
    "\n",
    "courses_clean.head(5)\n",
    "\n",
    "courses_clean.to_sql('courses_final',con=engine,if_exists='replace')"
   ]
  },
  {
   "cell_type": "markdown",
   "metadata": {},
   "source": [
    "Checking if Timecodes column in courses table has any data that isn't included in the columns that we broke out from the original meetings column:"
   ]
  },
  {
   "cell_type": "code",
   "execution_count": 33,
   "metadata": {},
   "outputs": [
    {
     "name": "stdout",
     "output_type": "stream",
     "text": [
      " * sqlite:///.CourseData\n",
      "Done.\n"
     ]
    },
    {
     "data": {
      "text/html": [
       "<table>\n",
       "    <tr>\n",
       "        <th>Year</th>\n",
       "        <th>program_code</th>\n",
       "        <th>catalog_id</th>\n",
       "        <th>course_title</th>\n",
       "        <th>credits</th>\n",
       "        <th>prereqs</th>\n",
       "        <th>coreqs</th>\n",
       "        <th>fees</th>\n",
       "        <th>attributes</th>\n",
       "        <th>description</th>\n",
       "    </tr>\n",
       "    <tr>\n",
       "        <td>2017_2018</td>\n",
       "        <td>AN</td>\n",
       "        <td>AN 0301</td>\n",
       "        <td>Independent Study</td>\n",
       "        <td>1-3 Credits</td>\n",
       "        <td>None</td>\n",
       "        <td>None</td>\n",
       "        <td>None</td>\n",
       "        <td>None</td>\n",
       "        <td>Students undertake an individualized program of study in consultation with a director from the Asian studies faculty.</td>\n",
       "    </tr>\n",
       "    <tr>\n",
       "        <td>2017_2018</td>\n",
       "        <td>AN</td>\n",
       "        <td>AN 0310</td>\n",
       "        <td>Asian Studies Seminar</td>\n",
       "        <td>3 Credits</td>\n",
       "        <td>None</td>\n",
       "        <td>None</td>\n",
       "        <td>None</td>\n",
       "        <td>None</td>\n",
       "        <td>This seminar examines selected topics concerning Asia. This course is taught in conjunction with another 100-300 level course from a rotation of course offerings. Consult the Asian Studies director to identify the conjoined course for a given semester. The seminar concentrates on topics within the parameters of the conjoined course syllabus but adds research emphasis. Students registered for this course must complete a research project, to include 300-level research, in addition to the regular research requirements of the conjoined course, and a 25-50 page term paper in substitution of some portion of the conjoined course requirements, as determined by the instructor. Open to juniors and seniors only.</td>\n",
       "    </tr>\n",
       "</table>"
      ],
      "text/plain": [
       "[('2017_2018', 'AN', 'AN 0301', 'Independent Study', '1-3 Credits', None, None, None, None, 'Students undertake an individualized program of study in consultation with a director from the Asian studies faculty.'),\n",
       " ('2017_2018', 'AN', 'AN 0310', 'Asian Studies Seminar', '3 Credits', None, None, None, None, 'This seminar examines selected topics concerning Asia. This course is taught in conjunction with another 100-300 level course from a rotation of cour ... (412 characters truncated) ... e term paper in substitution of some portion of the conjoined course requirements, as determined by the instructor. Open to juniors and seniors only.')]"
      ]
     },
     "execution_count": 33,
     "metadata": {},
     "output_type": "execute_result"
    }
   ],
   "source": [
    "%%sql\n",
    "\n",
    "\n",
    "select * from CourseCatalogCombined limit 2;\n",
    "\n",
    "\n"
   ]
  },
  {
   "cell_type": "code",
   "execution_count": 225,
   "metadata": {},
   "outputs": [
    {
     "name": "stdout",
     "output_type": "stream",
     "text": [
      " * sqlite:///.CourseData\n",
      "(sqlite3.OperationalError) no such column: crn [SQL: 'select count(*)\\nfrom (\\nselect distinct crn,term from CourseCatalogCombined\\n) a'] (Background on this error at: http://sqlalche.me/e/e3q8)\n"
     ]
    }
   ],
   "source": [
    "%%sql\n",
    "\n",
    "select count(*)\n",
    "from (\n",
    "select distinct crn,term from CourseCatalogCombined\n",
    ") a"
   ]
  },
  {
   "cell_type": "code",
   "execution_count": 217,
   "metadata": {},
   "outputs": [
    {
     "name": "stdout",
     "output_type": "stream",
     "text": [
      " * sqlite:///.CourseData\n",
      "Done.\n"
     ]
    },
    {
     "data": {
      "text/html": [
       "<table>\n",
       "    <tr>\n",
       "        <th>index</th>\n",
       "        <th>act</th>\n",
       "        <th>cap</th>\n",
       "        <th>catalog_id</th>\n",
       "        <th>credits</th>\n",
       "        <th>crn</th>\n",
       "        <th>primary_instructor</th>\n",
       "        <th>rem</th>\n",
       "        <th>section</th>\n",
       "        <th>term</th>\n",
       "        <th>title</th>\n",
       "        <th>days</th>\n",
       "        <th>times</th>\n",
       "        <th>dates</th>\n",
       "        <th>location</th>\n",
       "    </tr>\n",
       "    <tr>\n",
       "        <td>0</td>\n",
       "        <td>35</td>\n",
       "        <td>0</td>\n",
       "        <td>AC 0011</td>\n",
       "        <td>3.000</td>\n",
       "        <td>75222</td>\n",
       "        <td>Rebecca I.  Bloch</td>\n",
       "        <td>-35</td>\n",
       "        <td>C01</td>\n",
       "        <td>Fall2015</td>\n",
       "        <td>Introduction to Financial Accounting</td>\n",
       "        <td>MR</td>\n",
       "        <td>0200pm-0315pm</td>\n",
       "        <td>09/01-12/07</td>\n",
       "        <td>DSB112</td>\n",
       "    </tr>\n",
       "    <tr>\n",
       "        <td>1</td>\n",
       "        <td>33</td>\n",
       "        <td>0</td>\n",
       "        <td>AC 0011</td>\n",
       "        <td>3.000</td>\n",
       "        <td>75240</td>\n",
       "        <td>Rebecca I.  Bloch</td>\n",
       "        <td>-33</td>\n",
       "        <td>C02</td>\n",
       "        <td>Fall2015</td>\n",
       "        <td>Introduction to Financial Accounting</td>\n",
       "        <td>MR</td>\n",
       "        <td>0330pm-0445pm</td>\n",
       "        <td>09/01-12/07</td>\n",
       "        <td>DSB112</td>\n",
       "    </tr>\n",
       "    <tr>\n",
       "        <td>2</td>\n",
       "        <td>32</td>\n",
       "        <td>0</td>\n",
       "        <td>AC 0011</td>\n",
       "        <td>3.000</td>\n",
       "        <td>75241</td>\n",
       "        <td>Michael P.  Coyne</td>\n",
       "        <td>-32</td>\n",
       "        <td>C03</td>\n",
       "        <td>Fall2015</td>\n",
       "        <td>Introduction to Financial Accounting</td>\n",
       "        <td>TF</td>\n",
       "        <td>0200pm-0315pm</td>\n",
       "        <td>09/01-12/07</td>\n",
       "        <td>DSB115</td>\n",
       "    </tr>\n",
       "    <tr>\n",
       "        <td>3</td>\n",
       "        <td>35</td>\n",
       "        <td>0</td>\n",
       "        <td>AC 0011</td>\n",
       "        <td>3.000</td>\n",
       "        <td>75243</td>\n",
       "        <td>Michael P.  Coyne</td>\n",
       "        <td>-35</td>\n",
       "        <td>C04</td>\n",
       "        <td>Fall2015</td>\n",
       "        <td>Introduction to Financial Accounting</td>\n",
       "        <td>TF</td>\n",
       "        <td>0800am-0915am</td>\n",
       "        <td>09/01-12/07</td>\n",
       "        <td>DSB111</td>\n",
       "    </tr>\n",
       "    <tr>\n",
       "        <td>4</td>\n",
       "        <td>36</td>\n",
       "        <td>0</td>\n",
       "        <td>AC 0011</td>\n",
       "        <td>3.000</td>\n",
       "        <td>75244</td>\n",
       "        <td>Michael P.  Coyne</td>\n",
       "        <td>-36</td>\n",
       "        <td>C05</td>\n",
       "        <td>Fall2015</td>\n",
       "        <td>Introduction to Financial Accounting</td>\n",
       "        <td>TF</td>\n",
       "        <td>0930am-1045am</td>\n",
       "        <td>09/01-12/07</td>\n",
       "        <td>DSB111</td>\n",
       "    </tr>\n",
       "    <tr>\n",
       "        <td>5</td>\n",
       "        <td>32</td>\n",
       "        <td>29</td>\n",
       "        <td>AC 0011</td>\n",
       "        <td>3.000</td>\n",
       "        <td>75242</td>\n",
       "        <td>Paul   Caster</td>\n",
       "        <td>-3</td>\n",
       "        <td>F</td>\n",
       "        <td>Fall2015</td>\n",
       "        <td>Introduction to Financial Accounting</td>\n",
       "        <td>MR</td>\n",
       "        <td>0930am-1045am</td>\n",
       "        <td>09/01-12/07</td>\n",
       "        <td>DSB111</td>\n",
       "    </tr>\n",
       "    <tr>\n",
       "        <td>6</td>\n",
       "        <td>30</td>\n",
       "        <td>29</td>\n",
       "        <td>AC 0011</td>\n",
       "        <td>3.000</td>\n",
       "        <td>75461</td>\n",
       "        <td>Jo Ann   Drusbosky</td>\n",
       "        <td>-1</td>\n",
       "        <td>G</td>\n",
       "        <td>Fall2015</td>\n",
       "        <td>Introduction to Financial Accounting</td>\n",
       "        <td>TF</td>\n",
       "        <td>1230pm-0145pm</td>\n",
       "        <td>09/01-12/07</td>\n",
       "        <td>DSB111</td>\n",
       "    </tr>\n",
       "    <tr>\n",
       "        <td>7</td>\n",
       "        <td>32</td>\n",
       "        <td>29</td>\n",
       "        <td>AC 0011</td>\n",
       "        <td>3.000</td>\n",
       "        <td>75484</td>\n",
       "        <td>Jo Ann   Drusbosky</td>\n",
       "        <td>-3</td>\n",
       "        <td>I</td>\n",
       "        <td>Fall2015</td>\n",
       "        <td>Introduction to Financial Accounting</td>\n",
       "        <td>TF</td>\n",
       "        <td>0330pm-0445pm</td>\n",
       "        <td>09/01-12/07</td>\n",
       "        <td>DSB111</td>\n",
       "    </tr>\n",
       "    <tr>\n",
       "        <td>8</td>\n",
       "        <td>28</td>\n",
       "        <td>29</td>\n",
       "        <td>AC 0011</td>\n",
       "        <td>3.000</td>\n",
       "        <td>75729</td>\n",
       "        <td>Arleen N.  Kardos</td>\n",
       "        <td>1</td>\n",
       "        <td>J</td>\n",
       "        <td>Fall2015</td>\n",
       "        <td>Introduction to Financial Accounting</td>\n",
       "        <td>TF</td>\n",
       "        <td>1100am-1215pm</td>\n",
       "        <td>09/01-12/07</td>\n",
       "        <td>DSB105</td>\n",
       "    </tr>\n",
       "    <tr>\n",
       "        <td>9</td>\n",
       "        <td>29</td>\n",
       "        <td>29</td>\n",
       "        <td>AC 0011</td>\n",
       "        <td>3.000</td>\n",
       "        <td>76101</td>\n",
       "        <td>Arleen N.  Kardos</td>\n",
       "        <td>0</td>\n",
       "        <td>K</td>\n",
       "        <td>Fall2015</td>\n",
       "        <td>Introduction to Financial Accounting</td>\n",
       "        <td>TF</td>\n",
       "        <td>1230pm-0145pm</td>\n",
       "        <td>09/01-12/07</td>\n",
       "        <td>DSB105</td>\n",
       "    </tr>\n",
       "    <tr>\n",
       "        <td>10</td>\n",
       "        <td>24</td>\n",
       "        <td>29</td>\n",
       "        <td>AC 0011</td>\n",
       "        <td>3.000</td>\n",
       "        <td>76102</td>\n",
       "        <td>Scott M  Brenner</td>\n",
       "        <td>5</td>\n",
       "        <td>L</td>\n",
       "        <td>Fall2015</td>\n",
       "        <td>Introduction to Financial Accounting</td>\n",
       "        <td>MW</td>\n",
       "        <td>0500pm-0615pm</td>\n",
       "        <td>09/01-12/07</td>\n",
       "        <td>DSB110B</td>\n",
       "    </tr>\n",
       "    <tr>\n",
       "        <td>11</td>\n",
       "        <td>26</td>\n",
       "        <td>29</td>\n",
       "        <td>AC 0011</td>\n",
       "        <td>3.000</td>\n",
       "        <td>76689</td>\n",
       "        <td>Scott M  Brenner</td>\n",
       "        <td>3</td>\n",
       "        <td>M</td>\n",
       "        <td>Fall2015</td>\n",
       "        <td>Introduction to Financial Accounting</td>\n",
       "        <td>MW</td>\n",
       "        <td>0630pm-0745pm</td>\n",
       "        <td>09/01-12/07</td>\n",
       "        <td>DSB110B</td>\n",
       "    </tr>\n",
       "    <tr>\n",
       "        <td>12</td>\n",
       "        <td>29</td>\n",
       "        <td>29</td>\n",
       "        <td>AC 0011</td>\n",
       "        <td>3.000</td>\n",
       "        <td>76690</td>\n",
       "        <td>Jo Ann   Drusbosky</td>\n",
       "        <td>0</td>\n",
       "        <td>N</td>\n",
       "        <td>Fall2015</td>\n",
       "        <td>Introduction to Financial Accounting</td>\n",
       "        <td>TF</td>\n",
       "        <td>1100am-1215pm</td>\n",
       "        <td>09/01-12/07</td>\n",
       "        <td>DSB111</td>\n",
       "    </tr>\n",
       "    <tr>\n",
       "        <td>13</td>\n",
       "        <td>27</td>\n",
       "        <td>29</td>\n",
       "        <td>AC 0011</td>\n",
       "        <td>3.000</td>\n",
       "        <td>76694</td>\n",
       "        <td>Jo Ann   Drusbosky</td>\n",
       "        <td>2</td>\n",
       "        <td>R</td>\n",
       "        <td>Fall2015</td>\n",
       "        <td>Introduction to Financial Accounting</td>\n",
       "        <td>TF</td>\n",
       "        <td>0500pm-0615pm</td>\n",
       "        <td>09/01-12/07</td>\n",
       "        <td>DSB111</td>\n",
       "    </tr>\n",
       "    <tr>\n",
       "        <td>14</td>\n",
       "        <td>24</td>\n",
       "        <td>0</td>\n",
       "        <td>AC 0012</td>\n",
       "        <td>3.000</td>\n",
       "        <td>75189</td>\n",
       "        <td>Joan L.  Lee</td>\n",
       "        <td>-24</td>\n",
       "        <td>A</td>\n",
       "        <td>Fall2015</td>\n",
       "        <td>Introduction to Management Accounting</td>\n",
       "        <td>MR</td>\n",
       "        <td>0200pm-0315pm</td>\n",
       "        <td>09/01-12/07</td>\n",
       "        <td>DSB109</td>\n",
       "    </tr>\n",
       "</table>"
      ],
      "text/plain": [
       "[(0, 35, 0, 'AC 0011', '3.000', 75222, 'Rebecca I.  Bloch', -35, 'C01', 'Fall2015', 'Introduction to Financial Accounting', 'MR', '0200pm-0315pm', '09/01-12/07', 'DSB112'),\n",
       " (1, 33, 0, 'AC 0011', '3.000', 75240, 'Rebecca I.  Bloch', -33, 'C02', 'Fall2015', 'Introduction to Financial Accounting', 'MR', '0330pm-0445pm', '09/01-12/07', 'DSB112'),\n",
       " (2, 32, 0, 'AC 0011', '3.000', 75241, 'Michael P.  Coyne', -32, 'C03', 'Fall2015', 'Introduction to Financial Accounting', 'TF', '0200pm-0315pm', '09/01-12/07', 'DSB115'),\n",
       " (3, 35, 0, 'AC 0011', '3.000', 75243, 'Michael P.  Coyne', -35, 'C04', 'Fall2015', 'Introduction to Financial Accounting', 'TF', '0800am-0915am', '09/01-12/07', 'DSB111'),\n",
       " (4, 36, 0, 'AC 0011', '3.000', 75244, 'Michael P.  Coyne', -36, 'C05', 'Fall2015', 'Introduction to Financial Accounting', 'TF', '0930am-1045am', '09/01-12/07', 'DSB111'),\n",
       " (5, 32, 29, 'AC 0011', '3.000', 75242, 'Paul   Caster', -3, 'F', 'Fall2015', 'Introduction to Financial Accounting', 'MR', '0930am-1045am', '09/01-12/07', 'DSB111'),\n",
       " (6, 30, 29, 'AC 0011', '3.000', 75461, 'Jo Ann   Drusbosky', -1, 'G', 'Fall2015', 'Introduction to Financial Accounting', 'TF', '1230pm-0145pm', '09/01-12/07', 'DSB111'),\n",
       " (7, 32, 29, 'AC 0011', '3.000', 75484, 'Jo Ann   Drusbosky', -3, 'I', 'Fall2015', 'Introduction to Financial Accounting', 'TF', '0330pm-0445pm', '09/01-12/07', 'DSB111'),\n",
       " (8, 28, 29, 'AC 0011', '3.000', 75729, 'Arleen N.  Kardos', 1, 'J', 'Fall2015', 'Introduction to Financial Accounting', 'TF', '1100am-1215pm', '09/01-12/07', 'DSB105'),\n",
       " (9, 29, 29, 'AC 0011', '3.000', 76101, 'Arleen N.  Kardos', 0, 'K', 'Fall2015', 'Introduction to Financial Accounting', 'TF', '1230pm-0145pm', '09/01-12/07', 'DSB105'),\n",
       " (10, 24, 29, 'AC 0011', '3.000', 76102, 'Scott M  Brenner', 5, 'L', 'Fall2015', 'Introduction to Financial Accounting', 'MW', '0500pm-0615pm', '09/01-12/07', 'DSB110B'),\n",
       " (11, 26, 29, 'AC 0011', '3.000', 76689, 'Scott M  Brenner', 3, 'M', 'Fall2015', 'Introduction to Financial Accounting', 'MW', '0630pm-0745pm', '09/01-12/07', 'DSB110B'),\n",
       " (12, 29, 29, 'AC 0011', '3.000', 76690, 'Jo Ann   Drusbosky', 0, 'N', 'Fall2015', 'Introduction to Financial Accounting', 'TF', '1100am-1215pm', '09/01-12/07', 'DSB111'),\n",
       " (13, 27, 29, 'AC 0011', '3.000', 76694, 'Jo Ann   Drusbosky', 2, 'R', 'Fall2015', 'Introduction to Financial Accounting', 'TF', '0500pm-0615pm', '09/01-12/07', 'DSB111'),\n",
       " (14, 24, 0, 'AC 0012', '3.000', 75189, 'Joan L.  Lee', -24, 'A', 'Fall2015', 'Introduction to Management Accounting', 'MR', '0200pm-0315pm', '09/01-12/07', 'DSB109')]"
      ]
     },
     "execution_count": 217,
     "metadata": {},
     "output_type": "execute_result"
    }
   ],
   "source": [
    "%%sql\n",
    "\n",
    "select *\n",
    "from courses_final\n",
    "limit 15;\n",
    "\n",
    "\n"
   ]
  },
  {
   "cell_type": "code",
   "execution_count": 229,
   "metadata": {},
   "outputs": [
    {
     "name": "stdout",
     "output_type": "stream",
     "text": [
      " * sqlite:///.CourseData\n",
      "Done.\n"
     ]
    },
    {
     "data": {
      "text/html": [
       "<table>\n",
       "    <tr>\n",
       "        <th>count(*)</th>\n",
       "    </tr>\n",
       "    <tr>\n",
       "        <td>15937</td>\n",
       "    </tr>\n",
       "</table>"
      ],
      "text/plain": [
       "[(15937,)]"
      ]
     },
     "execution_count": 229,
     "metadata": {},
     "output_type": "execute_result"
    }
   ],
   "source": [
    "%%sql\n",
    "\n",
    "select count(*)\n",
    "from (\n",
    "select distinct crn,section,term from courses_final\n",
    ") a\n",
    "\n"
   ]
  },
  {
   "cell_type": "code",
   "execution_count": 194,
   "metadata": {},
   "outputs": [
    {
     "name": "stdout",
     "output_type": "stream",
     "text": [
      " * sqlite:///.CourseData\n",
      "Done.\n"
     ]
    },
    {
     "data": {
      "text/html": [
       "<table>\n",
       "    <tr>\n",
       "        <th>crn</th>\n",
       "        <th>location</th>\n",
       "        <th>StartTime</th>\n",
       "        <th>EndTime</th>\n",
       "    </tr>\n",
       "    <tr>\n",
       "        <td>75222</td>\n",
       "        <td>DSB 112</td>\n",
       "        <td>14:00:00</td>\n",
       "        <td>15:15:00</td>\n",
       "    </tr>\n",
       "    <tr>\n",
       "        <td>75240</td>\n",
       "        <td>DSB 112</td>\n",
       "        <td>15:30:00</td>\n",
       "        <td>16:45:00</td>\n",
       "    </tr>\n",
       "    <tr>\n",
       "        <td>75241</td>\n",
       "        <td>DSB 115</td>\n",
       "        <td>14:00:00</td>\n",
       "        <td>15:15:00</td>\n",
       "    </tr>\n",
       "    <tr>\n",
       "        <td>75243</td>\n",
       "        <td>DSB 111</td>\n",
       "        <td>08:00:00</td>\n",
       "        <td>09:15:00</td>\n",
       "    </tr>\n",
       "    <tr>\n",
       "        <td>75244</td>\n",
       "        <td>DSB 111</td>\n",
       "        <td>09:30:00</td>\n",
       "        <td>10:45:00</td>\n",
       "    </tr>\n",
       "    <tr>\n",
       "        <td>75242</td>\n",
       "        <td>DSB 111</td>\n",
       "        <td>09:30:00</td>\n",
       "        <td>10:45:00</td>\n",
       "    </tr>\n",
       "    <tr>\n",
       "        <td>75461</td>\n",
       "        <td>DSB 111</td>\n",
       "        <td>12:30:00</td>\n",
       "        <td>13:45:00</td>\n",
       "    </tr>\n",
       "    <tr>\n",
       "        <td>75484</td>\n",
       "        <td>DSB 111</td>\n",
       "        <td>15:30:00</td>\n",
       "        <td>16:45:00</td>\n",
       "    </tr>\n",
       "    <tr>\n",
       "        <td>75729</td>\n",
       "        <td>DSB 105</td>\n",
       "        <td>11:00:00</td>\n",
       "        <td>12:15:00</td>\n",
       "    </tr>\n",
       "    <tr>\n",
       "        <td>76101</td>\n",
       "        <td>DSB 105</td>\n",
       "        <td>12:30:00</td>\n",
       "        <td>13:45:00</td>\n",
       "    </tr>\n",
       "</table>"
      ],
      "text/plain": [
       "[(75222, 'DSB 112', '14:00:00', '15:15:00'),\n",
       " (75240, 'DSB 112', '15:30:00', '16:45:00'),\n",
       " (75241, 'DSB 115', '14:00:00', '15:15:00'),\n",
       " (75243, 'DSB 111', '08:00:00', '09:15:00'),\n",
       " (75244, 'DSB 111', '09:30:00', '10:45:00'),\n",
       " (75242, 'DSB 111', '09:30:00', '10:45:00'),\n",
       " (75461, 'DSB 111', '12:30:00', '13:45:00'),\n",
       " (75484, 'DSB 111', '15:30:00', '16:45:00'),\n",
       " (75729, 'DSB 105', '11:00:00', '12:15:00'),\n",
       " (76101, 'DSB 105', '12:30:00', '13:45:00')]"
      ]
     },
     "execution_count": 194,
     "metadata": {},
     "output_type": "execute_result"
    }
   ],
   "source": [
    "%%sql\n",
    "\n",
    "select distinct crn,location,starttime,endtime from all_course_meetings limit 10;"
   ]
  },
  {
   "cell_type": "code",
   "execution_count": 188,
   "metadata": {},
   "outputs": [
    {
     "name": "stdout",
     "output_type": "stream",
     "text": [
      " * sqlite:///.CourseData\n",
      "Done.\n"
     ]
    },
    {
     "data": {
      "text/html": [
       "<table>\n",
       "    <tr>\n",
       "        <th>term</th>\n",
       "        <th>crn</th>\n",
       "        <th>location</th>\n",
       "        <th>day</th>\n",
       "        <th>start</th>\n",
       "        <th>end</th>\n",
       "        <th>MeetingDate</th>\n",
       "        <th>StartTime</th>\n",
       "        <th>EndTime</th>\n",
       "    </tr>\n",
       "    <tr>\n",
       "        <td>Spring2015</td>\n",
       "        <td>33415</td>\n",
       "        <td>DSB 104</td>\n",
       "        <td>S</td>\n",
       "        <td>2015-01-10T09:00:00</td>\n",
       "        <td>2015-01-10T13:15:00</td>\n",
       "        <td>2015-01-10</td>\n",
       "        <td>09:00:00</td>\n",
       "        <td>13:15:00</td>\n",
       "    </tr>\n",
       "    <tr>\n",
       "        <td>Winter2015</td>\n",
       "        <td>10913</td>\n",
       "        <td>DSB 115</td>\n",
       "        <td>S</td>\n",
       "        <td>2015-01-10T08:30:00</td>\n",
       "        <td>2015-01-10T16:30:00</td>\n",
       "        <td>2015-01-10</td>\n",
       "        <td>08:30:00</td>\n",
       "        <td>16:30:00</td>\n",
       "    </tr>\n",
       "    <tr>\n",
       "        <td>Winter2015</td>\n",
       "        <td>10912</td>\n",
       "        <td>DSB 107</td>\n",
       "        <td>S</td>\n",
       "        <td>2015-01-10T08:30:00</td>\n",
       "        <td>2015-01-10T16:30:00</td>\n",
       "        <td>2015-01-10</td>\n",
       "        <td>08:30:00</td>\n",
       "        <td>16:30:00</td>\n",
       "    </tr>\n",
       "    <tr>\n",
       "        <td>Winter2015</td>\n",
       "        <td>10909</td>\n",
       "        <td>DSB 111</td>\n",
       "        <td>S</td>\n",
       "        <td>2015-01-10T08:30:00</td>\n",
       "        <td>2015-01-10T16:30:00</td>\n",
       "        <td>2015-01-10</td>\n",
       "        <td>08:30:00</td>\n",
       "        <td>16:30:00</td>\n",
       "    </tr>\n",
       "    <tr>\n",
       "        <td>Winter2015</td>\n",
       "        <td>10908</td>\n",
       "        <td>DSB 111</td>\n",
       "        <td>S</td>\n",
       "        <td>2015-01-10T08:30:00</td>\n",
       "        <td>2015-01-10T16:30:00</td>\n",
       "        <td>2015-01-10</td>\n",
       "        <td>08:30:00</td>\n",
       "        <td>16:30:00</td>\n",
       "    </tr>\n",
       "    <tr>\n",
       "        <td>Spring2015</td>\n",
       "        <td>32904</td>\n",
       "        <td>DSB 2109A</td>\n",
       "        <td>W</td>\n",
       "        <td>2015-01-14T18:00:00</td>\n",
       "        <td>2015-01-14T21:30:00</td>\n",
       "        <td>2015-01-14</td>\n",
       "        <td>18:00:00</td>\n",
       "        <td>21:30:00</td>\n",
       "    </tr>\n",
       "    <tr>\n",
       "        <td>Winter2015</td>\n",
       "        <td>10913</td>\n",
       "        <td>DSB 115</td>\n",
       "        <td>W</td>\n",
       "        <td>2015-01-14T10:00:00</td>\n",
       "        <td>2015-01-14T18:00:00</td>\n",
       "        <td>2015-01-14</td>\n",
       "        <td>10:00:00</td>\n",
       "        <td>18:00:00</td>\n",
       "    </tr>\n",
       "    <tr>\n",
       "        <td>Winter2015</td>\n",
       "        <td>10913</td>\n",
       "        <td>DSB 115</td>\n",
       "        <td>W</td>\n",
       "        <td>2015-01-14T08:30:00</td>\n",
       "        <td>2015-01-14T16:30:00</td>\n",
       "        <td>2015-01-14</td>\n",
       "        <td>08:30:00</td>\n",
       "        <td>16:30:00</td>\n",
       "    </tr>\n",
       "    <tr>\n",
       "        <td>Winter2015</td>\n",
       "        <td>10912</td>\n",
       "        <td>DSB 107</td>\n",
       "        <td>W</td>\n",
       "        <td>2015-01-14T18:00:00</td>\n",
       "        <td>2015-01-14T21:30:00</td>\n",
       "        <td>2015-01-14</td>\n",
       "        <td>18:00:00</td>\n",
       "        <td>21:30:00</td>\n",
       "    </tr>\n",
       "    <tr>\n",
       "        <td>Winter2015</td>\n",
       "        <td>10912</td>\n",
       "        <td>DSB 107</td>\n",
       "        <td>W</td>\n",
       "        <td>2015-01-14T08:30:00</td>\n",
       "        <td>2015-01-14T16:30:00</td>\n",
       "        <td>2015-01-14</td>\n",
       "        <td>08:30:00</td>\n",
       "        <td>16:30:00</td>\n",
       "    </tr>\n",
       "</table>"
      ],
      "text/plain": [
       "[('Spring2015', 33415, 'DSB 104', 'S', '2015-01-10T09:00:00', '2015-01-10T13:15:00', '2015-01-10', '09:00:00', '13:15:00'),\n",
       " ('Winter2015', 10913, 'DSB 115', 'S', '2015-01-10T08:30:00', '2015-01-10T16:30:00', '2015-01-10', '08:30:00', '16:30:00'),\n",
       " ('Winter2015', 10912, 'DSB 107', 'S', '2015-01-10T08:30:00', '2015-01-10T16:30:00', '2015-01-10', '08:30:00', '16:30:00'),\n",
       " ('Winter2015', 10909, 'DSB 111', 'S', '2015-01-10T08:30:00', '2015-01-10T16:30:00', '2015-01-10', '08:30:00', '16:30:00'),\n",
       " ('Winter2015', 10908, 'DSB 111', 'S', '2015-01-10T08:30:00', '2015-01-10T16:30:00', '2015-01-10', '08:30:00', '16:30:00'),\n",
       " ('Spring2015', 32904, 'DSB 2109A', 'W', '2015-01-14T18:00:00', '2015-01-14T21:30:00', '2015-01-14', '18:00:00', '21:30:00'),\n",
       " ('Winter2015', 10913, 'DSB 115', 'W', '2015-01-14T10:00:00', '2015-01-14T18:00:00', '2015-01-14', '10:00:00', '18:00:00'),\n",
       " ('Winter2015', 10913, 'DSB 115', 'W', '2015-01-14T08:30:00', '2015-01-14T16:30:00', '2015-01-14', '08:30:00', '16:30:00'),\n",
       " ('Winter2015', 10912, 'DSB 107', 'W', '2015-01-14T18:00:00', '2015-01-14T21:30:00', '2015-01-14', '18:00:00', '21:30:00'),\n",
       " ('Winter2015', 10912, 'DSB 107', 'W', '2015-01-14T08:30:00', '2015-01-14T16:30:00', '2015-01-14', '08:30:00', '16:30:00')]"
      ]
     },
     "execution_count": 188,
     "metadata": {},
     "output_type": "execute_result"
    }
   ],
   "source": [
    "%%sql \n",
    "\n",
    "select *\n",
    "from all_course_meetings\n",
    "where meetingdate in (\n",
    "    select meetingdate\n",
    "    from (\n",
    "        select distinct meetingdate,term\n",
    "        from all_course_meetings\n",
    "    ) \n",
    "    group by meetingdate\n",
    "    having count(*) >1\n",
    ") order by meetingdate,term\n",
    "limit 10"
   ]
  },
  {
   "cell_type": "code",
   "execution_count": 235,
   "metadata": {},
   "outputs": [
    {
     "name": "stdout",
     "output_type": "stream",
     "text": [
      " * sqlite:///.CourseData\n",
      "Done.\n"
     ]
    },
    {
     "data": {
      "text/html": [
       "<table>\n",
       "    <tr>\n",
       "        <th>count(*)</th>\n",
       "    </tr>\n",
       "    <tr>\n",
       "        <td>14838</td>\n",
       "    </tr>\n",
       "</table>"
      ],
      "text/plain": [
       "[(14838,)]"
      ]
     },
     "execution_count": 235,
     "metadata": {},
     "output_type": "execute_result"
    }
   ],
   "source": [
    "%%sql\n",
    "\n",
    "select count(*)\n",
    "from (\n",
    "select distinct location,term,starttime,endtime,crn\n",
    "from all_course_meetings\n",
    ")"
   ]
  },
  {
   "cell_type": "code",
   "execution_count": null,
   "metadata": {},
   "outputs": [],
   "source": []
  }
 ],
 "metadata": {
  "kernelspec": {
   "display_name": "Python 3",
   "language": "python",
   "name": "python3"
  },
  "language_info": {
   "codemirror_mode": {
    "name": "ipython",
    "version": 3
   },
   "file_extension": ".py",
   "mimetype": "text/x-python",
   "name": "python",
   "nbconvert_exporter": "python",
   "pygments_lexer": "ipython3",
   "version": "3.6.8"
  }
 },
 "nbformat": 4,
 "nbformat_minor": 2
}
