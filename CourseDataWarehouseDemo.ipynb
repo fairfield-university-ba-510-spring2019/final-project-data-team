{
 "cells": [
  {
   "cell_type": "markdown",
   "metadata": {},
   "source": [
    "## Imported Necessary Packages and Connection Strings"
   ]
  },
  {
   "cell_type": "code",
   "execution_count": 1,
   "metadata": {},
   "outputs": [],
   "source": [
    "# All query results are returned as Pandas DataFrames \n",
    "import pandas as pd\n",
    "\n",
    "# Needed for %sql Magic\n",
    "%load_ext sql\n",
    "\n",
    "import sqlite3\n",
    "\n",
    "conn = sqlite3.connect(\"./CourseDataWarehouseFinal.db\")"
   ]
  },
  {
   "cell_type": "code",
   "execution_count": 2,
   "metadata": {},
   "outputs": [
    {
     "data": {
      "text/plain": [
       "'Connected: @CourseDataWarehouseFinal.db'"
      ]
     },
     "execution_count": 2,
     "metadata": {},
     "output_type": "execute_result"
    }
   ],
   "source": [
    "%sql sqlite:///CourseDataWarehouseFinal.db"
   ]
  },
  {
   "cell_type": "markdown",
   "metadata": {},
   "source": [
    "## Drop Tables if they Exist"
   ]
  },
  {
   "cell_type": "code",
   "execution_count": 3,
   "metadata": {},
   "outputs": [
    {
     "name": "stdout",
     "output_type": "stream",
     "text": [
      " * sqlite:///CourseDataWarehouseFinal.db\n",
      "Done.\n"
     ]
    },
    {
     "data": {
      "text/plain": [
       "[]"
      ]
     },
     "execution_count": 3,
     "metadata": {},
     "output_type": "execute_result"
    }
   ],
   "source": [
    "%%sql\n",
    "DROP TABLE IF EXISTS dimCourses;"
   ]
  },
  {
   "cell_type": "code",
   "execution_count": 4,
   "metadata": {},
   "outputs": [
    {
     "name": "stdout",
     "output_type": "stream",
     "text": [
      " * sqlite:///CourseDataWarehouseFinal.db\n",
      "Done.\n"
     ]
    },
    {
     "data": {
      "text/plain": [
       "[]"
      ]
     },
     "execution_count": 4,
     "metadata": {},
     "output_type": "execute_result"
    }
   ],
   "source": [
    "%%sql\n",
    "DROP TABLE IF EXISTS dimCap;"
   ]
  },
  {
   "cell_type": "code",
   "execution_count": 5,
   "metadata": {},
   "outputs": [
    {
     "name": "stdout",
     "output_type": "stream",
     "text": [
      " * sqlite:///CourseDataWarehouseFinal.db\n",
      "Done.\n"
     ]
    },
    {
     "data": {
      "text/plain": [
       "[]"
      ]
     },
     "execution_count": 5,
     "metadata": {},
     "output_type": "execute_result"
    }
   ],
   "source": [
    "%%sql\n",
    "DROP TABLE IF EXISTS dimTerm;"
   ]
  },
  {
   "cell_type": "code",
   "execution_count": 6,
   "metadata": {},
   "outputs": [
    {
     "name": "stdout",
     "output_type": "stream",
     "text": [
      " * sqlite:///CourseDataWarehouseFinal.db\n",
      "Done.\n"
     ]
    },
    {
     "data": {
      "text/plain": [
       "[]"
      ]
     },
     "execution_count": 6,
     "metadata": {},
     "output_type": "execute_result"
    }
   ],
   "source": [
    "%%sql\n",
    "DROP TABLE IF EXISTS dimCRN;"
   ]
  },
  {
   "cell_type": "markdown",
   "metadata": {},
   "source": [
    "## Create Tables and Insert Info from Database tables"
   ]
  },
  {
   "cell_type": "code",
   "execution_count": 7,
   "metadata": {},
   "outputs": [
    {
     "name": "stdout",
     "output_type": "stream",
     "text": [
      " * sqlite:///CourseDataWarehouseFinal.db\n",
      "Done.\n",
      "Done.\n",
      "2220 rows affected.\n"
     ]
    },
    {
     "data": {
      "text/plain": [
       "[]"
      ]
     },
     "execution_count": 7,
     "metadata": {},
     "output_type": "execute_result"
    }
   ],
   "source": [
    "%%sql\n",
    "\n",
    "DROP TABLE IF EXISTS dimCourses;\n",
    "\n",
    "CREATE TABLE dimCourses(\n",
    "    program_code VarChar NOT NULL,\n",
    "    catalog_id VarChar NOT NULL,\n",
    "    course_title TEXT NOT NULL,\n",
    "    credits INT NOT NULL,\n",
    "    prereqs VarChar,\n",
    "    coreqs VarChar,\n",
    "    fees VarChar,\n",
    "    attributes TEXT,\n",
    "    description TEXT,\n",
    "    PRIMARY KEY (program_code, catalog_id)\n",
    ");\n",
    "    \n",
    "INSERT INTO dimCourses (program_code, catalog_id, course_title, credits, prereqs, coreqs, fees, attributes, description)\n",
    "SELECT DISTINCT program_code, catalog_id, course_title, credits, prereqs, coreqs, fees, attributes, description\n",
    "FROM CourseCatalog;\n"
   ]
  },
  {
   "cell_type": "code",
   "execution_count": 8,
   "metadata": {},
   "outputs": [
    {
     "name": "stdout",
     "output_type": "stream",
     "text": [
      " * sqlite:///CourseDataWarehouseFinal.db\n",
      "Done.\n",
      "Done.\n",
      "13860 rows affected.\n"
     ]
    },
    {
     "data": {
      "text/plain": [
       "[]"
      ]
     },
     "execution_count": 8,
     "metadata": {},
     "output_type": "execute_result"
    }
   ],
   "source": [
    "%%sql\n",
    "\n",
    "DROP TABLE IF EXISTS dimTerm;\n",
    "\n",
    "CREATE TABLE dimTerm(\n",
    "    term VarChar NOT NULL,\n",
    "    title TEXT NOT NULL,\n",
    "    crn INT NOT NULL,\n",
    "    credits INT NOT NULL,\n",
    "    Location VarChar,\n",
    "    Primary_Instructor TEXT NOT NULL,\n",
    "    PRIMARY KEY (crn, term)\n",
    ");\n",
    "\n",
    "INSERT INTO dimTerm(term, title, crn, credits, Location, primary_instructor)\n",
    "SELECT DISTINCT term, title, crn, credits, Location, primary_instructor\n",
    "FROM courses_final;"
   ]
  },
  {
   "cell_type": "code",
   "execution_count": 13,
   "metadata": {},
   "outputs": [
    {
     "name": "stdout",
     "output_type": "stream",
     "text": [
      " * sqlite:///CourseDataWarehouseFinal.db\n",
      "Done.\n",
      "Done.\n",
      "13251 rows affected.\n"
     ]
    },
    {
     "data": {
      "text/plain": [
       "[]"
      ]
     },
     "execution_count": 13,
     "metadata": {},
     "output_type": "execute_result"
    }
   ],
   "source": [
    "%%sql\n",
    "DROP TABLE IF EXISTS dimLocation;\n",
    "\n",
    "CREATE TABLE dimLocation(\n",
    "    Location VarChar,\n",
    "    Primary_Instructor TEXT NOT NULL,\n",
    "    title TEXT,\n",
    "    term VarChar,\n",
    "    act INT NOT NULL,\n",
    "    cap INT NOT NULL,\n",
    "    rem INT NOT NULL\n",
    ");\n",
    "\n",
    "INSERT INTO dimLocation(Location, Primary_Instructor, title, term, act, cap, rem)\n",
    "SELECT DISTINCT Location, Primary_Instructor, title, term, act, cap, rem\n",
    "FROM courses_final;"
   ]
  },
  {
   "cell_type": "code",
   "execution_count": 14,
   "metadata": {},
   "outputs": [
    {
     "name": "stdout",
     "output_type": "stream",
     "text": [
      " * sqlite:///CourseDataWarehouseFinal.db\n",
      "Done.\n",
      "Done.\n",
      "16 rows affected.\n"
     ]
    },
    {
     "data": {
      "text/plain": [
       "[]"
      ]
     },
     "execution_count": 14,
     "metadata": {},
     "output_type": "execute_result"
    }
   ],
   "source": [
    "%%sql\n",
    "\n",
    "DROP TABLE IF EXISTS dimDate;\n",
    "\n",
    "CREATE TABLE dimDate(\n",
    "    term VarChar PRIMARY KEY,\n",
    "    StartDate DATE NOT NULL,\n",
    "    EndDate DATE NOT NULL    \n",
    ");\n",
    "\n",
    "INSERT INTO dimDate(term, StartDate, EndDate)\n",
    "select term, StartDate, EndDate\n",
    "FROM terms;"
   ]
  },
  {
   "cell_type": "code",
   "execution_count": 15,
   "metadata": {},
   "outputs": [
    {
     "name": "stdout",
     "output_type": "stream",
     "text": [
      " * sqlite:///CourseDataWarehouseFinal.db\n",
      "Done.\n",
      "Done.\n",
      "56704 rows affected.\n"
     ]
    },
    {
     "data": {
      "text/plain": [
       "[]"
      ]
     },
     "execution_count": 15,
     "metadata": {},
     "output_type": "execute_result"
    }
   ],
   "source": [
    "%%sql\n",
    "\n",
    "DROP TABLE IF EXISTS factClass;\n",
    "\n",
    "CREATE TABLE factClass ( \n",
    "    program_code VarChar,\n",
    "    Term VarChar,\n",
    "    Location VarChar,\n",
    "    StartDate Date,\n",
    "    EndDate Date,\n",
    "    FOREIGN KEY (program_code) REFERENCES dimCourses(program_code),\n",
    "    FOREIGN KEY (Term) REFERENCES dimTerm(Term),\n",
    "    FOREIGN KEY (Location) REFERENCES dimLocation(Location),\n",
    "    FOREIGN KEY (StartDate) REFERENCES dimDate(StartDate),  \n",
    "    FOREIGN KEY (EndDate) REFERENCES dimDate(EndDate)\n",
    ");\n",
    "\n",
    "INSERT INTO factClass (program_code, Term, Location, StartDate, EndDate)\n",
    "SELECT DISTINCT dimCourses.program_code, dimTerm.Term, dimLocation.Location, dimDate.StartDate, dimDate.EndDate\n",
    "FROM dimCourses\n",
    "LEFT JOIN dimTerm ON dimCourses.course_title = dimTerm.title\n",
    "LEFT JOIN dimLocation ON dimTerm.Location = dimLocation.Location\n",
    "LEFT JOIN dimDate ON dimLocation.Term = dimDate.Term;\n"
   ]
  },
  {
   "cell_type": "code",
   "execution_count": null,
   "metadata": {},
   "outputs": [],
   "source": []
  }
 ],
 "metadata": {
  "kernelspec": {
   "display_name": "Python 3",
   "language": "python",
   "name": "python3"
  },
  "language_info": {
   "codemirror_mode": {
    "name": "ipython",
    "version": 3
   },
   "file_extension": ".py",
   "mimetype": "text/x-python",
   "name": "python",
   "nbconvert_exporter": "python",
   "pygments_lexer": "ipython3",
   "version": "3.6.5"
  }
 },
 "nbformat": 4,
 "nbformat_minor": 2
}
