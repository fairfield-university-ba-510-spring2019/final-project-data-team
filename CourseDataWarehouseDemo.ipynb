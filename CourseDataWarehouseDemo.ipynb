{
 "cells": [
  {
   "cell_type": "code",
   "execution_count": 72,
   "metadata": {},
   "outputs": [
    {
     "name": "stdout",
     "output_type": "stream",
     "text": [
      "The sql extension is already loaded. To reload it, use:\n",
      "  %reload_ext sql\n"
     ]
    }
   ],
   "source": [
    "# All query results are returned as Pandas DataFrames \n",
    "import pandas as pd\n",
    "\n",
    "# Needed for %sql Magic\n",
    "%load_ext sql\n",
    "\n",
    "import sqlite3\n",
    "\n",
    "conn = sqlite3.connect(\"./CourseDataWarehouseFinal.db\")"
   ]
  },
  {
   "cell_type": "code",
   "execution_count": 73,
   "metadata": {},
   "outputs": [
    {
     "data": {
      "text/plain": [
       "'Connected: @CourseDataWarehouseFinal.db'"
      ]
     },
     "execution_count": 73,
     "metadata": {},
     "output_type": "execute_result"
    }
   ],
   "source": [
    "%sql sqlite:///CourseDataWarehouseFinal.db"
   ]
  },
  {
   "cell_type": "code",
   "execution_count": 74,
   "metadata": {},
   "outputs": [
    {
     "name": "stdout",
     "output_type": "stream",
     "text": [
      " * sqlite:///CourseDataWarehouseFinal.db\n",
      "Done.\n"
     ]
    },
    {
     "data": {
      "text/plain": [
       "[]"
      ]
     },
     "execution_count": 74,
     "metadata": {},
     "output_type": "execute_result"
    }
   ],
   "source": [
    "%%sql\n",
    "DROP TABLE IF EXISTS dimCourses;"
   ]
  },
  {
   "cell_type": "code",
   "execution_count": 75,
   "metadata": {},
   "outputs": [
    {
     "name": "stdout",
     "output_type": "stream",
     "text": [
      " * sqlite:///CourseDataWarehouseFinal.db\n",
      "Done.\n"
     ]
    },
    {
     "data": {
      "text/plain": [
       "[]"
      ]
     },
     "execution_count": 75,
     "metadata": {},
     "output_type": "execute_result"
    }
   ],
   "source": [
    "%%sql\n",
    "DROP TABLE IF EXISTS dimCap;"
   ]
  },
  {
   "cell_type": "code",
   "execution_count": 76,
   "metadata": {},
   "outputs": [
    {
     "name": "stdout",
     "output_type": "stream",
     "text": [
      " * sqlite:///CourseDataWarehouseFinal.db\n",
      "Done.\n"
     ]
    },
    {
     "data": {
      "text/plain": [
       "[]"
      ]
     },
     "execution_count": 76,
     "metadata": {},
     "output_type": "execute_result"
    }
   ],
   "source": [
    "%%sql\n",
    "DROP TABLE IF EXISTS dimTerm;"
   ]
  },
  {
   "cell_type": "code",
   "execution_count": 77,
   "metadata": {},
   "outputs": [
    {
     "name": "stdout",
     "output_type": "stream",
     "text": [
      " * sqlite:///CourseDataWarehouseFinal.db\n",
      "Done.\n"
     ]
    },
    {
     "data": {
      "text/plain": [
       "[]"
      ]
     },
     "execution_count": 77,
     "metadata": {},
     "output_type": "execute_result"
    }
   ],
   "source": [
    "%%sql\n",
    "DROP TABLE IF EXISTS dimCRN;"
   ]
  },
  {
   "cell_type": "code",
   "execution_count": 78,
   "metadata": {},
   "outputs": [
    {
     "name": "stdout",
     "output_type": "stream",
     "text": [
      " * sqlite:///CourseDataWarehouseFinal.db\n",
      "Done.\n",
      "Done.\n",
      "2220 rows affected.\n"
     ]
    },
    {
     "data": {
      "text/plain": [
       "[]"
      ]
     },
     "execution_count": 78,
     "metadata": {},
     "output_type": "execute_result"
    }
   ],
   "source": [
    "%%sql\n",
    "\n",
    "DROP TABLE IF EXISTS dimCourses;\n",
    "\n",
    "CREATE TABLE dimCourses(\n",
    "    program_code VarChar NOT NULL,\n",
    "    catalog_id VarChar NOT NULL,\n",
    "    course_title TEXT NOT NULL,\n",
    "    credits INT NOT NULL,\n",
    "    prereqs VarChar,\n",
    "    coreqs VarChar,\n",
    "    fees VarChar,\n",
    "    attributes TEXT,\n",
    "    description TEXT,\n",
    "    PRIMARY KEY (program_code, catalog_id)\n",
    ");\n",
    "    \n",
    "INSERT INTO dimCourses (program_code, catalog_id, course_title, credits, prereqs, coreqs, fees, attributes, description)\n",
    "SELECT DISTINCT program_code, catalog_id, course_title, credits, prereqs, coreqs, fees, attributes, description\n",
    "FROM CourseCatalog;\n"
   ]
  },
  {
   "cell_type": "code",
   "execution_count": 79,
   "metadata": {},
   "outputs": [
    {
     "name": "stdout",
     "output_type": "stream",
     "text": [
      " * sqlite:///CourseDataWarehouseFinal.db\n",
      "Done.\n",
      "Done.\n",
      "13860 rows affected.\n"
     ]
    },
    {
     "data": {
      "text/plain": [
       "[]"
      ]
     },
     "execution_count": 79,
     "metadata": {},
     "output_type": "execute_result"
    }
   ],
   "source": [
    "%%sql\n",
    "\n",
    "DROP TABLE IF EXISTS dimTerm;\n",
    "\n",
    "CREATE TABLE dimTerm(\n",
    "    term VarChar NOT NULL,\n",
    "    title TEXT NOT NULL,\n",
    "    crn INT NOT NULL,\n",
    "    credits INT NOT NULL,\n",
    "    Location VarChar,\n",
    "    Primary_Instructor TEXT NOT NULL,\n",
    "    PRIMARY KEY (crn, term)\n",
    ");\n",
    "\n",
    "INSERT INTO dimTerm(term, title, crn, credits, Location, primary_instructor)\n",
    "SELECT DISTINCT term, title, crn, credits, Location, primary_instructor\n",
    "FROM courses_final;"
   ]
  },
  {
   "cell_type": "code",
   "execution_count": 80,
   "metadata": {},
   "outputs": [
    {
     "name": "stdout",
     "output_type": "stream",
     "text": [
      " * sqlite:///CourseDataWarehouseFinal.db\n",
      "Done.\n"
     ]
    },
    {
     "data": {
      "text/html": [
       "<table>\n",
       "    <tr>\n",
       "        <th>count(DISTINCT Primary_Instructor)</th>\n",
       "    </tr>\n",
       "    <tr>\n",
       "        <td>1085</td>\n",
       "    </tr>\n",
       "</table>"
      ],
      "text/plain": [
       "[(1085,)]"
      ]
     },
     "execution_count": 80,
     "metadata": {},
     "output_type": "execute_result"
    }
   ],
   "source": [
    "%%sql\n",
    "\n",
    "SELECT count(DISTINCT Primary_Instructor)\n",
    "FROM dimTerm;"
   ]
  },
  {
   "cell_type": "code",
   "execution_count": 81,
   "metadata": {},
   "outputs": [
    {
     "name": "stdout",
     "output_type": "stream",
     "text": [
      " * sqlite:///CourseDataWarehouseFinal.db\n",
      "Done.\n",
      "Done.\n",
      "13251 rows affected.\n"
     ]
    },
    {
     "data": {
      "text/plain": [
       "[]"
      ]
     },
     "execution_count": 81,
     "metadata": {},
     "output_type": "execute_result"
    }
   ],
   "source": [
    "%%sql\n",
    "DROP TABLE IF EXISTS dimLocation;\n",
    "\n",
    "CREATE TABLE dimLocation(\n",
    "    Location VarChar,\n",
    "    Primary_Instructor TEXT NOT NULL,\n",
    "    title TEXT NOT NULL,\n",
    "    term VarChar NOT NULL,\n",
    "    act INT NOT NULL,\n",
    "    cap INT NOT NULL,\n",
    "    rem INT NOT NULL\n",
    ");\n",
    "\n",
    "INSERT INTO dimLocation(Location, Primary_Instructor, title, term, act, cap, rem)\n",
    "SELECT DISTINCT Location, Primary_Instructor, title, term, act, cap, rem\n",
    "FROM courses_final;"
   ]
  },
  {
   "cell_type": "code",
   "execution_count": 82,
   "metadata": {},
   "outputs": [
    {
     "name": "stdout",
     "output_type": "stream",
     "text": [
      " * sqlite:///CourseDataWarehouseFinal.db\n",
      "Done.\n"
     ]
    },
    {
     "data": {
      "text/html": [
       "<table>\n",
       "    <tr>\n",
       "        <th>Location</th>\n",
       "        <th>Primary_Instructor</th>\n",
       "        <th>title</th>\n",
       "        <th>term</th>\n",
       "        <th>act</th>\n",
       "        <th>cap</th>\n",
       "        <th>rem</th>\n",
       "    </tr>\n",
       "    <tr>\n",
       "        <td>None</td>\n",
       "        <td>Lauren Elise  Cesiro</td>\n",
       "        <td>History of Photography</td>\n",
       "        <td>Winter2017</td>\n",
       "        <td>18</td>\n",
       "        <td>20</td>\n",
       "        <td>2</td>\n",
       "    </tr>\n",
       "    <tr>\n",
       "        <td>None</td>\n",
       "        <td>Thomas B.  Cunningham</td>\n",
       "        <td>Ecology and Society</td>\n",
       "        <td>Winter2017</td>\n",
       "        <td>21</td>\n",
       "        <td>20</td>\n",
       "        <td>-1</td>\n",
       "    </tr>\n",
       "    <tr>\n",
       "        <td>None</td>\n",
       "        <td>Thomas B.  Cunningham</td>\n",
       "        <td>Ecology and Society</td>\n",
       "        <td>Winter2017</td>\n",
       "        <td>19</td>\n",
       "        <td>20</td>\n",
       "        <td>1</td>\n",
       "    </tr>\n",
       "    <tr>\n",
       "        <td>DSB109</td>\n",
       "        <td>Sharlene A.  McEvoy</td>\n",
       "        <td>Legal Environment of Business</td>\n",
       "        <td>Winter2017</td>\n",
       "        <td>20</td>\n",
       "        <td>25</td>\n",
       "        <td>5</td>\n",
       "    </tr>\n",
       "    <tr>\n",
       "        <td>None</td>\n",
       "        <td>David   Gudelunas</td>\n",
       "        <td>Human Communication Theories</td>\n",
       "        <td>Winter2017</td>\n",
       "        <td>19</td>\n",
       "        <td>20</td>\n",
       "        <td>1</td>\n",
       "    </tr>\n",
       "    <tr>\n",
       "        <td>None</td>\n",
       "        <td>Qin   Zhang</td>\n",
       "        <td>Intercultural Communication</td>\n",
       "        <td>Winter2017</td>\n",
       "        <td>16</td>\n",
       "        <td>20</td>\n",
       "        <td>4</td>\n",
       "    </tr>\n",
       "    <tr>\n",
       "        <td>DMH350</td>\n",
       "        <td>Margaret A.  Wills</td>\n",
       "        <td>Family Communication</td>\n",
       "        <td>Winter2017</td>\n",
       "        <td>15</td>\n",
       "        <td>15</td>\n",
       "        <td>0</td>\n",
       "    </tr>\n",
       "    <tr>\n",
       "        <td>None</td>\n",
       "        <td>William F.  Vasquez Mazariegos</td>\n",
       "        <td>Introduction to Macroeconomics</td>\n",
       "        <td>Winter2017</td>\n",
       "        <td>12</td>\n",
       "        <td>20</td>\n",
       "        <td>8</td>\n",
       "    </tr>\n",
       "    <tr>\n",
       "        <td>None</td>\n",
       "        <td>Gita   Rajan</td>\n",
       "        <td>Introduction to Literary and Cultural Studies</td>\n",
       "        <td>Winter2017</td>\n",
       "        <td>8</td>\n",
       "        <td>20</td>\n",
       "        <td>12</td>\n",
       "    </tr>\n",
       "    <tr>\n",
       "        <td>None</td>\n",
       "        <td>Jacqueline   Rinaldi</td>\n",
       "        <td>The Literature of Illness and Healing: Wounded Storytellers and Dedicated Healers</td>\n",
       "        <td>Winter2017</td>\n",
       "        <td>17</td>\n",
       "        <td>20</td>\n",
       "        <td>3</td>\n",
       "    </tr>\n",
       "    <tr>\n",
       "        <td>None</td>\n",
       "        <td>Sonya R.  Huber</td>\n",
       "        <td>Fiction: Part I</td>\n",
       "        <td>Winter2017</td>\n",
       "        <td>1</td>\n",
       "        <td>0</td>\n",
       "        <td>-1</td>\n",
       "    </tr>\n",
       "    <tr>\n",
       "        <td>None</td>\n",
       "        <td>David W.  McFadden</td>\n",
       "        <td>Independent Study</td>\n",
       "        <td>Winter2017</td>\n",
       "        <td>1</td>\n",
       "        <td>0</td>\n",
       "        <td>-1</td>\n",
       "    </tr>\n",
       "    <tr>\n",
       "        <td>JGS25</td>\n",
       "        <td>Brian Q.  Torff</td>\n",
       "        <td>The History of Jazz</td>\n",
       "        <td>Winter2017</td>\n",
       "        <td>10</td>\n",
       "        <td>15</td>\n",
       "        <td>5</td>\n",
       "    </tr>\n",
       "    <tr>\n",
       "        <td>None</td>\n",
       "        <td>Joyce Muriel  Shea</td>\n",
       "        <td>DNP Immersion</td>\n",
       "        <td>Winter2017</td>\n",
       "        <td>3</td>\n",
       "        <td>30</td>\n",
       "        <td>27</td>\n",
       "    </tr>\n",
       "    <tr>\n",
       "        <td>None</td>\n",
       "        <td>Joachim   Kuhn</td>\n",
       "        <td>The Nature of the Universe</td>\n",
       "        <td>Winter2017</td>\n",
       "        <td>21</td>\n",
       "        <td>20</td>\n",
       "        <td>-1</td>\n",
       "    </tr>\n",
       "</table>"
      ],
      "text/plain": [
       "[(None, 'Lauren Elise  Cesiro', 'History of Photography', 'Winter2017', 18, 20, 2),\n",
       " (None, 'Thomas B.  Cunningham', 'Ecology and Society', 'Winter2017', 21, 20, -1),\n",
       " (None, 'Thomas B.  Cunningham', 'Ecology and Society', 'Winter2017', 19, 20, 1),\n",
       " ('DSB109', 'Sharlene A.  McEvoy', 'Legal Environment of Business', 'Winter2017', 20, 25, 5),\n",
       " (None, 'David   Gudelunas', 'Human Communication Theories', 'Winter2017', 19, 20, 1),\n",
       " (None, 'Qin   Zhang', 'Intercultural Communication', 'Winter2017', 16, 20, 4),\n",
       " ('DMH350', 'Margaret A.  Wills', 'Family Communication', 'Winter2017', 15, 15, 0),\n",
       " (None, 'William F.  Vasquez Mazariegos', 'Introduction to Macroeconomics', 'Winter2017', 12, 20, 8),\n",
       " (None, 'Gita   Rajan', 'Introduction to Literary and Cultural Studies', 'Winter2017', 8, 20, 12),\n",
       " (None, 'Jacqueline   Rinaldi', 'The Literature of Illness and Healing: Wounded Storytellers and Dedicated Healers', 'Winter2017', 17, 20, 3),\n",
       " (None, 'Sonya R.  Huber', 'Fiction: Part I', 'Winter2017', 1, 0, -1),\n",
       " (None, 'David W.  McFadden', 'Independent Study', 'Winter2017', 1, 0, -1),\n",
       " ('JGS25', 'Brian Q.  Torff', 'The History of Jazz', 'Winter2017', 10, 15, 5),\n",
       " (None, 'Joyce Muriel  Shea', 'DNP Immersion', 'Winter2017', 3, 30, 27),\n",
       " (None, 'Joachim   Kuhn', 'The Nature of the Universe', 'Winter2017', 21, 20, -1)]"
      ]
     },
     "execution_count": 82,
     "metadata": {},
     "output_type": "execute_result"
    }
   ],
   "source": [
    "%%sql\n",
    "select *\n",
    "FROM dimLocation\n",
    "LIMIT 15;"
   ]
  },
  {
   "cell_type": "code",
   "execution_count": 83,
   "metadata": {},
   "outputs": [
    {
     "name": "stdout",
     "output_type": "stream",
     "text": [
      " * sqlite:///CourseDataWarehouseFinal.db\n",
      "Done.\n",
      "Done.\n",
      "16 rows affected.\n"
     ]
    },
    {
     "data": {
      "text/plain": [
       "[]"
      ]
     },
     "execution_count": 83,
     "metadata": {},
     "output_type": "execute_result"
    }
   ],
   "source": [
    "%%sql\n",
    "\n",
    "DROP TABLE IF EXISTS dimDate;\n",
    "\n",
    "CREATE TABLE dimDate(\n",
    "    term VarChar NOT NULL,\n",
    "    StartDate DATE NOT NULL,\n",
    "    EndDate DATE NOT NULL    \n",
    ");\n",
    "\n",
    "INSERT INTO dimDate(term, StartDate, EndDate)\n",
    "select term, StartDate, EndDate\n",
    "FROM terms;"
   ]
  },
  {
   "cell_type": "code",
   "execution_count": 84,
   "metadata": {},
   "outputs": [
    {
     "name": "stdout",
     "output_type": "stream",
     "text": [
      " * sqlite:///CourseDataWarehouseFinal.db\n",
      "Done.\n"
     ]
    },
    {
     "data": {
      "text/html": [
       "<table>\n",
       "    <tr>\n",
       "        <th>term</th>\n",
       "        <th>StartDate</th>\n",
       "        <th>EndDate</th>\n",
       "    </tr>\n",
       "    <tr>\n",
       "        <td>Fall2014</td>\n",
       "        <td>2014-08-16</td>\n",
       "        <td>2014-12-29</td>\n",
       "    </tr>\n",
       "    <tr>\n",
       "        <td>Fall2015</td>\n",
       "        <td>2015-08-15</td>\n",
       "        <td>2015-12-19</td>\n",
       "    </tr>\n",
       "    <tr>\n",
       "        <td>Fall2016</td>\n",
       "        <td>2016-08-13</td>\n",
       "        <td>2016-12-19</td>\n",
       "    </tr>\n",
       "    <tr>\n",
       "        <td>Fall2018</td>\n",
       "        <td>2018-08-11</td>\n",
       "        <td>2018-12-17</td>\n",
       "    </tr>\n",
       "    <tr>\n",
       "        <td>Spring2015</td>\n",
       "        <td>2015-01-10</td>\n",
       "        <td>2015-05-16</td>\n",
       "    </tr>\n",
       "    <tr>\n",
       "        <td>Spring2016</td>\n",
       "        <td>2016-01-13</td>\n",
       "        <td>2016-05-16</td>\n",
       "    </tr>\n",
       "    <tr>\n",
       "        <td>Spring2017</td>\n",
       "        <td>2017-01-11</td>\n",
       "        <td>2017-05-27</td>\n",
       "    </tr>\n",
       "    <tr>\n",
       "        <td>Spring2018</td>\n",
       "        <td>2018-01-10</td>\n",
       "        <td>2018-05-15</td>\n",
       "    </tr>\n",
       "    <tr>\n",
       "        <td>Spring2019</td>\n",
       "        <td>2019-01-22</td>\n",
       "        <td>2019-05-15</td>\n",
       "    </tr>\n",
       "    <tr>\n",
       "        <td>SpringBreak2017</td>\n",
       "        <td>2017-03-13</td>\n",
       "        <td>2017-03-17</td>\n",
       "    </tr>\n",
       "    <tr>\n",
       "        <td>Summer2015</td>\n",
       "        <td>2015-04-15</td>\n",
       "        <td>2015-08-29</td>\n",
       "    </tr>\n",
       "    <tr>\n",
       "        <td>Summer2016</td>\n",
       "        <td>2016-04-13</td>\n",
       "        <td>2016-08-27</td>\n",
       "    </tr>\n",
       "    <tr>\n",
       "        <td>Winter2015</td>\n",
       "        <td>2015-01-05</td>\n",
       "        <td>2015-01-17</td>\n",
       "    </tr>\n",
       "    <tr>\n",
       "        <td>Winter2016</td>\n",
       "        <td>2016-01-04</td>\n",
       "        <td>2016-02-06</td>\n",
       "    </tr>\n",
       "    <tr>\n",
       "        <td>Winter2017</td>\n",
       "        <td>2017-01-02</td>\n",
       "        <td>2017-01-14</td>\n",
       "    </tr>\n",
       "    <tr>\n",
       "        <td>Winter2018</td>\n",
       "        <td>2018-01-02</td>\n",
       "        <td>2018-01-13</td>\n",
       "    </tr>\n",
       "</table>"
      ],
      "text/plain": [
       "[('Fall2014', '2014-08-16', '2014-12-29'),\n",
       " ('Fall2015', '2015-08-15', '2015-12-19'),\n",
       " ('Fall2016', '2016-08-13', '2016-12-19'),\n",
       " ('Fall2018', '2018-08-11', '2018-12-17'),\n",
       " ('Spring2015', '2015-01-10', '2015-05-16'),\n",
       " ('Spring2016', '2016-01-13', '2016-05-16'),\n",
       " ('Spring2017', '2017-01-11', '2017-05-27'),\n",
       " ('Spring2018', '2018-01-10', '2018-05-15'),\n",
       " ('Spring2019', '2019-01-22', '2019-05-15'),\n",
       " ('SpringBreak2017', '2017-03-13', '2017-03-17'),\n",
       " ('Summer2015', '2015-04-15', '2015-08-29'),\n",
       " ('Summer2016', '2016-04-13', '2016-08-27'),\n",
       " ('Winter2015', '2015-01-05', '2015-01-17'),\n",
       " ('Winter2016', '2016-01-04', '2016-02-06'),\n",
       " ('Winter2017', '2017-01-02', '2017-01-14'),\n",
       " ('Winter2018', '2018-01-02', '2018-01-13')]"
      ]
     },
     "execution_count": 84,
     "metadata": {},
     "output_type": "execute_result"
    }
   ],
   "source": [
    "%%sql\n",
    "select *\n",
    "from dimDate;"
   ]
  },
  {
   "cell_type": "code",
   "execution_count": 85,
   "metadata": {},
   "outputs": [
    {
     "name": "stdout",
     "output_type": "stream",
     "text": [
      " * sqlite:///CourseDataWarehouseFinal.db\n",
      "Done.\n",
      "Done.\n",
      "56704 rows affected.\n"
     ]
    },
    {
     "data": {
      "text/plain": [
       "[]"
      ]
     },
     "execution_count": 85,
     "metadata": {},
     "output_type": "execute_result"
    }
   ],
   "source": [
    "%%sql\n",
    "\n",
    "DROP TABLE IF EXISTS factClass;\n",
    "\n",
    "CREATE TABLE factClass ( \n",
    "    program_code VarChar,\n",
    "    Term VarChar,\n",
    "    Location VarChar,\n",
    "    StartDate Date,\n",
    "    EndDate Date,\n",
    "    FOREIGN KEY (program_code) REFERENCES dimCourses(program_code),\n",
    "    FOREIGN KEY (Term) REFERENCES dimTerm(Term),\n",
    "    FOREIGN KEY (Location) REFERENCES dimLocation(Location),\n",
    "    FOREIGN KEY (StartDate) REFERENCES dimDate(StartDate),  \n",
    "    FOREIGN KEY (EndDate) REFERENCES dimDate(EndDate)\n",
    ");\n",
    "\n",
    "INSERT INTO factClass (program_code, Term, Location, StartDate, EndDate)\n",
    "SELECT DISTINCT dimCourses.program_code, dimTerm.Term, dimLocation.Location, dimDate.StartDate, dimDate.EndDate\n",
    "FROM dimCourses\n",
    "LEFT JOIN dimTerm ON dimCourses.course_title = dimTerm.title\n",
    "LEFT JOIN dimLocation ON dimTerm.Location = dimLocation.Location\n",
    "LEFT JOIN dimDate ON dimLocation.Term = dimDate.Term;\n"
   ]
  },
  {
   "cell_type": "code",
   "execution_count": 86,
   "metadata": {},
   "outputs": [
    {
     "name": "stdout",
     "output_type": "stream",
     "text": [
      " * sqlite:///CourseDataWarehouseFinal.db\n",
      "Done.\n"
     ]
    },
    {
     "data": {
      "text/html": [
       "<table>\n",
       "    <tr>\n",
       "        <th>program_code</th>\n",
       "        <th>Term</th>\n",
       "        <th>Location</th>\n",
       "        <th>StartDate</th>\n",
       "        <th>EndDate</th>\n",
       "    </tr>\n",
       "    <tr>\n",
       "        <td>AC</td>\n",
       "        <td>Fall2014</td>\n",
       "        <td>DSB105</td>\n",
       "        <td>2014-08-16</td>\n",
       "        <td>2014-12-29</td>\n",
       "    </tr>\n",
       "    <tr>\n",
       "        <td>AC</td>\n",
       "        <td>Fall2014</td>\n",
       "        <td>DSB105</td>\n",
       "        <td>2015-08-15</td>\n",
       "        <td>2015-12-19</td>\n",
       "    </tr>\n",
       "    <tr>\n",
       "        <td>AC</td>\n",
       "        <td>Fall2014</td>\n",
       "        <td>DSB105</td>\n",
       "        <td>2016-08-13</td>\n",
       "        <td>2016-12-19</td>\n",
       "    </tr>\n",
       "    <tr>\n",
       "        <td>AC</td>\n",
       "        <td>Fall2014</td>\n",
       "        <td>DSB105</td>\n",
       "        <td>2018-08-11</td>\n",
       "        <td>2018-12-17</td>\n",
       "    </tr>\n",
       "    <tr>\n",
       "        <td>AC</td>\n",
       "        <td>Fall2014</td>\n",
       "        <td>DSB105</td>\n",
       "        <td>2015-01-10</td>\n",
       "        <td>2015-05-16</td>\n",
       "    </tr>\n",
       "    <tr>\n",
       "        <td>AC</td>\n",
       "        <td>Fall2014</td>\n",
       "        <td>DSB105</td>\n",
       "        <td>2016-01-13</td>\n",
       "        <td>2016-05-16</td>\n",
       "    </tr>\n",
       "    <tr>\n",
       "        <td>AC</td>\n",
       "        <td>Fall2014</td>\n",
       "        <td>DSB105</td>\n",
       "        <td>2017-01-11</td>\n",
       "        <td>2017-05-27</td>\n",
       "    </tr>\n",
       "    <tr>\n",
       "        <td>AC</td>\n",
       "        <td>Fall2014</td>\n",
       "        <td>DSB105</td>\n",
       "        <td>2018-01-10</td>\n",
       "        <td>2018-05-15</td>\n",
       "    </tr>\n",
       "    <tr>\n",
       "        <td>AC</td>\n",
       "        <td>Fall2014</td>\n",
       "        <td>DSB105</td>\n",
       "        <td>2019-01-22</td>\n",
       "        <td>2019-05-15</td>\n",
       "    </tr>\n",
       "    <tr>\n",
       "        <td>AC</td>\n",
       "        <td>Fall2014</td>\n",
       "        <td>DSB105</td>\n",
       "        <td>2016-04-13</td>\n",
       "        <td>2016-08-27</td>\n",
       "    </tr>\n",
       "    <tr>\n",
       "        <td>AC</td>\n",
       "        <td>Fall2014</td>\n",
       "        <td>DSB110A</td>\n",
       "        <td>2014-08-16</td>\n",
       "        <td>2014-12-29</td>\n",
       "    </tr>\n",
       "    <tr>\n",
       "        <td>AC</td>\n",
       "        <td>Fall2014</td>\n",
       "        <td>DSB110A</td>\n",
       "        <td>2015-08-15</td>\n",
       "        <td>2015-12-19</td>\n",
       "    </tr>\n",
       "    <tr>\n",
       "        <td>AC</td>\n",
       "        <td>Fall2014</td>\n",
       "        <td>DSB110A</td>\n",
       "        <td>2016-08-13</td>\n",
       "        <td>2016-12-19</td>\n",
       "    </tr>\n",
       "    <tr>\n",
       "        <td>AC</td>\n",
       "        <td>Fall2014</td>\n",
       "        <td>DSB110A</td>\n",
       "        <td>2018-08-11</td>\n",
       "        <td>2018-12-17</td>\n",
       "    </tr>\n",
       "    <tr>\n",
       "        <td>AC</td>\n",
       "        <td>Fall2014</td>\n",
       "        <td>DSB110A</td>\n",
       "        <td>2015-01-10</td>\n",
       "        <td>2015-05-16</td>\n",
       "    </tr>\n",
       "</table>"
      ],
      "text/plain": [
       "[('AC', 'Fall2014', 'DSB105', '2014-08-16', '2014-12-29'),\n",
       " ('AC', 'Fall2014', 'DSB105', '2015-08-15', '2015-12-19'),\n",
       " ('AC', 'Fall2014', 'DSB105', '2016-08-13', '2016-12-19'),\n",
       " ('AC', 'Fall2014', 'DSB105', '2018-08-11', '2018-12-17'),\n",
       " ('AC', 'Fall2014', 'DSB105', '2015-01-10', '2015-05-16'),\n",
       " ('AC', 'Fall2014', 'DSB105', '2016-01-13', '2016-05-16'),\n",
       " ('AC', 'Fall2014', 'DSB105', '2017-01-11', '2017-05-27'),\n",
       " ('AC', 'Fall2014', 'DSB105', '2018-01-10', '2018-05-15'),\n",
       " ('AC', 'Fall2014', 'DSB105', '2019-01-22', '2019-05-15'),\n",
       " ('AC', 'Fall2014', 'DSB105', '2016-04-13', '2016-08-27'),\n",
       " ('AC', 'Fall2014', 'DSB110A', '2014-08-16', '2014-12-29'),\n",
       " ('AC', 'Fall2014', 'DSB110A', '2015-08-15', '2015-12-19'),\n",
       " ('AC', 'Fall2014', 'DSB110A', '2016-08-13', '2016-12-19'),\n",
       " ('AC', 'Fall2014', 'DSB110A', '2018-08-11', '2018-12-17'),\n",
       " ('AC', 'Fall2014', 'DSB110A', '2015-01-10', '2015-05-16')]"
      ]
     },
     "execution_count": 86,
     "metadata": {},
     "output_type": "execute_result"
    }
   ],
   "source": [
    "%%sql\n",
    "\n",
    "SELECT *\n",
    "FROM factClass\n",
    "LIMIT 15;"
   ]
  },
  {
   "cell_type": "code",
   "execution_count": null,
   "metadata": {},
   "outputs": [],
   "source": []
  }
 ],
 "metadata": {
  "kernelspec": {
   "display_name": "Python 3",
   "language": "python",
   "name": "python3"
  },
  "language_info": {
   "codemirror_mode": {
    "name": "ipython",
    "version": 3
   },
   "file_extension": ".py",
   "mimetype": "text/x-python",
   "name": "python",
   "nbconvert_exporter": "python",
   "pygments_lexer": "ipython3",
   "version": "3.6.5"
  }
 },
 "nbformat": 4,
 "nbformat_minor": 2
}
