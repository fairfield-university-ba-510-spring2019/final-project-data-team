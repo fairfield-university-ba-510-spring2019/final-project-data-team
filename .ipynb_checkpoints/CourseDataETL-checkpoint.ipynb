{
 "cells": [
  {
   "cell_type": "code",
   "execution_count": 1,
   "metadata": {},
   "outputs": [],
   "source": [
    "# Needed for SQL Alchemy  \n",
    "from sqlalchemy import create_engine\n",
    "engine=create_engine('sqlite:///.CourseData',echo=False)\n",
    "\n",
    "# All query results are returned as Pandas DataFrames \n",
    "import pandas as pd\n",
    "\n",
    "#Used for importing CSVs\n",
    "import glob\n",
    "import os\n",
    "\n",
    "# Needed for %sql Magic\n",
    "%load_ext sql\n",
    "\n",
    "import sqlite3\n"
   ]
  },
  {
   "cell_type": "code",
   "execution_count": 2,
   "metadata": {},
   "outputs": [],
   "source": [
    "#Create CourseData and CourseDqtaWarehouse Databases\n",
    "conn = sqlite3.connect(\"./CourseData.db\")\n",
    "conn = sqlite3.connect(\"./CourseDataWarehouse.db\")"
   ]
  },
  {
   "cell_type": "code",
   "execution_count": 3,
   "metadata": {},
   "outputs": [],
   "source": [
    "CourseCatalog2017_2018=pd.read_csv(\"./SourceData/Catalogs/CourseCatalog2017_2018.csv\")\n",
    "CourseCatalog2018_2019=pd.read_csv(\"./SourceData/Catalogs/CourseCatalog2018_2019.csv\")"
   ]
  },
  {
   "cell_type": "code",
   "execution_count": 4,
   "metadata": {},
   "outputs": [
    {
     "data": {
      "text/plain": [
       "array(['Fall2015', 'Fall2014', 'Winter2015', 'Spring2015', 'Summer2015',\n",
       "       'Fall2016', 'Fall2018', 'Fall2017', 'Spring2019',\n",
       "       'SpringBreak2017', 'Spring2017', 'Winter2018', 'Winter2016',\n",
       "       'Spring2016', 'Spring2018', 'Winter2017', 'Summer2017',\n",
       "       'Summer2018', 'Summer2016'], dtype=object)"
      ]
     },
     "execution_count": 4,
     "metadata": {},
     "output_type": "execute_result"
    }
   ],
   "source": [
    "#Reading and combining all course meetings CSVs\n",
    "\n",
    "#Get list of folders/files in Source Data folder\n",
    "folders=glob.glob('./SourceData/*')\n",
    "\n",
    "#Delete folders/files from list that don't contain course meeting CSV files\n",
    "del folders[5]\n",
    "del folders[12]\n",
    "del folders[16]\n",
    "\n",
    "#Read CSVs from folders in list and combine into a single dataframe\n",
    "all_files=[]\n",
    "for path in folders:\n",
    "    all_files += glob.glob(os.path.join(path, \"course_meetings.csv\"))     # advisable to use os.path.join as this makes concatenation OS independent\n",
    "df_from_each_file = (pd.read_csv(f) for f in all_files)\n",
    "course_meetings = pd.concat(df_from_each_file, ignore_index=True, sort=True)\n",
    "\n",
    "course_meetings.term.unique()\n"
   ]
  },
  {
   "cell_type": "code",
   "execution_count": 5,
   "metadata": {},
   "outputs": [
    {
     "data": {
      "text/plain": [
       "array(['Fall2015', 'Fall2014', 'Winter2015', 'Spring2015', 'Summer2015',\n",
       "       'Fall2016', 'Fall2018', 'Fall2017', 'Spring2019',\n",
       "       'SpringBreak2017', 'Spring2017', 'Winter2018', 'Winter2016',\n",
       "       'Spring2016', 'Spring2018', 'Winter2017', 'Summer2017',\n",
       "       'Summer2018', 'Summer2016'], dtype=object)"
      ]
     },
     "execution_count": 5,
     "metadata": {},
     "output_type": "execute_result"
    }
   ],
   "source": [
    "#Reading and combining all courses CSVs\n",
    "\n",
    "#Get list of folders/files in Source Data folder\n",
    "folders=glob.glob('./SourceData/*')\n",
    "\n",
    "#Delete folders/files from list that don't contain courses CSV files\n",
    "del folders[5]\n",
    "del folders[12]\n",
    "del folders[16]\n",
    "\n",
    "#Read CSVs from folders in list and combine into a single dataframe\n",
    "all_files=[]\n",
    "for path in folders:\n",
    "    all_files += glob.glob(os.path.join(path, \"courses.csv\"))     # advisable to use os.path.join as this makes concatenation OS independent\n",
    "df_from_each_file = (pd.read_csv(f) for f in all_files)\n",
    "courses = pd.concat(df_from_each_file, ignore_index=True, sort=True)\n",
    "\n",
    "courses.term.unique()\n",
    "\n"
   ]
  },
  {
   "cell_type": "code",
   "execution_count": 6,
   "metadata": {},
   "outputs": [],
   "source": [
    "CourseCatalog2017_2018.to_sql('CourseCatalog2017_2018',con=engine,if_exists='replace')\n",
    "CourseCatalog2018_2019.to_sql('CourseCatalog2018_2019',con=engine,if_exists='replace')"
   ]
  },
  {
   "cell_type": "code",
   "execution_count": 7,
   "metadata": {},
   "outputs": [
    {
     "data": {
      "text/plain": [
       "317321"
      ]
     },
     "execution_count": 7,
     "metadata": {},
     "output_type": "execute_result"
    }
   ],
   "source": [
    "#Check length of course_meetings DataFrame\n",
    "len(course_meetings.index)"
   ]
  },
  {
   "cell_type": "code",
   "execution_count": 8,
   "metadata": {},
   "outputs": [],
   "source": [
    "#import course_meetings DataFrame to SQL as separate tables because DataFrame is too large to import at once.\n",
    "#Will use a union later in SQL to combine them\n",
    "\n",
    "course_meetings[:35000].to_sql('course_meetings1',con=engine,if_exists='replace')\n",
    "course_meetings[35000:70000].to_sql('course_meetings2',con=engine,if_exists='replace')\n",
    "course_meetings[70000:105000].to_sql('course_meetings3',con=engine,if_exists='replace')\n",
    "course_meetings[105000:140000].to_sql('course_meetings4',con=engine,if_exists='replace')\n",
    "course_meetings[140000:175000].to_sql('course_meetings5',con=engine,if_exists='replace')\n",
    "course_meetings[175000:210000].to_sql('course_meetings6',con=engine,if_exists='replace')\n",
    "course_meetings[210000:245000].to_sql('course_meetings7',con=engine,if_exists='replace')\n",
    "course_meetings[245000:280000].to_sql('course_meetings8',con=engine,if_exists='replace')\n",
    "course_meetings[280000:315000].to_sql('course_meetings9',con=engine,if_exists='replace')\n",
    "course_meetings[315000:].to_sql('course_meetings10',con=engine,if_exists='replace')"
   ]
  },
  {
   "cell_type": "code",
   "execution_count": 9,
   "metadata": {},
   "outputs": [
    {
     "data": {
      "text/plain": [
       "15937"
      ]
     },
     "execution_count": 9,
     "metadata": {},
     "output_type": "execute_result"
    }
   ],
   "source": [
    "#Check length of courses DataFrame\n",
    "len(courses.index)"
   ]
  },
  {
   "cell_type": "code",
   "execution_count": 10,
   "metadata": {},
   "outputs": [],
   "source": [
    "courses.to_sql('courses',con=engine,if_exists='replace')"
   ]
  },
  {
   "cell_type": "code",
   "execution_count": 11,
   "metadata": {},
   "outputs": [
    {
     "data": {
      "text/plain": [
       "'Connected: @.CourseData'"
      ]
     },
     "execution_count": 11,
     "metadata": {},
     "output_type": "execute_result"
    }
   ],
   "source": [
    "# Initialize \n",
    "%sql sqlite:///.CourseData"
   ]
  },
  {
   "cell_type": "code",
   "execution_count": 12,
   "metadata": {},
   "outputs": [
    {
     "name": "stdout",
     "output_type": "stream",
     "text": [
      " * sqlite:///.CourseData\n",
      "Done.\n"
     ]
    },
    {
     "data": {
      "text/html": [
       "<table>\n",
       "    <tr>\n",
       "        <th>name</th>\n",
       "        <th>sql</th>\n",
       "    </tr>\n",
       "    <tr>\n",
       "        <td>CourseCatalog2017_2018</td>\n",
       "        <td>CREATE TABLE &quot;CourseCatalog2017_2018&quot; (<br>\t&quot;index&quot; BIGINT, <br>\tprogram_code TEXT, <br>\tprogram_name TEXT, <br>\tcatalog_id TEXT, <br>\tcourse_title TEXT, <br>\tcredits TEXT, <br>\tprereqs TEXT, <br>\tcoreqs TEXT, <br>\tfees TEXT, <br>\tattributes TEXT, <br>\tdescription TEXT<br>)</td>\n",
       "    </tr>\n",
       "    <tr>\n",
       "        <td>CourseCatalog2018_2019</td>\n",
       "        <td>CREATE TABLE &quot;CourseCatalog2018_2019&quot; (<br>\t&quot;index&quot; BIGINT, <br>\tprogram_code TEXT, <br>\tprogram_name TEXT, <br>\tcatalog_id TEXT, <br>\tcourse_title TEXT, <br>\tcredits TEXT, <br>\tprereqs TEXT, <br>\tcoreqs TEXT, <br>\tfees TEXT, <br>\tattributes TEXT, <br>\tdescription TEXT<br>)</td>\n",
       "    </tr>\n",
       "    <tr>\n",
       "        <td>all_course_meetings</td>\n",
       "        <td>CREATE TABLE all_course_meetings (<br>term text,<br>crn int,<br>location datexttatype,<br>day text,<br>start text,<br>end text<br>)</td>\n",
       "    </tr>\n",
       "    <tr>\n",
       "        <td>course_meetings1</td>\n",
       "        <td>CREATE TABLE course_meetings1 (<br>\t&quot;index&quot; BIGINT, <br>\tcrn BIGINT, <br>\tday TEXT, <br>\t&quot;end&quot; TEXT, <br>\tlocation TEXT, <br>\tstart TEXT, <br>\tterm TEXT<br>)</td>\n",
       "    </tr>\n",
       "    <tr>\n",
       "        <td>course_meetings10</td>\n",
       "        <td>CREATE TABLE course_meetings10 (<br>\t&quot;index&quot; BIGINT, <br>\tcrn BIGINT, <br>\tday TEXT, <br>\t&quot;end&quot; TEXT, <br>\tlocation TEXT, <br>\tstart TEXT, <br>\tterm TEXT<br>)</td>\n",
       "    </tr>\n",
       "    <tr>\n",
       "        <td>course_meetings2</td>\n",
       "        <td>CREATE TABLE course_meetings2 (<br>\t&quot;index&quot; BIGINT, <br>\tcrn BIGINT, <br>\tday TEXT, <br>\t&quot;end&quot; TEXT, <br>\tlocation TEXT, <br>\tstart TEXT, <br>\tterm TEXT<br>)</td>\n",
       "    </tr>\n",
       "    <tr>\n",
       "        <td>course_meetings3</td>\n",
       "        <td>CREATE TABLE course_meetings3 (<br>\t&quot;index&quot; BIGINT, <br>\tcrn BIGINT, <br>\tday TEXT, <br>\t&quot;end&quot; TEXT, <br>\tlocation TEXT, <br>\tstart TEXT, <br>\tterm TEXT<br>)</td>\n",
       "    </tr>\n",
       "    <tr>\n",
       "        <td>course_meetings4</td>\n",
       "        <td>CREATE TABLE course_meetings4 (<br>\t&quot;index&quot; BIGINT, <br>\tcrn BIGINT, <br>\tday TEXT, <br>\t&quot;end&quot; TEXT, <br>\tlocation TEXT, <br>\tstart TEXT, <br>\tterm TEXT<br>)</td>\n",
       "    </tr>\n",
       "    <tr>\n",
       "        <td>course_meetings5</td>\n",
       "        <td>CREATE TABLE course_meetings5 (<br>\t&quot;index&quot; BIGINT, <br>\tcrn BIGINT, <br>\tday TEXT, <br>\t&quot;end&quot; TEXT, <br>\tlocation TEXT, <br>\tstart TEXT, <br>\tterm TEXT<br>)</td>\n",
       "    </tr>\n",
       "    <tr>\n",
       "        <td>course_meetings6</td>\n",
       "        <td>CREATE TABLE course_meetings6 (<br>\t&quot;index&quot; BIGINT, <br>\tcrn BIGINT, <br>\tday TEXT, <br>\t&quot;end&quot; TEXT, <br>\tlocation TEXT, <br>\tstart TEXT, <br>\tterm TEXT<br>)</td>\n",
       "    </tr>\n",
       "    <tr>\n",
       "        <td>course_meetings7</td>\n",
       "        <td>CREATE TABLE course_meetings7 (<br>\t&quot;index&quot; BIGINT, <br>\tcrn BIGINT, <br>\tday TEXT, <br>\t&quot;end&quot; TEXT, <br>\tlocation TEXT, <br>\tstart TEXT, <br>\tterm TEXT<br>)</td>\n",
       "    </tr>\n",
       "    <tr>\n",
       "        <td>course_meetings8</td>\n",
       "        <td>CREATE TABLE course_meetings8 (<br>\t&quot;index&quot; BIGINT, <br>\tcrn BIGINT, <br>\tday TEXT, <br>\t&quot;end&quot; TEXT, <br>\tlocation TEXT, <br>\tstart TEXT, <br>\tterm TEXT<br>)</td>\n",
       "    </tr>\n",
       "    <tr>\n",
       "        <td>course_meetings9</td>\n",
       "        <td>CREATE TABLE course_meetings9 (<br>\t&quot;index&quot; BIGINT, <br>\tcrn BIGINT, <br>\tday TEXT, <br>\t&quot;end&quot; TEXT, <br>\tlocation TEXT, <br>\tstart TEXT, <br>\tterm TEXT<br>)</td>\n",
       "    </tr>\n",
       "    <tr>\n",
       "        <td>courses</td>\n",
       "        <td>CREATE TABLE courses (<br>\t&quot;index&quot; BIGINT, <br>\tact BIGINT, <br>\tcap BIGINT, <br>\tcatalog_id TEXT, <br>\tcredits TEXT, <br>\tcrn BIGINT, <br>\tmeetings TEXT, <br>\tprimary_instructor TEXT, <br>\trem BIGINT, <br>\tsection TEXT, <br>\tterm TEXT, <br>\ttimecodes TEXT, <br>\ttitle TEXT<br>)</td>\n",
       "    </tr>\n",
       "</table>"
      ],
      "text/plain": [
       "[('CourseCatalog2017_2018', 'CREATE TABLE \"CourseCatalog2017_2018\" (\\n\\t\"index\" BIGINT, \\n\\tprogram_code TEXT, \\n\\tprogram_name TEXT, \\n\\tcatalog_id TEXT, \\n\\tcourse_title TEXT, \\n\\tcredits TEXT, \\n\\tprereqs TEXT, \\n\\tcoreqs TEXT, \\n\\tfees TEXT, \\n\\tattributes TEXT, \\n\\tdescription TEXT\\n)'),\n",
       " ('CourseCatalog2018_2019', 'CREATE TABLE \"CourseCatalog2018_2019\" (\\n\\t\"index\" BIGINT, \\n\\tprogram_code TEXT, \\n\\tprogram_name TEXT, \\n\\tcatalog_id TEXT, \\n\\tcourse_title TEXT, \\n\\tcredits TEXT, \\n\\tprereqs TEXT, \\n\\tcoreqs TEXT, \\n\\tfees TEXT, \\n\\tattributes TEXT, \\n\\tdescription TEXT\\n)'),\n",
       " ('all_course_meetings', 'CREATE TABLE all_course_meetings (\\nterm text,\\ncrn int,\\nlocation datexttatype,\\nday text,\\nstart text,\\nend text\\n)'),\n",
       " ('course_meetings1', 'CREATE TABLE course_meetings1 (\\n\\t\"index\" BIGINT, \\n\\tcrn BIGINT, \\n\\tday TEXT, \\n\\t\"end\" TEXT, \\n\\tlocation TEXT, \\n\\tstart TEXT, \\n\\tterm TEXT\\n)'),\n",
       " ('course_meetings10', 'CREATE TABLE course_meetings10 (\\n\\t\"index\" BIGINT, \\n\\tcrn BIGINT, \\n\\tday TEXT, \\n\\t\"end\" TEXT, \\n\\tlocation TEXT, \\n\\tstart TEXT, \\n\\tterm TEXT\\n)'),\n",
       " ('course_meetings2', 'CREATE TABLE course_meetings2 (\\n\\t\"index\" BIGINT, \\n\\tcrn BIGINT, \\n\\tday TEXT, \\n\\t\"end\" TEXT, \\n\\tlocation TEXT, \\n\\tstart TEXT, \\n\\tterm TEXT\\n)'),\n",
       " ('course_meetings3', 'CREATE TABLE course_meetings3 (\\n\\t\"index\" BIGINT, \\n\\tcrn BIGINT, \\n\\tday TEXT, \\n\\t\"end\" TEXT, \\n\\tlocation TEXT, \\n\\tstart TEXT, \\n\\tterm TEXT\\n)'),\n",
       " ('course_meetings4', 'CREATE TABLE course_meetings4 (\\n\\t\"index\" BIGINT, \\n\\tcrn BIGINT, \\n\\tday TEXT, \\n\\t\"end\" TEXT, \\n\\tlocation TEXT, \\n\\tstart TEXT, \\n\\tterm TEXT\\n)'),\n",
       " ('course_meetings5', 'CREATE TABLE course_meetings5 (\\n\\t\"index\" BIGINT, \\n\\tcrn BIGINT, \\n\\tday TEXT, \\n\\t\"end\" TEXT, \\n\\tlocation TEXT, \\n\\tstart TEXT, \\n\\tterm TEXT\\n)'),\n",
       " ('course_meetings6', 'CREATE TABLE course_meetings6 (\\n\\t\"index\" BIGINT, \\n\\tcrn BIGINT, \\n\\tday TEXT, \\n\\t\"end\" TEXT, \\n\\tlocation TEXT, \\n\\tstart TEXT, \\n\\tterm TEXT\\n)'),\n",
       " ('course_meetings7', 'CREATE TABLE course_meetings7 (\\n\\t\"index\" BIGINT, \\n\\tcrn BIGINT, \\n\\tday TEXT, \\n\\t\"end\" TEXT, \\n\\tlocation TEXT, \\n\\tstart TEXT, \\n\\tterm TEXT\\n)'),\n",
       " ('course_meetings8', 'CREATE TABLE course_meetings8 (\\n\\t\"index\" BIGINT, \\n\\tcrn BIGINT, \\n\\tday TEXT, \\n\\t\"end\" TEXT, \\n\\tlocation TEXT, \\n\\tstart TEXT, \\n\\tterm TEXT\\n)'),\n",
       " ('course_meetings9', 'CREATE TABLE course_meetings9 (\\n\\t\"index\" BIGINT, \\n\\tcrn BIGINT, \\n\\tday TEXT, \\n\\t\"end\" TEXT, \\n\\tlocation TEXT, \\n\\tstart TEXT, \\n\\tterm TEXT\\n)'),\n",
       " ('courses', 'CREATE TABLE courses (\\n\\t\"index\" BIGINT, \\n\\tact BIGINT, \\n\\tcap BIGINT, \\n\\tcatalog_id TEXT, \\n\\tcredits TEXT, \\n\\tcrn BIGINT, \\n\\tmeetings TEXT, \\n\\tprimary_instructor TEXT, \\n\\trem BIGINT, \\n\\tsection TEXT, \\n\\tterm TEXT, \\n\\ttimecodes TEXT, \\n\\ttitle TEXT\\n)')]"
      ]
     },
     "execution_count": 12,
     "metadata": {},
     "output_type": "execute_result"
    }
   ],
   "source": [
    "%%sql\n",
    "\n",
    "SELECT name, sql FROM sqlite_master\n",
    "WHERE type='table'\n",
    "ORDER BY name;"
   ]
  },
  {
   "cell_type": "code",
   "execution_count": 13,
   "metadata": {},
   "outputs": [
    {
     "name": "stdout",
     "output_type": "stream",
     "text": [
      " * sqlite:///.CourseData\n",
      "(sqlite3.OperationalError) table all_course_meetings already exists [SQL: 'CREATE TABLE all_course_meetings (\\nterm text,\\ncrn int,\\nlocation datexttatype,\\nday text,\\nstart text,\\nend text\\n);'] (Background on this error at: http://sqlalche.me/e/e3q8)\n"
     ]
    }
   ],
   "source": [
    "%%sql\n",
    "\n",
    "CREATE TABLE all_course_meetings (\n",
    "term text,\n",
    "crn int,\n",
    "location datexttatype,\n",
    "day text,\n",
    "start text,\n",
    "end text\n",
    ");"
   ]
  },
  {
   "cell_type": "code",
   "execution_count": 14,
   "metadata": {},
   "outputs": [
    {
     "name": "stdout",
     "output_type": "stream",
     "text": [
      " * sqlite:///.CourseData\n",
      "317321 rows affected.\n"
     ]
    },
    {
     "data": {
      "text/plain": [
       "[]"
      ]
     },
     "execution_count": 14,
     "metadata": {},
     "output_type": "execute_result"
    }
   ],
   "source": [
    "%%sql\n",
    "\n",
    "INSERT INTO all_course_meetings\n",
    "    select term,crn,location,day,start,end from course_meetings1\n",
    "union all\n",
    "    select term,crn,location,day,start,end from course_meetings2\n",
    "union all\n",
    "    select term,crn,location,day,start,end from course_meetings3\n",
    "union all\n",
    "    select term,crn,location,day,start,end from course_meetings4\n",
    "union all\n",
    "    select term,crn,location,day,start,end from course_meetings5\n",
    "union all\n",
    "    select term,crn,location,day,start,end from course_meetings6\n",
    "union all\n",
    "    select term,crn,location,day,start,end from course_meetings7\n",
    "union all\n",
    "    select term,crn,location,day,start,end from course_meetings8\n",
    "union all\n",
    "    select term,crn,location,day,start,end from course_meetings9\n",
    "union all\n",
    "    select term,crn,location,day,start,end from course_meetings10\n",
    ";"
   ]
  },
  {
   "cell_type": "code",
   "execution_count": 15,
   "metadata": {},
   "outputs": [
    {
     "name": "stdout",
     "output_type": "stream",
     "text": [
      " * sqlite:///.CourseData\n",
      "Done.\n"
     ]
    },
    {
     "data": {
      "text/html": [
       "<table>\n",
       "    <tr>\n",
       "        <th>term</th>\n",
       "        <th>crn</th>\n",
       "        <th>location</th>\n",
       "        <th>day</th>\n",
       "        <th>start</th>\n",
       "        <th>end</th>\n",
       "    </tr>\n",
       "    <tr>\n",
       "        <td>Fall2015</td>\n",
       "        <td>75222</td>\n",
       "        <td>DSB 112</td>\n",
       "        <td>R</td>\n",
       "        <td>2015-09-03T14:00:00</td>\n",
       "        <td>2015-09-03T15:15:00</td>\n",
       "    </tr>\n",
       "    <tr>\n",
       "        <td>Fall2015</td>\n",
       "        <td>75222</td>\n",
       "        <td>DSB 112</td>\n",
       "        <td>M</td>\n",
       "        <td>2015-09-07T14:00:00</td>\n",
       "        <td>2015-09-07T15:15:00</td>\n",
       "    </tr>\n",
       "    <tr>\n",
       "        <td>Fall2015</td>\n",
       "        <td>75222</td>\n",
       "        <td>DSB 112</td>\n",
       "        <td>R</td>\n",
       "        <td>2015-09-10T14:00:00</td>\n",
       "        <td>2015-09-10T15:15:00</td>\n",
       "    </tr>\n",
       "    <tr>\n",
       "        <td>Fall2015</td>\n",
       "        <td>75222</td>\n",
       "        <td>DSB 112</td>\n",
       "        <td>M</td>\n",
       "        <td>2015-09-14T14:00:00</td>\n",
       "        <td>2015-09-14T15:15:00</td>\n",
       "    </tr>\n",
       "    <tr>\n",
       "        <td>Fall2015</td>\n",
       "        <td>75222</td>\n",
       "        <td>DSB 112</td>\n",
       "        <td>R</td>\n",
       "        <td>2015-09-17T14:00:00</td>\n",
       "        <td>2015-09-17T15:15:00</td>\n",
       "    </tr>\n",
       "    <tr>\n",
       "        <td>Fall2015</td>\n",
       "        <td>75222</td>\n",
       "        <td>DSB 112</td>\n",
       "        <td>M</td>\n",
       "        <td>2015-09-21T14:00:00</td>\n",
       "        <td>2015-09-21T15:15:00</td>\n",
       "    </tr>\n",
       "    <tr>\n",
       "        <td>Fall2015</td>\n",
       "        <td>75222</td>\n",
       "        <td>DSB 112</td>\n",
       "        <td>R</td>\n",
       "        <td>2015-09-24T14:00:00</td>\n",
       "        <td>2015-09-24T15:15:00</td>\n",
       "    </tr>\n",
       "    <tr>\n",
       "        <td>Fall2015</td>\n",
       "        <td>75222</td>\n",
       "        <td>DSB 112</td>\n",
       "        <td>M</td>\n",
       "        <td>2015-09-28T14:00:00</td>\n",
       "        <td>2015-09-28T15:15:00</td>\n",
       "    </tr>\n",
       "    <tr>\n",
       "        <td>Fall2015</td>\n",
       "        <td>75222</td>\n",
       "        <td>DSB 112</td>\n",
       "        <td>R</td>\n",
       "        <td>2015-10-01T14:00:00</td>\n",
       "        <td>2015-10-01T15:15:00</td>\n",
       "    </tr>\n",
       "    <tr>\n",
       "        <td>Fall2015</td>\n",
       "        <td>75222</td>\n",
       "        <td>DSB 112</td>\n",
       "        <td>M</td>\n",
       "        <td>2015-10-05T14:00:00</td>\n",
       "        <td>2015-10-05T15:15:00</td>\n",
       "    </tr>\n",
       "</table>"
      ],
      "text/plain": [
       "[('Fall2015', 75222, 'DSB 112', 'R', '2015-09-03T14:00:00', '2015-09-03T15:15:00'),\n",
       " ('Fall2015', 75222, 'DSB 112', 'M', '2015-09-07T14:00:00', '2015-09-07T15:15:00'),\n",
       " ('Fall2015', 75222, 'DSB 112', 'R', '2015-09-10T14:00:00', '2015-09-10T15:15:00'),\n",
       " ('Fall2015', 75222, 'DSB 112', 'M', '2015-09-14T14:00:00', '2015-09-14T15:15:00'),\n",
       " ('Fall2015', 75222, 'DSB 112', 'R', '2015-09-17T14:00:00', '2015-09-17T15:15:00'),\n",
       " ('Fall2015', 75222, 'DSB 112', 'M', '2015-09-21T14:00:00', '2015-09-21T15:15:00'),\n",
       " ('Fall2015', 75222, 'DSB 112', 'R', '2015-09-24T14:00:00', '2015-09-24T15:15:00'),\n",
       " ('Fall2015', 75222, 'DSB 112', 'M', '2015-09-28T14:00:00', '2015-09-28T15:15:00'),\n",
       " ('Fall2015', 75222, 'DSB 112', 'R', '2015-10-01T14:00:00', '2015-10-01T15:15:00'),\n",
       " ('Fall2015', 75222, 'DSB 112', 'M', '2015-10-05T14:00:00', '2015-10-05T15:15:00')]"
      ]
     },
     "execution_count": 15,
     "metadata": {},
     "output_type": "execute_result"
    }
   ],
   "source": [
    "%%sql\n",
    "\n",
    "select * from all_course_meetings limit 10\n"
   ]
  },
  {
   "cell_type": "code",
   "execution_count": 28,
   "metadata": {},
   "outputs": [
    {
     "name": "stdout",
     "output_type": "stream",
     "text": [
      " * sqlite:///.CourseData\n",
      "Done.\n",
      "634642 rows affected.\n"
     ]
    },
    {
     "data": {
      "text/plain": [
       "[]"
      ]
     },
     "execution_count": 28,
     "metadata": {},
     "output_type": "execute_result"
    }
   ],
   "source": [
    "%%sql\n",
    "\n",
    "alter table all_course_meetings add MeetingDate date;\n",
    "update all_course_meetings set MeetingDate = substr(start,1,10)\n"
   ]
  },
  {
   "cell_type": "code",
   "execution_count": 31,
   "metadata": {},
   "outputs": [
    {
     "name": "stdout",
     "output_type": "stream",
     "text": [
      " * sqlite:///.CourseData\n",
      "(sqlite3.OperationalError) duplicate column name: StartTime [SQL: 'alter table all_course_meetings add StartTime time;'] (Background on this error at: http://sqlalche.me/e/e3q8)\n"
     ]
    }
   ],
   "source": [
    "##Break Start and End columns in all_course_meetings tables into separate date and time columns\n",
    "%%sql\n",
    "\n",
    "alter table all_course_meetings add StartTime time;\n",
    "update all_course_meetings set StartTime=substr(start,12);\n",
    "alter table all_course_meetings add EndTime time;\n",
    "update all_course_meetings set EndTime=substr(end,12);\n",
    "\n",
    "select * from all_course_meetings limit 10;"
   ]
  },
  {
   "cell_type": "code",
   "execution_count": 37,
   "metadata": {},
   "outputs": [
    {
     "name": "stdout",
     "output_type": "stream",
     "text": [
      " * sqlite:///.CourseData\n",
      "Done.\n"
     ]
    },
    {
     "data": {
      "text/html": [
       "<table>\n",
       "    <tr>\n",
       "        <th>index</th>\n",
       "        <th>act</th>\n",
       "        <th>cap</th>\n",
       "        <th>catalog_id</th>\n",
       "        <th>credits</th>\n",
       "        <th>crn</th>\n",
       "        <th>meetings</th>\n",
       "        <th>primary_instructor</th>\n",
       "        <th>rem</th>\n",
       "        <th>section</th>\n",
       "        <th>term</th>\n",
       "        <th>timecodes</th>\n",
       "        <th>title</th>\n",
       "    </tr>\n",
       "    <tr>\n",
       "        <td>0</td>\n",
       "        <td>35</td>\n",
       "        <td>0</td>\n",
       "        <td>AC 0011</td>\n",
       "        <td>3.000</td>\n",
       "        <td>75222</td>\n",
       "        <td>[{&#x27;days&#x27;: &#x27;MR&#x27;, &#x27;times&#x27;: &#x27;0200pm-0315pm&#x27;, &#x27;dates&#x27;: &#x27;09/01-12/07&#x27;, &#x27;location&#x27;: &#x27;DSB 112&#x27;}]</td>\n",
       "        <td>Rebecca I.  Bloch</td>\n",
       "        <td>-35</td>\n",
       "        <td>C01</td>\n",
       "        <td>Fall2015</td>\n",
       "        <td>[&#x27;MR 0200pm-0315pm 09/01-12/07 DSB 112&#x27;]</td>\n",
       "        <td>Introduction to Financial Accounting</td>\n",
       "    </tr>\n",
       "    <tr>\n",
       "        <td>1</td>\n",
       "        <td>33</td>\n",
       "        <td>0</td>\n",
       "        <td>AC 0011</td>\n",
       "        <td>3.000</td>\n",
       "        <td>75240</td>\n",
       "        <td>[{&#x27;days&#x27;: &#x27;MR&#x27;, &#x27;times&#x27;: &#x27;0330pm-0445pm&#x27;, &#x27;dates&#x27;: &#x27;09/01-12/07&#x27;, &#x27;location&#x27;: &#x27;DSB 112&#x27;}]</td>\n",
       "        <td>Rebecca I.  Bloch</td>\n",
       "        <td>-33</td>\n",
       "        <td>C02</td>\n",
       "        <td>Fall2015</td>\n",
       "        <td>[&#x27;MR 0330pm-0445pm 09/01-12/07 DSB 112&#x27;]</td>\n",
       "        <td>Introduction to Financial Accounting</td>\n",
       "    </tr>\n",
       "    <tr>\n",
       "        <td>2</td>\n",
       "        <td>32</td>\n",
       "        <td>0</td>\n",
       "        <td>AC 0011</td>\n",
       "        <td>3.000</td>\n",
       "        <td>75241</td>\n",
       "        <td>[{&#x27;days&#x27;: &#x27;TF&#x27;, &#x27;times&#x27;: &#x27;0200pm-0315pm&#x27;, &#x27;dates&#x27;: &#x27;09/01-12/07&#x27;, &#x27;location&#x27;: &#x27;DSB 115&#x27;}]</td>\n",
       "        <td>Michael P.  Coyne</td>\n",
       "        <td>-32</td>\n",
       "        <td>C03</td>\n",
       "        <td>Fall2015</td>\n",
       "        <td>[&#x27;TF 0200pm-0315pm 09/01-12/07 DSB 115&#x27;]</td>\n",
       "        <td>Introduction to Financial Accounting</td>\n",
       "    </tr>\n",
       "    <tr>\n",
       "        <td>3</td>\n",
       "        <td>35</td>\n",
       "        <td>0</td>\n",
       "        <td>AC 0011</td>\n",
       "        <td>3.000</td>\n",
       "        <td>75243</td>\n",
       "        <td>[{&#x27;days&#x27;: &#x27;TF&#x27;, &#x27;times&#x27;: &#x27;0800am-0915am&#x27;, &#x27;dates&#x27;: &#x27;09/01-12/07&#x27;, &#x27;location&#x27;: &#x27;DSB 111&#x27;}]</td>\n",
       "        <td>Michael P.  Coyne</td>\n",
       "        <td>-35</td>\n",
       "        <td>C04</td>\n",
       "        <td>Fall2015</td>\n",
       "        <td>[&#x27;TF 0800am-0915am 09/01-12/07 DSB 111&#x27;]</td>\n",
       "        <td>Introduction to Financial Accounting</td>\n",
       "    </tr>\n",
       "    <tr>\n",
       "        <td>4</td>\n",
       "        <td>36</td>\n",
       "        <td>0</td>\n",
       "        <td>AC 0011</td>\n",
       "        <td>3.000</td>\n",
       "        <td>75244</td>\n",
       "        <td>[{&#x27;days&#x27;: &#x27;TF&#x27;, &#x27;times&#x27;: &#x27;0930am-1045am&#x27;, &#x27;dates&#x27;: &#x27;09/01-12/07&#x27;, &#x27;location&#x27;: &#x27;DSB 111&#x27;}]</td>\n",
       "        <td>Michael P.  Coyne</td>\n",
       "        <td>-36</td>\n",
       "        <td>C05</td>\n",
       "        <td>Fall2015</td>\n",
       "        <td>[&#x27;TF 0930am-1045am 09/01-12/07 DSB 111&#x27;]</td>\n",
       "        <td>Introduction to Financial Accounting</td>\n",
       "    </tr>\n",
       "    <tr>\n",
       "        <td>5</td>\n",
       "        <td>32</td>\n",
       "        <td>29</td>\n",
       "        <td>AC 0011</td>\n",
       "        <td>3.000</td>\n",
       "        <td>75242</td>\n",
       "        <td>[{&#x27;days&#x27;: &#x27;MR&#x27;, &#x27;times&#x27;: &#x27;0930am-1045am&#x27;, &#x27;dates&#x27;: &#x27;09/01-12/07&#x27;, &#x27;location&#x27;: &#x27;DSB 111&#x27;}]</td>\n",
       "        <td>Paul   Caster</td>\n",
       "        <td>-3</td>\n",
       "        <td>F</td>\n",
       "        <td>Fall2015</td>\n",
       "        <td>[&#x27;MR 0930am-1045am 09/01-12/07 DSB 111&#x27;]</td>\n",
       "        <td>Introduction to Financial Accounting</td>\n",
       "    </tr>\n",
       "    <tr>\n",
       "        <td>6</td>\n",
       "        <td>30</td>\n",
       "        <td>29</td>\n",
       "        <td>AC 0011</td>\n",
       "        <td>3.000</td>\n",
       "        <td>75461</td>\n",
       "        <td>[{&#x27;days&#x27;: &#x27;TF&#x27;, &#x27;times&#x27;: &#x27;1230pm-0145pm&#x27;, &#x27;dates&#x27;: &#x27;09/01-12/07&#x27;, &#x27;location&#x27;: &#x27;DSB 111&#x27;}]</td>\n",
       "        <td>Jo Ann   Drusbosky</td>\n",
       "        <td>-1</td>\n",
       "        <td>G</td>\n",
       "        <td>Fall2015</td>\n",
       "        <td>[&#x27;TF 1230pm-0145pm 09/01-12/07 DSB 111&#x27;]</td>\n",
       "        <td>Introduction to Financial Accounting</td>\n",
       "    </tr>\n",
       "    <tr>\n",
       "        <td>7</td>\n",
       "        <td>32</td>\n",
       "        <td>29</td>\n",
       "        <td>AC 0011</td>\n",
       "        <td>3.000</td>\n",
       "        <td>75484</td>\n",
       "        <td>[{&#x27;days&#x27;: &#x27;TF&#x27;, &#x27;times&#x27;: &#x27;0330pm-0445pm&#x27;, &#x27;dates&#x27;: &#x27;09/01-12/07&#x27;, &#x27;location&#x27;: &#x27;DSB 111&#x27;}]</td>\n",
       "        <td>Jo Ann   Drusbosky</td>\n",
       "        <td>-3</td>\n",
       "        <td>I</td>\n",
       "        <td>Fall2015</td>\n",
       "        <td>[&#x27;TF 0330pm-0445pm 09/01-12/07 DSB 111&#x27;]</td>\n",
       "        <td>Introduction to Financial Accounting</td>\n",
       "    </tr>\n",
       "    <tr>\n",
       "        <td>8</td>\n",
       "        <td>28</td>\n",
       "        <td>29</td>\n",
       "        <td>AC 0011</td>\n",
       "        <td>3.000</td>\n",
       "        <td>75729</td>\n",
       "        <td>[{&#x27;days&#x27;: &#x27;TF&#x27;, &#x27;times&#x27;: &#x27;1100am-1215pm&#x27;, &#x27;dates&#x27;: &#x27;09/01-12/07&#x27;, &#x27;location&#x27;: &#x27;DSB 105&#x27;}]</td>\n",
       "        <td>Arleen N.  Kardos</td>\n",
       "        <td>1</td>\n",
       "        <td>J</td>\n",
       "        <td>Fall2015</td>\n",
       "        <td>[&#x27;TF 1100am-1215pm 09/01-12/07 DSB 105&#x27;]</td>\n",
       "        <td>Introduction to Financial Accounting</td>\n",
       "    </tr>\n",
       "    <tr>\n",
       "        <td>9</td>\n",
       "        <td>29</td>\n",
       "        <td>29</td>\n",
       "        <td>AC 0011</td>\n",
       "        <td>3.000</td>\n",
       "        <td>76101</td>\n",
       "        <td>[{&#x27;days&#x27;: &#x27;TF&#x27;, &#x27;times&#x27;: &#x27;1230pm-0145pm&#x27;, &#x27;dates&#x27;: &#x27;09/01-12/07&#x27;, &#x27;location&#x27;: &#x27;DSB 105&#x27;}]</td>\n",
       "        <td>Arleen N.  Kardos</td>\n",
       "        <td>0</td>\n",
       "        <td>K</td>\n",
       "        <td>Fall2015</td>\n",
       "        <td>[&#x27;TF 1230pm-0145pm 09/01-12/07 DSB 105&#x27;]</td>\n",
       "        <td>Introduction to Financial Accounting</td>\n",
       "    </tr>\n",
       "</table>"
      ],
      "text/plain": [
       "[(0, 35, 0, 'AC 0011', '3.000', 75222, \"[{'days': 'MR', 'times': '0200pm-0315pm', 'dates': '09/01-12/07', 'location': 'DSB 112'}]\", 'Rebecca I.  Bloch', -35, 'C01', 'Fall2015', \"['MR 0200pm-0315pm 09/01-12/07 DSB 112']\", 'Introduction to Financial Accounting'),\n",
       " (1, 33, 0, 'AC 0011', '3.000', 75240, \"[{'days': 'MR', 'times': '0330pm-0445pm', 'dates': '09/01-12/07', 'location': 'DSB 112'}]\", 'Rebecca I.  Bloch', -33, 'C02', 'Fall2015', \"['MR 0330pm-0445pm 09/01-12/07 DSB 112']\", 'Introduction to Financial Accounting'),\n",
       " (2, 32, 0, 'AC 0011', '3.000', 75241, \"[{'days': 'TF', 'times': '0200pm-0315pm', 'dates': '09/01-12/07', 'location': 'DSB 115'}]\", 'Michael P.  Coyne', -32, 'C03', 'Fall2015', \"['TF 0200pm-0315pm 09/01-12/07 DSB 115']\", 'Introduction to Financial Accounting'),\n",
       " (3, 35, 0, 'AC 0011', '3.000', 75243, \"[{'days': 'TF', 'times': '0800am-0915am', 'dates': '09/01-12/07', 'location': 'DSB 111'}]\", 'Michael P.  Coyne', -35, 'C04', 'Fall2015', \"['TF 0800am-0915am 09/01-12/07 DSB 111']\", 'Introduction to Financial Accounting'),\n",
       " (4, 36, 0, 'AC 0011', '3.000', 75244, \"[{'days': 'TF', 'times': '0930am-1045am', 'dates': '09/01-12/07', 'location': 'DSB 111'}]\", 'Michael P.  Coyne', -36, 'C05', 'Fall2015', \"['TF 0930am-1045am 09/01-12/07 DSB 111']\", 'Introduction to Financial Accounting'),\n",
       " (5, 32, 29, 'AC 0011', '3.000', 75242, \"[{'days': 'MR', 'times': '0930am-1045am', 'dates': '09/01-12/07', 'location': 'DSB 111'}]\", 'Paul   Caster', -3, 'F', 'Fall2015', \"['MR 0930am-1045am 09/01-12/07 DSB 111']\", 'Introduction to Financial Accounting'),\n",
       " (6, 30, 29, 'AC 0011', '3.000', 75461, \"[{'days': 'TF', 'times': '1230pm-0145pm', 'dates': '09/01-12/07', 'location': 'DSB 111'}]\", 'Jo Ann   Drusbosky', -1, 'G', 'Fall2015', \"['TF 1230pm-0145pm 09/01-12/07 DSB 111']\", 'Introduction to Financial Accounting'),\n",
       " (7, 32, 29, 'AC 0011', '3.000', 75484, \"[{'days': 'TF', 'times': '0330pm-0445pm', 'dates': '09/01-12/07', 'location': 'DSB 111'}]\", 'Jo Ann   Drusbosky', -3, 'I', 'Fall2015', \"['TF 0330pm-0445pm 09/01-12/07 DSB 111']\", 'Introduction to Financial Accounting'),\n",
       " (8, 28, 29, 'AC 0011', '3.000', 75729, \"[{'days': 'TF', 'times': '1100am-1215pm', 'dates': '09/01-12/07', 'location': 'DSB 105'}]\", 'Arleen N.  Kardos', 1, 'J', 'Fall2015', \"['TF 1100am-1215pm 09/01-12/07 DSB 105']\", 'Introduction to Financial Accounting'),\n",
       " (9, 29, 29, 'AC 0011', '3.000', 76101, \"[{'days': 'TF', 'times': '1230pm-0145pm', 'dates': '09/01-12/07', 'location': 'DSB 105'}]\", 'Arleen N.  Kardos', 0, 'K', 'Fall2015', \"['TF 1230pm-0145pm 09/01-12/07 DSB 105']\", 'Introduction to Financial Accounting')]"
      ]
     },
     "execution_count": 37,
     "metadata": {},
     "output_type": "execute_result"
    }
   ],
   "source": [
    "%%sql\n",
    "\n",
    "select * from courses limit 10;\n",
    "\n"
   ]
  },
  {
   "cell_type": "code",
   "execution_count": null,
   "metadata": {},
   "outputs": [],
   "source": []
  }
 ],
 "metadata": {
  "kernelspec": {
   "display_name": "Python 3",
   "language": "python",
   "name": "python3"
  },
  "language_info": {
   "codemirror_mode": {
    "name": "ipython",
    "version": 3
   },
   "file_extension": ".py",
   "mimetype": "text/x-python",
   "name": "python",
   "nbconvert_exporter": "python",
   "pygments_lexer": "ipython3",
   "version": "3.6.8"
  }
 },
 "nbformat": 4,
 "nbformat_minor": 2
}
