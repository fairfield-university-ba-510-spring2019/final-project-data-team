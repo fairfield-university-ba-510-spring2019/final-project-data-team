{
 "cells": [
  {
   "cell_type": "code",
   "execution_count": 1,
   "metadata": {},
   "outputs": [],
   "source": [
    "# Needed for SQL Alchemy  \n",
    "from sqlalchemy import create_engine\n",
    "engine=create_engine('sqlite:///.CourseData',echo=False)\n",
    "\n",
    "# All query results are returned as Pandas DataFrames \n",
    "import pandas as pd\n",
    "\n",
    "#Used for importing CSVs\n",
    "import glob\n",
    "import os\n",
    "\n",
    "# Needed for %sql Magic\n",
    "%load_ext sql\n",
    "\n",
    "import sqlite3\n"
   ]
  },
  {
   "cell_type": "code",
   "execution_count": 2,
   "metadata": {},
   "outputs": [],
   "source": [
    "#Create CourseData and CourseDqtaWarehouse Databases\n",
    "conn = sqlite3.connect(\"./CourseData.db\")\n",
    "conn = sqlite3.connect(\"./CourseDataWarehouse.db\")"
   ]
  },
  {
   "cell_type": "code",
   "execution_count": 3,
   "metadata": {},
   "outputs": [],
   "source": [
    "CourseCatalog2017_2018=pd.read_csv(\"./SourceData/Catalogs/CourseCatalog2017_2018.csv\")\n",
    "CourseCatalog2018_2019=pd.read_csv(\"./SourceData/Catalogs/CourseCatalog2018_2019.csv\")"
   ]
  },
  {
   "cell_type": "code",
   "execution_count": 4,
   "metadata": {},
   "outputs": [
    {
     "data": {
      "text/plain": [
       "array(['Fall2015', 'Fall2014', 'Winter2015', 'Spring2015', 'Summer2015',\n",
       "       'Fall2016', 'Fall2018', 'Fall2017', 'Spring2019',\n",
       "       'SpringBreak2017', 'Spring2017', 'Winter2018', 'Winter2016',\n",
       "       'Spring2016', 'Spring2018', 'Winter2017', 'Summer2017',\n",
       "       'Summer2018', 'Summer2016'], dtype=object)"
      ]
     },
     "execution_count": 4,
     "metadata": {},
     "output_type": "execute_result"
    }
   ],
   "source": [
    "#Reading and combining all course meetings CSVs\n",
    "\n",
    "#Get list of folders/files in Source Data folder\n",
    "folders=glob.glob('./SourceData/*')\n",
    "\n",
    "#Delete folders/files from list that don't contain course meeting CSV files\n",
    "del folders[5]\n",
    "del folders[12]\n",
    "del folders[16]\n",
    "\n",
    "#Read CSVs from folders in list and combine into a single dataframe\n",
    "all_files=[]\n",
    "for path in folders:\n",
    "    all_files += glob.glob(os.path.join(path, \"course_meetings.csv\"))     # advisable to use os.path.join as this makes concatenation OS independent\n",
    "df_from_each_file = (pd.read_csv(f) for f in all_files)\n",
    "course_meetings = pd.concat(df_from_each_file, ignore_index=True, sort=True)\n",
    "\n",
    "course_meetings.term.unique()\n"
   ]
  },
  {
   "cell_type": "code",
   "execution_count": 5,
   "metadata": {},
   "outputs": [
    {
     "data": {
      "text/plain": [
       "array(['Fall2015', 'Fall2014', 'Winter2015', 'Spring2015', 'Summer2015',\n",
       "       'Fall2016', 'Fall2018', 'Fall2017', 'Spring2019',\n",
       "       'SpringBreak2017', 'Spring2017', 'Winter2018', 'Winter2016',\n",
       "       'Spring2016', 'Spring2018', 'Winter2017', 'Summer2017',\n",
       "       'Summer2018', 'Summer2016'], dtype=object)"
      ]
     },
     "execution_count": 5,
     "metadata": {},
     "output_type": "execute_result"
    }
   ],
   "source": [
    "#Reading and combining all courses CSVs\n",
    "\n",
    "#Get list of folders/files in Source Data folder\n",
    "folders=glob.glob('./SourceData/*')\n",
    "\n",
    "#Delete folders/files from list that don't contain courses CSV files\n",
    "del folders[5]\n",
    "del folders[12]\n",
    "del folders[16]\n",
    "\n",
    "#Read CSVs from folders in list and combine into a single dataframe\n",
    "all_files=[]\n",
    "for path in folders:\n",
    "    all_files += glob.glob(os.path.join(path, \"courses.csv\"))     # advisable to use os.path.join as this makes concatenation OS independent\n",
    "df_from_each_file = (pd.read_csv(f) for f in all_files)\n",
    "courses = pd.concat(df_from_each_file, ignore_index=True, sort=True)\n",
    "\n",
    "courses.term.unique()\n",
    "\n"
   ]
  },
  {
   "cell_type": "code",
   "execution_count": 15,
   "metadata": {},
   "outputs": [],
   "source": [
    "CourseCatalog2017_2018.to_sql('CourseCatalog2017_2018',con=engine,if_exists='replace')\n",
    "CourseCatalog2018_2019.to_sql('CourseCatalog2018_2019',con=engine,if_exists='replace')"
   ]
  },
  {
   "cell_type": "code",
   "execution_count": 33,
   "metadata": {},
   "outputs": [
    {
     "data": {
      "text/plain": [
       "317321"
      ]
     },
     "execution_count": 33,
     "metadata": {},
     "output_type": "execute_result"
    }
   ],
   "source": [
    "#Check length of course_meetings DataFrame\n",
    "len(course_meetings.index)"
   ]
  },
  {
   "cell_type": "code",
   "execution_count": 34,
   "metadata": {},
   "outputs": [],
   "source": [
    "#import course_meetings DataFrame to SQL as separate tables because DataFrame is too large to import at once.\n",
    "#Will use a union later in SQL to combine them\n",
    "\n",
    "course_meetings[:35000].to_sql('course_meetings1',con=engine,if_exists='replace')\n",
    "course_meetings[35000:70000].to_sql('course_meetings2',con=engine,if_exists='replace')\n",
    "course_meetings[70000:105000].to_sql('course_meetings3',con=engine,if_exists='replace')\n",
    "course_meetings[105000:140000].to_sql('course_meetings4',con=engine,if_exists='replace')\n",
    "course_meetings[140000:175000].to_sql('course_meetings5',con=engine,if_exists='replace')\n",
    "course_meetings[175000:210000].to_sql('course_meetings6',con=engine,if_exists='replace')\n",
    "course_meetings[210000:245000].to_sql('course_meetings7',con=engine,if_exists='replace')\n",
    "course_meetings[245000:280000].to_sql('course_meetings8',con=engine,if_exists='replace')\n",
    "course_meetings[280000:315000].to_sql('course_meetings9',con=engine,if_exists='replace')\n",
    "course_meetings[315000:].to_sql('course_meetings10',con=engine,if_exists='replace')"
   ]
  },
  {
   "cell_type": "code",
   "execution_count": 36,
   "metadata": {},
   "outputs": [
    {
     "data": {
      "text/plain": [
       "15937"
      ]
     },
     "execution_count": 36,
     "metadata": {},
     "output_type": "execute_result"
    }
   ],
   "source": [
    "#Check length of courses DataFrame\n",
    "len(courses.index)"
   ]
  },
  {
   "cell_type": "code",
   "execution_count": 37,
   "metadata": {},
   "outputs": [],
   "source": [
    "courses.to_sql('courses',con=engine,if_exists='replace')"
   ]
  },
  {
   "cell_type": "code",
   "execution_count": 38,
   "metadata": {},
   "outputs": [
    {
     "data": {
      "text/plain": [
       "'Connected: @.CourseData'"
      ]
     },
     "execution_count": 38,
     "metadata": {},
     "output_type": "execute_result"
    }
   ],
   "source": [
    "# Initialize \n",
    "%sql sqlite:///.CourseData"
   ]
  },
  {
   "cell_type": "code",
   "execution_count": 39,
   "metadata": {},
   "outputs": [
    {
     "name": "stdout",
     "output_type": "stream",
     "text": [
      " * sqlite:///.CourseData\n",
      "Done.\n"
     ]
    },
    {
     "data": {
      "text/html": [
       "<table>\n",
       "    <tr>\n",
       "        <th>name</th>\n",
       "        <th>sql</th>\n",
       "    </tr>\n",
       "    <tr>\n",
       "        <td>CourseCatalog2017_2018</td>\n",
       "        <td>CREATE TABLE &quot;CourseCatalog2017_2018&quot; (<br>\t&quot;index&quot; BIGINT, <br>\tprogram_code TEXT, <br>\tprogram_name TEXT, <br>\tcatalog_id TEXT, <br>\tcourse_title TEXT, <br>\tcredits TEXT, <br>\tprereqs TEXT, <br>\tcoreqs TEXT, <br>\tfees TEXT, <br>\tattributes TEXT, <br>\tdescription TEXT<br>)</td>\n",
       "    </tr>\n",
       "    <tr>\n",
       "        <td>CourseCatalog2018_2019</td>\n",
       "        <td>CREATE TABLE &quot;CourseCatalog2018_2019&quot; (<br>\t&quot;index&quot; BIGINT, <br>\tprogram_code TEXT, <br>\tprogram_name TEXT, <br>\tcatalog_id TEXT, <br>\tcourse_title TEXT, <br>\tcredits TEXT, <br>\tprereqs TEXT, <br>\tcoreqs TEXT, <br>\tfees TEXT, <br>\tattributes TEXT, <br>\tdescription TEXT<br>)</td>\n",
       "    </tr>\n",
       "    <tr>\n",
       "        <td>course_meetings1</td>\n",
       "        <td>CREATE TABLE course_meetings1 (<br>\t&quot;index&quot; BIGINT, <br>\tcrn BIGINT, <br>\tday TEXT, <br>\t&quot;end&quot; TEXT, <br>\tlocation TEXT, <br>\tstart TEXT, <br>\tterm TEXT<br>)</td>\n",
       "    </tr>\n",
       "    <tr>\n",
       "        <td>course_meetings10</td>\n",
       "        <td>CREATE TABLE course_meetings10 (<br>\t&quot;index&quot; BIGINT, <br>\tcrn BIGINT, <br>\tday TEXT, <br>\t&quot;end&quot; TEXT, <br>\tlocation TEXT, <br>\tstart TEXT, <br>\tterm TEXT<br>)</td>\n",
       "    </tr>\n",
       "    <tr>\n",
       "        <td>course_meetings2</td>\n",
       "        <td>CREATE TABLE course_meetings2 (<br>\t&quot;index&quot; BIGINT, <br>\tcrn BIGINT, <br>\tday TEXT, <br>\t&quot;end&quot; TEXT, <br>\tlocation TEXT, <br>\tstart TEXT, <br>\tterm TEXT<br>)</td>\n",
       "    </tr>\n",
       "    <tr>\n",
       "        <td>course_meetings3</td>\n",
       "        <td>CREATE TABLE course_meetings3 (<br>\t&quot;index&quot; BIGINT, <br>\tcrn BIGINT, <br>\tday TEXT, <br>\t&quot;end&quot; TEXT, <br>\tlocation TEXT, <br>\tstart TEXT, <br>\tterm TEXT<br>)</td>\n",
       "    </tr>\n",
       "    <tr>\n",
       "        <td>course_meetings4</td>\n",
       "        <td>CREATE TABLE course_meetings4 (<br>\t&quot;index&quot; BIGINT, <br>\tcrn BIGINT, <br>\tday TEXT, <br>\t&quot;end&quot; TEXT, <br>\tlocation TEXT, <br>\tstart TEXT, <br>\tterm TEXT<br>)</td>\n",
       "    </tr>\n",
       "    <tr>\n",
       "        <td>course_meetings5</td>\n",
       "        <td>CREATE TABLE course_meetings5 (<br>\t&quot;index&quot; BIGINT, <br>\tcrn BIGINT, <br>\tday TEXT, <br>\t&quot;end&quot; TEXT, <br>\tlocation TEXT, <br>\tstart TEXT, <br>\tterm TEXT<br>)</td>\n",
       "    </tr>\n",
       "    <tr>\n",
       "        <td>course_meetings6</td>\n",
       "        <td>CREATE TABLE course_meetings6 (<br>\t&quot;index&quot; BIGINT, <br>\tcrn BIGINT, <br>\tday TEXT, <br>\t&quot;end&quot; TEXT, <br>\tlocation TEXT, <br>\tstart TEXT, <br>\tterm TEXT<br>)</td>\n",
       "    </tr>\n",
       "    <tr>\n",
       "        <td>course_meetings7</td>\n",
       "        <td>CREATE TABLE course_meetings7 (<br>\t&quot;index&quot; BIGINT, <br>\tcrn BIGINT, <br>\tday TEXT, <br>\t&quot;end&quot; TEXT, <br>\tlocation TEXT, <br>\tstart TEXT, <br>\tterm TEXT<br>)</td>\n",
       "    </tr>\n",
       "    <tr>\n",
       "        <td>course_meetings8</td>\n",
       "        <td>CREATE TABLE course_meetings8 (<br>\t&quot;index&quot; BIGINT, <br>\tcrn BIGINT, <br>\tday TEXT, <br>\t&quot;end&quot; TEXT, <br>\tlocation TEXT, <br>\tstart TEXT, <br>\tterm TEXT<br>)</td>\n",
       "    </tr>\n",
       "    <tr>\n",
       "        <td>course_meetings9</td>\n",
       "        <td>CREATE TABLE course_meetings9 (<br>\t&quot;index&quot; BIGINT, <br>\tcrn BIGINT, <br>\tday TEXT, <br>\t&quot;end&quot; TEXT, <br>\tlocation TEXT, <br>\tstart TEXT, <br>\tterm TEXT<br>)</td>\n",
       "    </tr>\n",
       "    <tr>\n",
       "        <td>courses</td>\n",
       "        <td>CREATE TABLE courses (<br>\t&quot;index&quot; BIGINT, <br>\tact BIGINT, <br>\tcap BIGINT, <br>\tcatalog_id TEXT, <br>\tcredits TEXT, <br>\tcrn BIGINT, <br>\tmeetings TEXT, <br>\tprimary_instructor TEXT, <br>\trem BIGINT, <br>\tsection TEXT, <br>\tterm TEXT, <br>\ttimecodes TEXT, <br>\ttitle TEXT<br>)</td>\n",
       "    </tr>\n",
       "</table>"
      ],
      "text/plain": [
       "[('CourseCatalog2017_2018', 'CREATE TABLE \"CourseCatalog2017_2018\" (\\n\\t\"index\" BIGINT, \\n\\tprogram_code TEXT, \\n\\tprogram_name TEXT, \\n\\tcatalog_id TEXT, \\n\\tcourse_title TEXT, \\n\\tcredits TEXT, \\n\\tprereqs TEXT, \\n\\tcoreqs TEXT, \\n\\tfees TEXT, \\n\\tattributes TEXT, \\n\\tdescription TEXT\\n)'),\n",
       " ('CourseCatalog2018_2019', 'CREATE TABLE \"CourseCatalog2018_2019\" (\\n\\t\"index\" BIGINT, \\n\\tprogram_code TEXT, \\n\\tprogram_name TEXT, \\n\\tcatalog_id TEXT, \\n\\tcourse_title TEXT, \\n\\tcredits TEXT, \\n\\tprereqs TEXT, \\n\\tcoreqs TEXT, \\n\\tfees TEXT, \\n\\tattributes TEXT, \\n\\tdescription TEXT\\n)'),\n",
       " ('course_meetings1', 'CREATE TABLE course_meetings1 (\\n\\t\"index\" BIGINT, \\n\\tcrn BIGINT, \\n\\tday TEXT, \\n\\t\"end\" TEXT, \\n\\tlocation TEXT, \\n\\tstart TEXT, \\n\\tterm TEXT\\n)'),\n",
       " ('course_meetings10', 'CREATE TABLE course_meetings10 (\\n\\t\"index\" BIGINT, \\n\\tcrn BIGINT, \\n\\tday TEXT, \\n\\t\"end\" TEXT, \\n\\tlocation TEXT, \\n\\tstart TEXT, \\n\\tterm TEXT\\n)'),\n",
       " ('course_meetings2', 'CREATE TABLE course_meetings2 (\\n\\t\"index\" BIGINT, \\n\\tcrn BIGINT, \\n\\tday TEXT, \\n\\t\"end\" TEXT, \\n\\tlocation TEXT, \\n\\tstart TEXT, \\n\\tterm TEXT\\n)'),\n",
       " ('course_meetings3', 'CREATE TABLE course_meetings3 (\\n\\t\"index\" BIGINT, \\n\\tcrn BIGINT, \\n\\tday TEXT, \\n\\t\"end\" TEXT, \\n\\tlocation TEXT, \\n\\tstart TEXT, \\n\\tterm TEXT\\n)'),\n",
       " ('course_meetings4', 'CREATE TABLE course_meetings4 (\\n\\t\"index\" BIGINT, \\n\\tcrn BIGINT, \\n\\tday TEXT, \\n\\t\"end\" TEXT, \\n\\tlocation TEXT, \\n\\tstart TEXT, \\n\\tterm TEXT\\n)'),\n",
       " ('course_meetings5', 'CREATE TABLE course_meetings5 (\\n\\t\"index\" BIGINT, \\n\\tcrn BIGINT, \\n\\tday TEXT, \\n\\t\"end\" TEXT, \\n\\tlocation TEXT, \\n\\tstart TEXT, \\n\\tterm TEXT\\n)'),\n",
       " ('course_meetings6', 'CREATE TABLE course_meetings6 (\\n\\t\"index\" BIGINT, \\n\\tcrn BIGINT, \\n\\tday TEXT, \\n\\t\"end\" TEXT, \\n\\tlocation TEXT, \\n\\tstart TEXT, \\n\\tterm TEXT\\n)'),\n",
       " ('course_meetings7', 'CREATE TABLE course_meetings7 (\\n\\t\"index\" BIGINT, \\n\\tcrn BIGINT, \\n\\tday TEXT, \\n\\t\"end\" TEXT, \\n\\tlocation TEXT, \\n\\tstart TEXT, \\n\\tterm TEXT\\n)'),\n",
       " ('course_meetings8', 'CREATE TABLE course_meetings8 (\\n\\t\"index\" BIGINT, \\n\\tcrn BIGINT, \\n\\tday TEXT, \\n\\t\"end\" TEXT, \\n\\tlocation TEXT, \\n\\tstart TEXT, \\n\\tterm TEXT\\n)'),\n",
       " ('course_meetings9', 'CREATE TABLE course_meetings9 (\\n\\t\"index\" BIGINT, \\n\\tcrn BIGINT, \\n\\tday TEXT, \\n\\t\"end\" TEXT, \\n\\tlocation TEXT, \\n\\tstart TEXT, \\n\\tterm TEXT\\n)'),\n",
       " ('courses', 'CREATE TABLE courses (\\n\\t\"index\" BIGINT, \\n\\tact BIGINT, \\n\\tcap BIGINT, \\n\\tcatalog_id TEXT, \\n\\tcredits TEXT, \\n\\tcrn BIGINT, \\n\\tmeetings TEXT, \\n\\tprimary_instructor TEXT, \\n\\trem BIGINT, \\n\\tsection TEXT, \\n\\tterm TEXT, \\n\\ttimecodes TEXT, \\n\\ttitle TEXT\\n)')]"
      ]
     },
     "execution_count": 39,
     "metadata": {},
     "output_type": "execute_result"
    }
   ],
   "source": [
    "%%sql\n",
    "\n",
    "SELECT name, sql FROM sqlite_master\n",
    "WHERE type='table'\n",
    "ORDER BY name;"
   ]
  },
  {
   "cell_type": "code",
   "execution_count": null,
   "metadata": {},
   "outputs": [],
   "source": []
  },
  {
   "cell_type": "code",
   "execution_count": null,
   "metadata": {},
   "outputs": [],
   "source": []
  }
 ],
 "metadata": {
  "kernelspec": {
   "display_name": "Python 3",
   "language": "python",
   "name": "python3"
  },
  "language_info": {
   "codemirror_mode": {
    "name": "ipython",
    "version": 3
   },
   "file_extension": ".py",
   "mimetype": "text/x-python",
   "name": "python",
   "nbconvert_exporter": "python",
   "pygments_lexer": "ipython3",
   "version": "3.6.8"
  }
 },
 "nbformat": 4,
 "nbformat_minor": 2
}
