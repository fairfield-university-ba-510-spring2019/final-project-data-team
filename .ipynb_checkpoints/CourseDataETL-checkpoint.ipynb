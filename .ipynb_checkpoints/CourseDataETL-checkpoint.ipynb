{
 "cells": [
  {
   "cell_type": "code",
   "execution_count": 18,
   "metadata": {},
   "outputs": [
    {
     "name": "stdout",
     "output_type": "stream",
     "text": [
      "The sql extension is already loaded. To reload it, use:\n",
      "  %reload_ext sql\n"
     ]
    }
   ],
   "source": [
    "# Needed for SQL Alchemy  \n",
    "from sqlalchemy import create_engine\n",
    "\n",
    "# All query results are returned as Pandas DataFrames \n",
    "import pandas as pd\n",
    "\n",
    "#Used for importing CSVs\n",
    "import glob\n",
    "import os\n",
    "\n",
    "# Needed for %sql Magic\n",
    "%load_ext sql\n",
    "\n",
    "import sqlite3"
   ]
  },
  {
   "cell_type": "code",
   "execution_count": 9,
   "metadata": {},
   "outputs": [],
   "source": [
    "#Create CourseData and CourseDqtaWarehouse Databases\n",
    "conn = sqlite3.connect(\"./CourseData.db\")\n",
    "conn = sqlite3.connect(\"./CourseDataWarehouse.db\")"
   ]
  },
  {
   "cell_type": "code",
   "execution_count": 10,
   "metadata": {},
   "outputs": [
    {
     "name": "stdout",
     "output_type": "stream",
     "text": [
      "./SourceData/Catalogs/CourseCatalog2017_2018.csv=pd.read_csv(\"./SourceData/Catalogs/CourseCatalog2017_2018.csv\")\n",
      "./SourceData/Catalogs/CourseCatalog2018_2019.csv=pd.read_csv(\"./SourceData/Catalogs/CourseCatalog2018_2019.csv\")\n"
     ]
    }
   ],
   "source": [
    "#Read Catalog csv files into Pandas Dataframes\n",
    "\n",
    "# Create the list of file names: \n",
    "glob.glob('./SourceData/Catalogs/*.csv')\n",
    "\n",
    "#Create list of read_csv scripts, copy in, and run:\n",
    "l=[]\n",
    "for file in glob.glob('./SourceData/Catalogs/*.csv'):\n",
    "    l.append(file+r'=pd.read_csv(\"'+file+r'\")')\n",
    "    print(file+r'=pd.read_csv(\"'+file+r'\")')"
   ]
  },
  {
   "cell_type": "code",
   "execution_count": 13,
   "metadata": {},
   "outputs": [],
   "source": [
    "CourseCatalog2017_2018=pd.read_csv(\"./SourceData/Catalogs/CourseCatalog2017_2018.csv\")\n",
    "CourseCatalog2018_2019=pd.read_csv(\"./SourceData/Catalogs/CourseCatalog2018_2019.csv\")"
   ]
  },
  {
   "cell_type": "code",
   "execution_count": 19,
   "metadata": {},
   "outputs": [
    {
     "data": {
      "text/plain": [
       "array(['Fall2015', 'Fall2014', 'Winter2015', 'Spring2015', 'Summer2015',\n",
       "       'Fall2016', 'Fall2018', 'Fall2017', 'Spring2019',\n",
       "       'SpringBreak2017', 'Spring2017', 'Winter2018', 'Winter2016',\n",
       "       'Spring2016', 'Spring2018', 'Winter2017', 'Summer2017',\n",
       "       'Summer2018', 'Summer2016'], dtype=object)"
      ]
     },
     "execution_count": 19,
     "metadata": {},
     "output_type": "execute_result"
    }
   ],
   "source": [
    "#Reading and combining all course meetings CSVs\n",
    "\n",
    "#Get list of folders/files in Source Data folder\n",
    "folders=glob.glob('./SourceData/*')\n",
    "\n",
    "#Delete folders/files from list that don't contain course meeting CSV files\n",
    "del folders[5]\n",
    "del folders[12]\n",
    "del folders[16]\n",
    "\n",
    "#Read CSVs from folders in list and combine into a single dataframe\n",
    "all_files=[]\n",
    "for path in folders:\n",
    "    all_files += glob.glob(os.path.join(path, \"course_meetings.csv\"))     # advisable to use os.path.join as this makes concatenation OS independent\n",
    "df_from_each_file = (pd.read_csv(f) for f in all_files)\n",
    "course_meetings = pd.concat(df_from_each_file, ignore_index=True, sort=True)\n",
    "\n",
    "course_meetings.term.unique()\n"
   ]
  },
  {
   "cell_type": "code",
   "execution_count": 20,
   "metadata": {},
   "outputs": [
    {
     "data": {
      "text/plain": [
       "array(['Fall2015', 'Fall2014', 'Winter2015', 'Spring2015', 'Summer2015',\n",
       "       'Fall2016', 'Fall2018', 'Fall2017', 'Spring2019',\n",
       "       'SpringBreak2017', 'Spring2017', 'Winter2018', 'Winter2016',\n",
       "       'Spring2016', 'Spring2018', 'Winter2017', 'Summer2017',\n",
       "       'Summer2018', 'Summer2016'], dtype=object)"
      ]
     },
     "execution_count": 20,
     "metadata": {},
     "output_type": "execute_result"
    }
   ],
   "source": [
    "#Reading and combining all courses CSVs\n",
    "\n",
    "#Get list of folders/files in Source Data folder\n",
    "folders=glob.glob('./SourceData/*')\n",
    "\n",
    "#Delete folders/files from list that don't contain courses CSV files\n",
    "del folders[5]\n",
    "del folders[12]\n",
    "del folders[16]\n",
    "\n",
    "#Read CSVs from folders in list and combine into a single dataframe\n",
    "all_files=[]\n",
    "for path in folders:\n",
    "    all_files += glob.glob(os.path.join(path, \"courses.csv\"))     # advisable to use os.path.join as this makes concatenation OS independent\n",
    "df_from_each_file = (pd.read_csv(f) for f in all_files)\n",
    "courses = pd.concat(df_from_each_file, ignore_index=True, sort=True)\n",
    "\n",
    "courses.term.unique()\n",
    "\n"
   ]
  },
  {
   "cell_type": "code",
   "execution_count": 25,
   "metadata": {},
   "outputs": [],
   "source": [
    "conn = sqlite3.connect(\"CourseData.db\")\n",
    "\n",
    "CourseCatalog2017_2018.to_sql('CourseCatalog2017_2018',conn,if_exists='replace')\n",
    "CourseCatalog2018_2019.to_sql('CourseCatalog2018_2019',conn,if_exists='replace')\n",
    "course_meetings.to_sql('course_meetings',conn,if_exists='replace')\n",
    "courses.to_sql('courses',conn,if_exists='replace')"
   ]
  },
  {
   "cell_type": "code",
   "execution_count": null,
   "metadata": {},
   "outputs": [],
   "source": [
    "%%sql\n"
   ]
  }
 ],
 "metadata": {
  "kernelspec": {
   "display_name": "Python 3",
   "language": "python",
   "name": "python3"
  },
  "language_info": {
   "codemirror_mode": {
    "name": "ipython",
    "version": 3
   },
   "file_extension": ".py",
   "mimetype": "text/x-python",
   "name": "python",
   "nbconvert_exporter": "python",
   "pygments_lexer": "ipython3",
   "version": "3.6.8"
  }
 },
 "nbformat": 4,
 "nbformat_minor": 2
}
