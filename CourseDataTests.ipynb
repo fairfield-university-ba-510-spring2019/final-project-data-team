{
 "cells": [
  {
   "cell_type": "markdown",
   "metadata": {},
   "source": [
    "# Importing Necessary Packages and Connecting to Database"
   ]
  },
  {
   "cell_type": "code",
   "execution_count": 1,
   "metadata": {},
   "outputs": [
    {
     "data": {
      "text/plain": [
       "'Connected: @CourseData.db'"
      ]
     },
     "execution_count": 1,
     "metadata": {},
     "output_type": "execute_result"
    }
   ],
   "source": [
    "# Needed for SQL Alchemy  \n",
    "from sqlalchemy import create_engine\n",
    "engine=create_engine('sqlite:///CourseData',echo=False)\n",
    "\n",
    "# Needed for %sql Magic\n",
    "%load_ext sql\n",
    "\n",
    "import sqlite3\n",
    "\n",
    "# Initialize \n",
    "%sql sqlite:///CourseData.db"
   ]
  },
  {
   "cell_type": "markdown",
   "metadata": {},
   "source": [
    "## Domain Integrity Checks"
   ]
  },
  {
   "cell_type": "code",
   "execution_count": 2,
   "metadata": {},
   "outputs": [
    {
     "name": "stdout",
     "output_type": "stream",
     "text": [
      " * sqlite:///CourseData.db\n",
      "Done.\n"
     ]
    },
    {
     "data": {
      "text/html": [
       "<table>\n",
       "    <tr>\n",
       "        <th>count(catalog_id)</th>\n",
       "    </tr>\n",
       "    <tr>\n",
       "        <td>13860</td>\n",
       "    </tr>\n",
       "</table>"
      ],
      "text/plain": [
       "[(13860,)]"
      ]
     },
     "execution_count": 2,
     "metadata": {},
     "output_type": "execute_result"
    }
   ],
   "source": [
    "%%sql\n",
    "SELECT count(catalog_id)\n",
    "FROM CRN;\n"
   ]
  },
  {
   "cell_type": "code",
   "execution_count": 3,
   "metadata": {},
   "outputs": [
    {
     "name": "stdout",
     "output_type": "stream",
     "text": [
      " * sqlite:///CourseData.db\n",
      "Done.\n"
     ]
    },
    {
     "data": {
      "text/html": [
       "<table>\n",
       "    <tr>\n",
       "        <th>count(catalog_id)</th>\n",
       "    </tr>\n",
       "    <tr>\n",
       "        <td>13860</td>\n",
       "    </tr>\n",
       "</table>"
      ],
      "text/plain": [
       "[(13860,)]"
      ]
     },
     "execution_count": 3,
     "metadata": {},
     "output_type": "execute_result"
    }
   ],
   "source": [
    "%%sql\n",
    "SELECT DISTINCT count(catalog_id)\n",
    "FROM CRN;"
   ]
  },
  {
   "cell_type": "code",
   "execution_count": 4,
   "metadata": {},
   "outputs": [
    {
     "name": "stdout",
     "output_type": "stream",
     "text": [
      " * sqlite:///CourseData.db\n",
      "Done.\n"
     ]
    },
    {
     "data": {
      "text/html": [
       "<table>\n",
       "    <tr>\n",
       "        <th>count(StartTime)</th>\n",
       "    </tr>\n",
       "    <tr>\n",
       "        <td>17</td>\n",
       "    </tr>\n",
       "</table>"
      ],
      "text/plain": [
       "[(17,)]"
      ]
     },
     "execution_count": 4,
     "metadata": {},
     "output_type": "execute_result"
    }
   ],
   "source": [
    "%%sql \n",
    "SELECT count(StartTime)\n",
    "FROM COURSE;"
   ]
  },
  {
   "cell_type": "code",
   "execution_count": 5,
   "metadata": {},
   "outputs": [
    {
     "name": "stdout",
     "output_type": "stream",
     "text": [
      " * sqlite:///CourseData.db\n",
      "Done.\n"
     ]
    },
    {
     "data": {
      "text/html": [
       "<table>\n",
       "    <tr>\n",
       "        <th>count(EndTime)</th>\n",
       "    </tr>\n",
       "    <tr>\n",
       "        <td>17</td>\n",
       "    </tr>\n",
       "</table>"
      ],
      "text/plain": [
       "[(17,)]"
      ]
     },
     "execution_count": 5,
     "metadata": {},
     "output_type": "execute_result"
    }
   ],
   "source": [
    "%%sql\n",
    "SELECT count(EndTime)\n",
    "FROM COURSE;"
   ]
  },
  {
   "cell_type": "markdown",
   "metadata": {},
   "source": [
    "## Entity Integrity Constraints"
   ]
  },
  {
   "cell_type": "code",
   "execution_count": 6,
   "metadata": {},
   "outputs": [
    {
     "name": "stdout",
     "output_type": "stream",
     "text": [
      " * sqlite:///CourseData.db\n",
      "Done.\n"
     ]
    },
    {
     "data": {
      "text/html": [
       "<table>\n",
       "    <tr>\n",
       "        <th>CRN_Term Null Values</th>\n",
       "    </tr>\n",
       "    <tr>\n",
       "        <td>0</td>\n",
       "    </tr>\n",
       "</table>"
      ],
      "text/plain": [
       "[(0,)]"
      ]
     },
     "execution_count": 6,
     "metadata": {},
     "output_type": "execute_result"
    }
   ],
   "source": [
    "%%sql\n",
    "SELECT sum(crn_term) IS NULL as 'CRN_Term Null Values'\n",
    "FROM CRN;"
   ]
  },
  {
   "cell_type": "code",
   "execution_count": 7,
   "metadata": {},
   "outputs": [
    {
     "name": "stdout",
     "output_type": "stream",
     "text": [
      " * sqlite:///CourseData.db\n",
      "Done.\n"
     ]
    },
    {
     "data": {
      "text/html": [
       "<table>\n",
       "    <tr>\n",
       "        <th>Number of crn_term</th>\n",
       "    </tr>\n",
       "    <tr>\n",
       "        <td>13860</td>\n",
       "    </tr>\n",
       "</table>"
      ],
      "text/plain": [
       "[(13860,)]"
      ]
     },
     "execution_count": 7,
     "metadata": {},
     "output_type": "execute_result"
    }
   ],
   "source": [
    "%%sql\n",
    "SELECT count(crn_term) as 'Number of crn_term'\n",
    "FROM CRN;"
   ]
  },
  {
   "cell_type": "code",
   "execution_count": 8,
   "metadata": {},
   "outputs": [
    {
     "name": "stdout",
     "output_type": "stream",
     "text": [
      " * sqlite:///CourseData.db\n",
      "Done.\n"
     ]
    },
    {
     "data": {
      "text/html": [
       "<table>\n",
       "    <tr>\n",
       "        <th>Number of crn_term</th>\n",
       "    </tr>\n",
       "    <tr>\n",
       "        <td>13860</td>\n",
       "    </tr>\n",
       "</table>"
      ],
      "text/plain": [
       "[(13860,)]"
      ]
     },
     "execution_count": 8,
     "metadata": {},
     "output_type": "execute_result"
    }
   ],
   "source": [
    "%%sql\n",
    "SELECT DISTINCT count(crn_term) as 'Number of crn_term'\n",
    "FROM CRN;"
   ]
  },
  {
   "cell_type": "code",
   "execution_count": 9,
   "metadata": {},
   "outputs": [
    {
     "name": "stdout",
     "output_type": "stream",
     "text": [
      " * sqlite:///CourseData.db\n",
      "Done.\n"
     ]
    },
    {
     "data": {
      "text/html": [
       "<table>\n",
       "    <tr>\n",
       "        <th>Term Null Values</th>\n",
       "    </tr>\n",
       "    <tr>\n",
       "        <td>0</td>\n",
       "    </tr>\n",
       "</table>"
      ],
      "text/plain": [
       "[(0,)]"
      ]
     },
     "execution_count": 9,
     "metadata": {},
     "output_type": "execute_result"
    }
   ],
   "source": [
    "%%sql\n",
    "SELECT sum(Term) IS NULL as 'Term Null Values'\n",
    "FROM terms;"
   ]
  },
  {
   "cell_type": "code",
   "execution_count": 10,
   "metadata": {},
   "outputs": [
    {
     "name": "stdout",
     "output_type": "stream",
     "text": [
      " * sqlite:///CourseData.db\n",
      "Done.\n"
     ]
    },
    {
     "data": {
      "text/html": [
       "<table>\n",
       "    <tr>\n",
       "        <th>Number of Terms</th>\n",
       "    </tr>\n",
       "    <tr>\n",
       "        <td>16</td>\n",
       "    </tr>\n",
       "</table>"
      ],
      "text/plain": [
       "[(16,)]"
      ]
     },
     "execution_count": 10,
     "metadata": {},
     "output_type": "execute_result"
    }
   ],
   "source": [
    "%%sql\n",
    "SELECT count(term) as 'Number of Terms'\n",
    "FROM terms;"
   ]
  },
  {
   "cell_type": "code",
   "execution_count": 11,
   "metadata": {},
   "outputs": [
    {
     "name": "stdout",
     "output_type": "stream",
     "text": [
      " * sqlite:///CourseData.db\n",
      "Done.\n"
     ]
    },
    {
     "data": {
      "text/html": [
       "<table>\n",
       "    <tr>\n",
       "        <th>Number of Terms</th>\n",
       "    </tr>\n",
       "    <tr>\n",
       "        <td>16</td>\n",
       "    </tr>\n",
       "</table>"
      ],
      "text/plain": [
       "[(16,)]"
      ]
     },
     "execution_count": 11,
     "metadata": {},
     "output_type": "execute_result"
    }
   ],
   "source": [
    "%%sql\n",
    "SELECT DISTINCT count(term) as 'Number of Terms'\n",
    "FROM Terms;"
   ]
  },
  {
   "cell_type": "code",
   "execution_count": 12,
   "metadata": {},
   "outputs": [
    {
     "name": "stdout",
     "output_type": "stream",
     "text": [
      " * sqlite:///CourseData.db\n",
      "Done.\n"
     ]
    },
    {
     "data": {
      "text/html": [
       "<table>\n",
       "    <tr>\n",
       "        <th>CalendarDate Null Values</th>\n",
       "    </tr>\n",
       "    <tr>\n",
       "        <td>0</td>\n",
       "    </tr>\n",
       "</table>"
      ],
      "text/plain": [
       "[(0,)]"
      ]
     },
     "execution_count": 12,
     "metadata": {},
     "output_type": "execute_result"
    }
   ],
   "source": [
    "%%sql\n",
    "Select sum(CalendarDate) IS NUll as 'CalendarDate Null Values'\n",
    "FROM Calendar;"
   ]
  },
  {
   "cell_type": "code",
   "execution_count": 13,
   "metadata": {},
   "outputs": [
    {
     "name": "stdout",
     "output_type": "stream",
     "text": [
      " * sqlite:///CourseData.db\n",
      "Done.\n"
     ]
    },
    {
     "data": {
      "text/html": [
       "<table>\n",
       "    <tr>\n",
       "        <th>Number of Dates</th>\n",
       "    </tr>\n",
       "    <tr>\n",
       "        <td>1734</td>\n",
       "    </tr>\n",
       "</table>"
      ],
      "text/plain": [
       "[(1734,)]"
      ]
     },
     "execution_count": 13,
     "metadata": {},
     "output_type": "execute_result"
    }
   ],
   "source": [
    "%%sql\n",
    "SELECT count(CalendarDate) as 'Number of Dates'\n",
    "FROM Calendar;"
   ]
  },
  {
   "cell_type": "code",
   "execution_count": 14,
   "metadata": {},
   "outputs": [
    {
     "name": "stdout",
     "output_type": "stream",
     "text": [
      " * sqlite:///CourseData.db\n",
      "Done.\n"
     ]
    },
    {
     "data": {
      "text/html": [
       "<table>\n",
       "    <tr>\n",
       "        <th>Number of Dates</th>\n",
       "    </tr>\n",
       "    <tr>\n",
       "        <td>1734</td>\n",
       "    </tr>\n",
       "</table>"
      ],
      "text/plain": [
       "[(1734,)]"
      ]
     },
     "execution_count": 14,
     "metadata": {},
     "output_type": "execute_result"
    }
   ],
   "source": [
    "%%sql\n",
    "\n",
    "Select DISTINCT count(CalendarDate) as 'Number of Dates'\n",
    "FROM Calendar;"
   ]
  },
  {
   "cell_type": "markdown",
   "metadata": {},
   "source": [
    "## Referential Integrity Constraints"
   ]
  },
  {
   "cell_type": "code",
   "execution_count": 15,
   "metadata": {},
   "outputs": [
    {
     "name": "stdout",
     "output_type": "stream",
     "text": [
      " * sqlite:///CourseData.db\n",
      "Done.\n"
     ]
    },
    {
     "data": {
      "text/html": [
       "<table>\n",
       "    <tr>\n",
       "        <th>CRN_Term</th>\n",
       "        <th>CRN</th>\n",
       "        <th>Term</th>\n",
       "        <th>Title</th>\n",
       "        <th>Section</th>\n",
       "        <th>Catalog_ID</th>\n",
       "        <th>act</th>\n",
       "        <th>cap</th>\n",
       "        <th>rem</th>\n",
       "        <th>location</th>\n",
       "        <th>CRN_Term_1</th>\n",
       "        <th>Primary_Instructor</th>\n",
       "        <th>StartTime</th>\n",
       "        <th>EndTime</th>\n",
       "    </tr>\n",
       "    <tr>\n",
       "        <td>71576 Fall2014</td>\n",
       "        <td>71576</td>\n",
       "        <td>Fall2014</td>\n",
       "        <td>Health and Wellness Clinical</td>\n",
       "        <td>C</td>\n",
       "        <td>NS 0301C</td>\n",
       "        <td>6</td>\n",
       "        <td>7</td>\n",
       "        <td>1</td>\n",
       "        <td>TBA</td>\n",
       "        <td>71576 Fall2014</td>\n",
       "        <td>Kelly Ann  Sullivan</td>\n",
       "        <td>08:00:00</td>\n",
       "        <td>15:00:00</td>\n",
       "    </tr>\n",
       "    <tr>\n",
       "        <td>71578 Fall2014</td>\n",
       "        <td>71578</td>\n",
       "        <td>Fall2014</td>\n",
       "        <td>Health and Wellness Clinical</td>\n",
       "        <td>D</td>\n",
       "        <td>NS 0301C</td>\n",
       "        <td>7</td>\n",
       "        <td>7</td>\n",
       "        <td>0</td>\n",
       "        <td>TBA</td>\n",
       "        <td>71578 Fall2014</td>\n",
       "        <td>Sheila S.  Iacono</td>\n",
       "        <td>08:00:00</td>\n",
       "        <td>15:00:00</td>\n",
       "    </tr>\n",
       "    <tr>\n",
       "        <td>71580 Fall2014</td>\n",
       "        <td>71580</td>\n",
       "        <td>Fall2014</td>\n",
       "        <td>Health and Wellness Clinical</td>\n",
       "        <td>E</td>\n",
       "        <td>NS 0301C</td>\n",
       "        <td>7</td>\n",
       "        <td>7</td>\n",
       "        <td>0</td>\n",
       "        <td>TBA</td>\n",
       "        <td>71580 Fall2014</td>\n",
       "        <td>Suzanne T.  Chaplik</td>\n",
       "        <td>08:00:00</td>\n",
       "        <td>15:00:00</td>\n",
       "    </tr>\n",
       "    <tr>\n",
       "        <td>71581 Fall2014</td>\n",
       "        <td>71581</td>\n",
       "        <td>Fall2014</td>\n",
       "        <td>Health and Wellness Clinical</td>\n",
       "        <td>F</td>\n",
       "        <td>NS 0301C</td>\n",
       "        <td>8</td>\n",
       "        <td>8</td>\n",
       "        <td>0</td>\n",
       "        <td>TBA</td>\n",
       "        <td>71581 Fall2014</td>\n",
       "        <td>Katherine Marie  Saracino</td>\n",
       "        <td>08:00:00</td>\n",
       "        <td>15:00:00</td>\n",
       "    </tr>\n",
       "    <tr>\n",
       "        <td>71585 Fall2014</td>\n",
       "        <td>71585</td>\n",
       "        <td>Fall2014</td>\n",
       "        <td>Health and Wellness Clinical</td>\n",
       "        <td>G</td>\n",
       "        <td>NS 0301C</td>\n",
       "        <td>7</td>\n",
       "        <td>7</td>\n",
       "        <td>0</td>\n",
       "        <td>TBA</td>\n",
       "        <td>71585 Fall2014</td>\n",
       "        <td>Laura A.  Conklin</td>\n",
       "        <td>08:00:00</td>\n",
       "        <td>15:00:00</td>\n",
       "    </tr>\n",
       "</table>"
      ],
      "text/plain": [
       "[('71576 Fall2014', '71576', 'Fall2014', 'Health and Wellness Clinical', 'C', 'NS 0301C', '6', '7', '1', 'TBA', '71576 Fall2014', 'Kelly Ann  Sullivan', '08:00:00', '15:00:00'),\n",
       " ('71578 Fall2014', '71578', 'Fall2014', 'Health and Wellness Clinical', 'D', 'NS 0301C', '7', '7', '0', 'TBA', '71578 Fall2014', 'Sheila S.  Iacono', '08:00:00', '15:00:00'),\n",
       " ('71580 Fall2014', '71580', 'Fall2014', 'Health and Wellness Clinical', 'E', 'NS 0301C', '7', '7', '0', 'TBA', '71580 Fall2014', 'Suzanne T.  Chaplik', '08:00:00', '15:00:00'),\n",
       " ('71581 Fall2014', '71581', 'Fall2014', 'Health and Wellness Clinical', 'F', 'NS 0301C', '8', '8', '0', 'TBA', '71581 Fall2014', 'Katherine Marie  Saracino', '08:00:00', '15:00:00'),\n",
       " ('71585 Fall2014', '71585', 'Fall2014', 'Health and Wellness Clinical', 'G', 'NS 0301C', '7', '7', '0', 'TBA', '71585 Fall2014', 'Laura A.  Conklin', '08:00:00', '15:00:00')]"
      ]
     },
     "execution_count": 15,
     "metadata": {},
     "output_type": "execute_result"
    }
   ],
   "source": [
    "%%sql\n",
    "select *\n",
    "from CRN\n",
    "join\n",
    "Course on crn.crn_term=Course.crn_term\n",
    "limit 5;"
   ]
  },
  {
   "cell_type": "code",
   "execution_count": 16,
   "metadata": {},
   "outputs": [
    {
     "name": "stdout",
     "output_type": "stream",
     "text": [
      " * sqlite:///CourseData.db\n",
      "Done.\n"
     ]
    },
    {
     "data": {
      "text/html": [
       "<table>\n",
       "    <tr>\n",
       "        <th>Term</th>\n",
       "        <th>Primary_Instructor</th>\n",
       "    </tr>\n",
       "    <tr>\n",
       "        <td>Fall2014</td>\n",
       "        <td>Kelly Ann  Sullivan</td>\n",
       "    </tr>\n",
       "    <tr>\n",
       "        <td>Fall2014</td>\n",
       "        <td>Sheila S.  Iacono</td>\n",
       "    </tr>\n",
       "    <tr>\n",
       "        <td>Fall2014</td>\n",
       "        <td>Suzanne T.  Chaplik</td>\n",
       "    </tr>\n",
       "    <tr>\n",
       "        <td>Fall2014</td>\n",
       "        <td>Katherine Marie  Saracino</td>\n",
       "    </tr>\n",
       "    <tr>\n",
       "        <td>Fall2014</td>\n",
       "        <td>Laura A.  Conklin</td>\n",
       "    </tr>\n",
       "    <tr>\n",
       "        <td>Fall2014</td>\n",
       "        <td>Julie Christine  McCullough</td>\n",
       "    </tr>\n",
       "    <tr>\n",
       "        <td>Fall2014</td>\n",
       "        <td>Susan N.  Bartos</td>\n",
       "    </tr>\n",
       "    <tr>\n",
       "        <td>Fall2014</td>\n",
       "        <td>Danielle E.  Hall</td>\n",
       "    </tr>\n",
       "    <tr>\n",
       "        <td>Fall2014</td>\n",
       "        <td>Katherine Marie  Saracino</td>\n",
       "    </tr>\n",
       "    <tr>\n",
       "        <td>Fall2014</td>\n",
       "        <td>Katherine Marie  Saracino</td>\n",
       "    </tr>\n",
       "    <tr>\n",
       "        <td>Fall2014</td>\n",
       "        <td>Leslie A.  Lincoln</td>\n",
       "    </tr>\n",
       "    <tr>\n",
       "        <td>Fall2014</td>\n",
       "        <td>Karen H.  Burrows</td>\n",
       "    </tr>\n",
       "    <tr>\n",
       "        <td>Fall2014</td>\n",
       "        <td>Suzanne M.  O&#x27;Connor</td>\n",
       "    </tr>\n",
       "    <tr>\n",
       "        <td>Summer2015</td>\n",
       "        <td>Sally O.  Gerard</td>\n",
       "    </tr>\n",
       "    <tr>\n",
       "        <td>Spring2015</td>\n",
       "        <td>Lydia H.  Greiner</td>\n",
       "    </tr>\n",
       "    <tr>\n",
       "        <td>Spring2015</td>\n",
       "        <td>Jessica   Planas</td>\n",
       "    </tr>\n",
       "    <tr>\n",
       "        <td>Fall2015</td>\n",
       "        <td>Sandy Natalie  Cayo</td>\n",
       "    </tr>\n",
       "</table>"
      ],
      "text/plain": [
       "[('Fall2014', 'Kelly Ann  Sullivan'),\n",
       " ('Fall2014', 'Sheila S.  Iacono'),\n",
       " ('Fall2014', 'Suzanne T.  Chaplik'),\n",
       " ('Fall2014', 'Katherine Marie  Saracino'),\n",
       " ('Fall2014', 'Laura A.  Conklin'),\n",
       " ('Fall2014', 'Julie Christine  McCullough'),\n",
       " ('Fall2014', 'Susan N.  Bartos'),\n",
       " ('Fall2014', 'Danielle E.  Hall'),\n",
       " ('Fall2014', 'Katherine Marie  Saracino'),\n",
       " ('Fall2014', 'Katherine Marie  Saracino'),\n",
       " ('Fall2014', 'Leslie A.  Lincoln'),\n",
       " ('Fall2014', 'Karen H.  Burrows'),\n",
       " ('Fall2014', \"Suzanne M.  O'Connor\"),\n",
       " ('Summer2015', 'Sally O.  Gerard'),\n",
       " ('Spring2015', 'Lydia H.  Greiner'),\n",
       " ('Spring2015', 'Jessica   Planas'),\n",
       " ('Fall2015', 'Sandy Natalie  Cayo')]"
      ]
     },
     "execution_count": 16,
     "metadata": {},
     "output_type": "execute_result"
    }
   ],
   "source": [
    "%%sql\n",
    "select CRN.Term, Course.Primary_Instructor\n",
    "from CRN\n",
    "JOIN Course ON crn.crn_term=Course.crn_term;"
   ]
  },
  {
   "cell_type": "markdown",
   "metadata": {},
   "source": [
    "## Fun Queries"
   ]
  },
  {
   "cell_type": "code",
   "execution_count": 17,
   "metadata": {},
   "outputs": [
    {
     "name": "stdout",
     "output_type": "stream",
     "text": [
      " * sqlite:///CourseData.db\n",
      "Done.\n"
     ]
    },
    {
     "data": {
      "text/html": [
       "<table>\n",
       "    <tr>\n",
       "        <th>Average Remaining Seats</th>\n",
       "    </tr>\n",
       "    <tr>\n",
       "        <td>0.11764705882352941</td>\n",
       "    </tr>\n",
       "</table>"
      ],
      "text/plain": [
       "[(0.11764705882352941,)]"
      ]
     },
     "execution_count": 17,
     "metadata": {},
     "output_type": "execute_result"
    }
   ],
   "source": [
    "%%sql\n",
    "\n",
    "Select avg(rem) AS 'Average Remaining Seats'\n",
    "FROM course;"
   ]
  },
  {
   "cell_type": "code",
   "execution_count": 18,
   "metadata": {},
   "outputs": [
    {
     "name": "stdout",
     "output_type": "stream",
     "text": [
      " * sqlite:///CourseData.db\n",
      "Done.\n"
     ]
    },
    {
     "data": {
      "text/html": [
       "<table>\n",
       "    <tr>\n",
       "        <th>StartTime</th>\n",
       "        <th>Average Remaining Seats</th>\n",
       "    </tr>\n",
       "    <tr>\n",
       "        <td>08:00:00</td>\n",
       "        <td>0.125</td>\n",
       "    </tr>\n",
       "</table>"
      ],
      "text/plain": [
       "[('08:00:00', 0.125)]"
      ]
     },
     "execution_count": 18,
     "metadata": {},
     "output_type": "execute_result"
    }
   ],
   "source": [
    "%%sql \n",
    "SELECT  StartTime, avg(rem) AS 'Average Remaining Seats'\n",
    "FROM course\n",
    "WHERE StartTime = '08:00:00';"
   ]
  },
  {
   "cell_type": "code",
   "execution_count": null,
   "metadata": {},
   "outputs": [],
   "source": []
  }
 ],
 "metadata": {
  "kernelspec": {
   "display_name": "Python 3",
   "language": "python",
   "name": "python3"
  },
  "language_info": {
   "codemirror_mode": {
    "name": "ipython",
    "version": 3
   },
   "file_extension": ".py",
   "mimetype": "text/x-python",
   "name": "python",
   "nbconvert_exporter": "python",
   "pygments_lexer": "ipython3",
   "version": "3.6.5"
  }
 },
 "nbformat": 4,
 "nbformat_minor": 2
}
